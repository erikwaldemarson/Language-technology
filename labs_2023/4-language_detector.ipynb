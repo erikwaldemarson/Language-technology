{
 "cells": [
  {
   "cell_type": "markdown",
   "metadata": {},
   "source": [
    "# Assignment #3: A simple language classifier with scikit-learn and PyTorch"
   ]
  },
  {
   "cell_type": "markdown",
   "metadata": {},
   "source": [
    "Author: Pierre Nugues"
   ]
  },
  {
   "cell_type": "markdown",
   "metadata": {},
   "source": [
    "## Objectives"
   ]
  },
  {
   "cell_type": "markdown",
   "metadata": {},
   "source": [
    "In this assignment, you will implement a language detector inspired and simplified from Google's _Compact language detector_, version 3 (CLD3): https://github.com/google/cld3. CLD3 is written in C++ and its code is available from GitHub. The objectives of the assignment are to:\n",
    "* Write a program to classify languages\n",
    "* Use neural networks with sklearn and PyTorch\n",
    "* Know what a classifier is\n",
    "* Write a short report of 1 to 2 pages to describe your program. You will notably comment the performance you obtained and how you could improve it."
   ]
  },
  {
   "cell_type": "markdown",
   "metadata": {},
   "source": [
    "## Description"
   ]
  },
  {
   "cell_type": "markdown",
   "metadata": {},
   "source": [
    "### System Overview"
   ]
  },
  {
   "cell_type": "markdown",
   "metadata": {},
   "source": [
    "Read the GitHub description of CLD3, https://github.com/google/cld3, (_Model_ section). In your individual report you will:\n",
    "1. Summarize the system in two or three sentences;\n",
    "2. Outline the CLD3 overall architecture in a figure. Use building blocks only and do not specify the parameters."
   ]
  },
  {
   "cell_type": "markdown",
   "metadata": {},
   "source": [
    "## Imports"
   ]
  },
  {
   "cell_type": "code",
   "execution_count": 2,
   "metadata": {},
   "outputs": [],
   "source": [
    "import bz2\n",
    "import json\n",
    "import os\n",
    "import numpy as np\n",
    "import requests\n",
    "import sys\n",
    "from sklearn.neural_network import MLPClassifier\n",
    "from sklearn.feature_extraction import DictVectorizer\n",
    "from sklearn.metrics import accuracy_score\n",
    "from sklearn.metrics import f1_score, classification_report\n",
    "from sklearn.metrics import confusion_matrix\n",
    "import random\n",
    "import torch\n",
    "import torch.nn as nn\n",
    "import torch.nn.functional as F\n",
    "import hashlib\n",
    "from tqdm import tqdm"
   ]
  },
  {
   "cell_type": "code",
   "execution_count": 3,
   "metadata": {},
   "outputs": [
    {
     "data": {
      "text/plain": [
       "<torch._C.Generator at 0x183e2de2150>"
      ]
     },
     "execution_count": 3,
     "metadata": {},
     "output_type": "execute_result"
    }
   ],
   "source": [
    "random.seed(1234)\n",
    "np.random.seed(1234)\n",
    "torch.manual_seed(1234)"
   ]
  },
  {
   "cell_type": "markdown",
   "metadata": {},
   "source": [
    "## Dataset"
   ]
  },
  {
   "cell_type": "markdown",
   "metadata": {},
   "source": [
    "As dataset, we will use Tatoeba, https://tatoeba.org/eng/downloads. It consists of more than 8 million short texts in 347 languages and it is available in one file called `sentences.csv`.\n",
    "\n",
    "The dataset is structured this way: There is one text per line, where each line consists of the three following fields separated by tabulations and ended by a carriage return:\n",
    "```\n",
    "sentence id [tab] language code [tab] text [cr]\n",
    "```\n",
    "Each text (sentence) has a unique id and has a language code that follows the ISO 639-3 standard (see below). "
   ]
  },
  {
   "cell_type": "markdown",
   "metadata": {},
   "source": [
    "### Scope of the lab"
   ]
  },
  {
   "cell_type": "markdown",
   "metadata": {},
   "source": [
    "In this lab, you will consider six languages only: French (fra), Japanese (jpn), Chinese (cmn), English (eng), Swedish (swe), and Danish (dan). Below is an excerpt of the Tatoeba dataset limited to three languages: \n",
    "\n",
    "```\n",
    "1276    eng     Let's try something.\n",
    "1277    eng     I have to go to sleep.\n",
    "1280    eng     Today is June 18th and it is Muiriel's birthday!\n",
    "...\n",
    "1115    fra     Lorsqu'il a demandé qui avait cassé la fenêtre, tous les garçons ont pris un air innocent.\n",
    "1279    fra     Je ne supporte pas ce type.\n",
    "1441    fra     Pour une fois dans ma vie je fais un bon geste... Et ça ne sert à rien.\n",
    "...\n",
    "337413  swe     Vi trodde att det var ett flygande tefat.\n",
    "341910  swe     Detta är huset jag bodde i när jag var barn.\n",
    "341938  swe     Vi hade roligt på stranden igår.\n",
    "...\n",
    "```\n",
    "Tatoeba is updated continuously. The examples from this dataset come from a corpus your instructor downloaded on September 23, 2021."
   ]
  },
  {
   "cell_type": "markdown",
   "metadata": {},
   "source": [
    "### Understanding the ${X}$ matrix (feature matrix)"
   ]
  },
  {
   "cell_type": "markdown",
   "metadata": {},
   "source": [
    "You will now investigate the CLD3 features:\n",
    " *  What are the features CLD3 extracts from each text?\n",
    " * Create manually a simplified ${X}$ matrix where you will represent the 9 texts with CLD3 features. You will use a restricted set of features: You will only consider the letters _a_, _b_, and _n_ and the bigrams _an_, _ba_, and _na_. You will ignore the the rest of letters and bigrams as well as the trigrams. Your matrix will have 9 rows and 6 columns, each column will contain these counts: `[#a, #b, #n, #an, #ba, #na]`.\n",
    "\n",
    "The CLD3's original description uses relative frequencies (counts of a letter divided by the total counts of letters in the text). Here, you will use the raw counts. To help you, your instructor filled the fourth row of the matrix corresponding to the first text in French. Fill in the rest. You will __include this matrix in your report__. "
   ]
  },
  {
   "cell_type": "markdown",
   "metadata": {},
   "source": [
    "$\\mathbf{X} =\n",
    "\\begin{bmatrix}\n",
    "-& -& -& -&-& -\\\\\n",
    "-& -& -& -&-& -\\\\\n",
    "-& -& -& -&-& -\\\\\n",
    "8& 0& 8& 1&0&0\\\\\n",
    "-& -& -& -&-& -\\\\\n",
    "-& -& -& -&-& -\\\\\n",
    "-& -& -& -&-& -\\\\\n",
    "-& -& -& -&-& -\\\\\n",
    "-& -& -& -&-& -\\\\\n",
    "\\end{bmatrix}$\n",
    "; $\\mathbf{y} =\n",
    "\\begin{bmatrix}\n",
    "     \\text{eng} \\\\\n",
    "     \\text{eng}\\\\\n",
    "     \\text{eng}\\\\\n",
    "    \\text{fra}\\\\\n",
    "   \\text{fra}  \\\\\n",
    "     \\text{fra}\\\\\n",
    "    \\text{swe}\\\\\n",
    " \\text{swe}   \\\\\n",
    " \\text{swe}   \n",
    "\\end{bmatrix}$"
   ]
  },
  {
   "cell_type": "markdown",
   "metadata": {},
   "source": [
    "To help you check your counts, you can use the `str.count()` function"
   ]
  },
  {
   "cell_type": "code",
   "execution_count": 2,
   "metadata": {},
   "outputs": [],
   "source": [
    "example_ngrams = ['a', 'b', 'n', 'an', 'ba', 'na']"
   ]
  },
  {
   "cell_type": "code",
   "execution_count": 5,
   "metadata": {},
   "outputs": [
    {
     "data": {
      "text/plain": [
       "8"
      ]
     },
     "execution_count": 5,
     "metadata": {},
     "output_type": "execute_result"
    }
   ],
   "source": [
    "\"\"\"Lorsqu'il a demandé qui avait cassé la fenêtre, tous les garçons ont pris un air innocent.\"\"\".count('a')"
   ]
  },
  {
   "cell_type": "code",
   "execution_count": 6,
   "metadata": {},
   "outputs": [
    {
     "data": {
      "text/plain": [
       "1"
      ]
     },
     "execution_count": 6,
     "metadata": {},
     "output_type": "execute_result"
    }
   ],
   "source": [
    "\"\"\"Lorsqu'il a demandé qui avait cassé la fenêtre, tous les garçons ont pris un air innocent.\"\"\".count('an')"
   ]
  },
  {
   "cell_type": "code",
   "execution_count": 7,
   "metadata": {},
   "outputs": [
    {
     "data": {
      "text/plain": [
       "[8, 0, 8, 1, 0, 0]"
      ]
     },
     "execution_count": 7,
     "metadata": {},
     "output_type": "execute_result"
    }
   ],
   "source": [
    "my_string = \"\"\"Lorsqu'il a demandé qui avait cassé la fenêtre, tous les garçons ont pris un air innocent.\"\"\"\n",
    "row = []\n",
    "for ngram in example_ngrams:\n",
    "    row += [my_string.count(ngram)]\n",
    "row"
   ]
  },
  {
   "cell_type": "markdown",
   "metadata": {},
   "source": [
    "## Getting the Dataset"
   ]
  },
  {
   "cell_type": "markdown",
   "metadata": {},
   "source": [
    "Before you start programming, download the Tatoeba dataset. You can use the instructions:"
   ]
  },
  {
   "cell_type": "code",
   "execution_count": 8,
   "metadata": {},
   "outputs": [
    {
     "name": "stderr",
     "output_type": "stream",
     "text": [
      "'wget' is not recognized as an internal or external command,\n",
      "operable program or batch file.\n"
     ]
    }
   ],
   "source": [
    "!wget https://downloads.tatoeba.org/exports/sentences.tar.bz2"
   ]
  },
  {
   "cell_type": "code",
   "execution_count": 9,
   "metadata": {},
   "outputs": [
    {
     "name": "stderr",
     "output_type": "stream",
     "text": [
      "x sentences.csv\n"
     ]
    }
   ],
   "source": [
    "!tar -xvjf sentences.tar.bz2"
   ]
  },
  {
   "cell_type": "markdown",
   "metadata": {},
   "source": [
    "### Loading the Dataset"
   ]
  },
  {
   "cell_type": "markdown",
   "metadata": {},
   "source": [
    "Run the code to read the dataset and split it into lines. You may have to change the path"
   ]
  },
  {
   "cell_type": "code",
   "execution_count": 10,
   "metadata": {},
   "outputs": [
    {
     "data": {
      "text/plain": [
       "['1\\tcmn\\t我們試試看！',\n",
       " '2\\tcmn\\t我该去睡觉了。',\n",
       " '3\\tcmn\\t你在干什麼啊？',\n",
       " '4\\tcmn\\t這是什麼啊？',\n",
       " '5\\tcmn\\t今天是６月１８号，也是Muiriel的生日！',\n",
       " '6\\tcmn\\t生日快乐，Muiriel！',\n",
       " '7\\tcmn\\tMuiriel现在20岁了。',\n",
       " '8\\tcmn\\t密码是\"Muiriel\"。',\n",
       " '9\\tcmn\\t我很快就會回來。',\n",
       " '10\\tcmn\\t我不知道。']"
      ]
     },
     "execution_count": 10,
     "metadata": {},
     "output_type": "execute_result"
    }
   ],
   "source": [
    "dataset_large = open('sentences.csv', encoding='utf8').read().strip()\n",
    "dataset_large = dataset_large.split('\\n')\n",
    "dataset_large[:10]"
   ]
  },
  {
   "cell_type": "markdown",
   "metadata": {},
   "source": [
    "The size may vary as new documents are added every day to _Tatoeba_"
   ]
  },
  {
   "cell_type": "code",
   "execution_count": 11,
   "metadata": {},
   "outputs": [
    {
     "data": {
      "text/plain": [
       "11626127"
      ]
     },
     "execution_count": 11,
     "metadata": {},
     "output_type": "execute_result"
    }
   ],
   "source": [
    "len(dataset_large)"
   ]
  },
  {
   "cell_type": "markdown",
   "metadata": {},
   "source": [
    "Run the code to split the fields and remove possible whitespaces"
   ]
  },
  {
   "cell_type": "code",
   "execution_count": 12,
   "metadata": {},
   "outputs": [
    {
     "data": {
      "text/plain": [
       "[('1', 'cmn', '我們試試看！'), ('2', 'cmn', '我该去睡觉了。'), ('3', 'cmn', '你在干什麼啊？')]"
      ]
     },
     "execution_count": 12,
     "metadata": {},
     "output_type": "execute_result"
    }
   ],
   "source": [
    "dataset_large = list(map(lambda x: tuple(x.split('\\t')), dataset_large))\n",
    "dataset_large = list(map(lambda x: tuple(map(str.strip, x)), dataset_large))\n",
    "dataset_large[:3]"
   ]
  },
  {
   "cell_type": "code",
   "execution_count": 13,
   "metadata": {},
   "outputs": [],
   "source": [
    "from collections import Counter\n",
    "counter = Counter(map(lambda x: x[1], dataset_large))"
   ]
  },
  {
   "cell_type": "markdown",
   "metadata": {},
   "source": [
    "Again the figures may vary"
   ]
  },
  {
   "cell_type": "code",
   "execution_count": 14,
   "metadata": {},
   "outputs": [
    {
     "data": {
      "text/plain": [
       "[('eng', 1832557),\n",
       " ('rus', 1015379),\n",
       " ('ita', 863210),\n",
       " ('tur', 729325),\n",
       " ('epo', 728733),\n",
       " ('kab', 686765),\n",
       " ('ber', 650115),\n",
       " ('deu', 627037),\n",
       " ('fra', 569043),\n",
       " ('por', 422236),\n",
       " ('spa', 402610),\n",
       " ('hun', 394834),\n",
       " ('jpn', 238601),\n",
       " ('heb', 200845),\n",
       " ('ukr', 184423),\n",
       " ('nld', 177097),\n",
       " ('fin', 146735),\n",
       " ('pol', 123050),\n",
       " ('lit', 93949),\n",
       " ('mkd', 78095),\n",
       " ('tgl', 74924),\n",
       " ('ces', 73650),\n",
       " ('cmn', 73646),\n",
       " ('mar', 73277),\n",
       " ('ara', 62803),\n",
       " ('dan', 59011),\n",
       " ('tok', 54067),\n",
       " ('swe', 53199),\n",
       " ('lat', 49211),\n",
       " ('srp', 47878)]"
      ]
     },
     "execution_count": 14,
     "metadata": {},
     "output_type": "execute_result"
    }
   ],
   "source": [
    "counter.most_common(30)"
   ]
  },
  {
   "cell_type": "markdown",
   "metadata": {},
   "source": [
    "## Restricting the Dataset to a few Languages "
   ]
  },
  {
   "cell_type": "markdown",
   "metadata": {},
   "source": [
    "The Tatoeba dataset is very large. You will first extract a subset of it\n",
    "\n",
    "Write the code to extract texts in the languages below. For each language, you limit the number of documents to 50,000 or less if the language has less documents.\n",
    "You will call the resulting dataset: `dataset`"
   ]
  },
  {
   "cell_type": "markdown",
   "metadata": {},
   "source": [
    "The languages"
   ]
  },
  {
   "cell_type": "code",
   "execution_count": 15,
   "metadata": {},
   "outputs": [
    {
     "data": {
      "text/plain": [
       "[('1', 'cmn', '我們試試看！'),\n",
       " ('2', 'cmn', '我该去睡觉了。'),\n",
       " ('3', 'cmn', '你在干什麼啊？'),\n",
       " ('4', 'cmn', '這是什麼啊？'),\n",
       " ('5', 'cmn', '今天是６月１８号，也是Muiriel的生日！'),\n",
       " ('6', 'cmn', '生日快乐，Muiriel！'),\n",
       " ('7', 'cmn', 'Muiriel现在20岁了。'),\n",
       " ('8', 'cmn', '密码是\"Muiriel\"。'),\n",
       " ('9', 'cmn', '我很快就會回來。'),\n",
       " ('10', 'cmn', '我不知道。'),\n",
       " ('11', 'cmn', '我不知道應該說什麼才好。'),\n",
       " ('12', 'cmn', '這個永遠完不了了。'),\n",
       " ('13', 'cmn', '我只是不知道應該說什麼而已……'),\n",
       " ('14', 'cmn', '那是一隻有惡意的兔子。'),\n",
       " ('15', 'cmn', '我以前在山里。'),\n",
       " ('16', 'cmn', '那是一张近照吗？'),\n",
       " ('17', 'cmn', '我不知道我有沒有時間。'),\n",
       " ('18', 'cmn', '剛才我的麥克風沒起作用，不知道為什麼。'),\n",
       " ('19', 'cmn', '到了最後，大家一定要靠自己學習。'),\n",
       " ('20', 'cmn', '世界上的教育都讓我失望。'),\n",
       " ('21', 'cmn', '选择什么是“对”或“错”是一项艰难的任务，我们却必须要完成它。'),\n",
       " ('22', 'cmn', '這樣做的話什麼都不會改變的。'),\n",
       " ('23', 'cmn', '這個要三十歐元。'),\n",
       " ('24', 'cmn', '我一天賺一百歐元。'),\n",
       " ('25', 'cmn', '也许我会马上放弃然后去打盹。'),\n",
       " ('26', 'cmn', '那是不會發生的。'),\n",
       " ('27', 'cmn', '我会尽量不打扰你复习。'),\n",
       " ('28', 'cmn', '不要擔心。'),\n",
       " ('29', 'cmn', '我很想你。'),\n",
       " ('30', 'cmn', '我明天回來的時候會跟他們聯絡。'),\n",
       " ('31', 'cmn', '我一直都比較喜歡神秘一點的人物。'),\n",
       " ('32', 'cmn', '你應該去睡覺了吧。'),\n",
       " ('33', 'cmn', '我要走了。'),\n",
       " ('34', 'cmn', '我請他們再寄給我一張票。'),\n",
       " ('35', 'cmn', '我不能这样活着。'),\n",
       " ('36', 'cmn', '我曾經想過當個太空物理學家。'),\n",
       " ('37', 'cmn', '我從來沒喜歡過生物學。'),\n",
       " ('38', 'cmn', '可惜这是真的。'),\n",
       " ('39', 'cmn', '大部份的人覺得我瘋了。'),\n",
       " ('40', 'cmn', '不，我不是！你才是！'),\n",
       " ('41', 'cmn', '那是我該說的話!'),\n",
       " ('42', 'cmn', '他在踢我！'),\n",
       " ('43', 'cmn', '你肯定吗？'),\n",
       " ('44', 'cmn', '那就表示有問題...'),\n",
       " ('45', 'cmn', '哦！有一隻蝴蝶！'),\n",
       " ('46', 'cmn', '趕快!'),\n",
       " ('47', 'cmn', '如果我可以像那樣的話...'),\n",
       " ('48', 'cmn', '你是在跟我開玩笑吧？！'),\n",
       " ('49', 'cmn', '我長大後想當國王。'),\n",
       " ('50', 'cmn', '我好胖哦。'),\n",
       " ('51', 'cmn', '那又怎樣?'),\n",
       " ('52', 'cmn', '我要把他射下來。'),\n",
       " ('53', 'cmn', '那是因為妳是女生。'),\n",
       " ('54', 'cmn', '我会不高兴，但我不会自杀。'),\n",
       " ('55', 'cmn', '以前讀高中的時候﹐我每天早上六點起床。'),\n",
       " ('56', 'cmn', '你問這個幹什麼?'),\n",
       " ('57', 'cmn', '你待了多久?'),\n",
       " ('58', 'cmn', '我不知道它是从哪里来的。'),\n",
       " ('59', 'cmn', '這個不重要。'),\n",
       " ('60', 'cmn', '哪裡有問題?'),\n",
       " ('61', 'cmn', '不要再把我当成“正常” 人!'),\n",
       " ('62', 'cmn', '所有被发明的都是真的。'),\n",
       " ('63', 'cmn', '感到惊讶、感到惊奇就是明白的开始。'),\n",
       " ('64', 'cmn', '宇宙毫无疑问是无限的。'),\n",
       " ('65', 'cmn', '要变得完美，她就是少了一个缺点。'),\n",
       " ('66', 'cmn', '然而，相反的理论往往也是真的。'),\n",
       " ('67', 'cmn', '我们看东西不是看其实质，而是以我们的主观意识看它们的。'),\n",
       " ('68', 'cmn', '世界就是一个疯子的囚笼。'),\n",
       " ('69', 'cmn', '我叫Jack。'),\n",
       " ('70', 'cmn', '从来就没有徒劳的爱情。'),\n",
       " ('71', 'cmn', '生活就是當你忙著進行你的計劃時總有其他的事情發生。'),\n",
       " ('72', 'cmn', '没有欲望就等于拥有。'),\n",
       " ('73', 'cmn', '聖誕節快樂！'),\n",
       " ('74', 'cmn', '罗马不是一天建成的。'),\n",
       " ('75', 'cmn', '你是从哪个国家来的？'),\n",
       " ('77', 'deu', 'Lass uns etwas versuchen!'),\n",
       " ('78', 'deu', 'Ich muss schlafen gehen.'),\n",
       " ('80', 'deu', 'Was ist das?'),\n",
       " ('81',\n",
       "  'deu',\n",
       "  'Heute ist der 18. Juni und das ist der Geburtstag von Muiriel!'),\n",
       " ('82', 'deu', 'Herzlichen Glückwunsch zum Geburtstag, Muiriel!'),\n",
       " ('83', 'deu', 'Muiriel ist jetzt 20.'),\n",
       " ('84', 'deu', 'Das Passwort ist \"Muiriel\".'),\n",
       " ('85', 'deu', 'Ich werde bald zurück sein.'),\n",
       " ('87', 'deu', 'Ich finde keine Worte.'),\n",
       " ('88', 'deu', 'Das wird nie enden.'),\n",
       " ('89', 'deu', 'Ich weiß einfach nicht, was ich sagen soll.'),\n",
       " ('90', 'deu', 'Das war ein böses Kaninchen.'),\n",
       " ('91', 'deu', 'Ich war in den Bergen.'),\n",
       " ('93', 'deu', 'Ich weiß nicht, ob ich Zeit dazu habe.'),\n",
       " ('94',\n",
       "  'deu',\n",
       "  'Aus irgendeinem Grund hat das Mikrofon gerade nicht funktioniert.'),\n",
       " ('95', 'deu', 'Letztendlich muss jeder selbst lernen.'),\n",
       " ('96', 'deu', 'Die Ausbildung in dieser Welt enttäuscht mich.'),\n",
       " ('97',\n",
       "  'deu',\n",
       "  'Zum Lernen sollte man nicht gezwungen werden. Zum Lernen sollte man ermutigt werden.'),\n",
       " ('98',\n",
       "  'deu',\n",
       "  'Es ist eine schwere Aufgabe, zwischen \"richtig\" und \"falsch\" zu unterscheiden, aber man muss es tun.'),\n",
       " ('99', 'deu', 'Das wird nichts ändern.'),\n",
       " ('100', 'deu', 'Das wird 30 € kosten.'),\n",
       " ('101', 'deu', 'Ich verdiene 100 Euro pro Tag.'),\n",
       " ('102',\n",
       "  'deu',\n",
       "  'Es kann sein, dass ich bald aufgebe und stattdessen ein Nickerchen mache.'),\n",
       " ('103', 'deu', 'Das liegt daran, dass du nicht allein sein willst.'),\n",
       " ('104', 'deu', 'Das wird nicht passieren.'),\n",
       " ('105', 'deu', 'Manchmal kann er ein seltsamer Junge sein.'),\n",
       " ('106', 'deu', 'Ich werde mir Mühe geben, dich nicht beim Lernen zu stören.'),\n",
       " ('107',\n",
       "  'deu',\n",
       "  'Ich kann mich nur fragen, ob es für alle anderen dasselbe ist.'),\n",
       " ('108',\n",
       "  'deu',\n",
       "  'Ich vermute, das ist anders, wenn du darüber längerfristig nachdenkst.'),\n",
       " ('109', 'deu', 'Mach dir keine Sorgen.'),\n",
       " ('110', 'deu', 'Ich vermisse dich.'),\n",
       " ('111', 'deu', 'Ich werde sie morgen anrufen, wenn ich zurückkomme.'),\n",
       " ('112', 'deu', 'Ich mochte mysteriöse Charaktere schon immer mehr.'),\n",
       " ('113', 'deu', 'Du solltest schlafen.'),\n",
       " ('115', 'deu', 'Ich sagte ihnen, sie sollen mir ein neues Ticket schicken.'),\n",
       " ('116', 'deu', 'Du bist so ungeduldig mit mir.'),\n",
       " ('117', 'deu', 'Ich kann so ein Leben nicht leben.'),\n",
       " ('118', 'deu', 'Ich wollte mal Astrophysiker werden.'),\n",
       " ('119', 'deu', 'Ich mochte Biologie noch nie.'),\n",
       " ('120',\n",
       "  'deu',\n",
       "  'Die letzte Person, der ich meine Idee erzählt habe, dachte, ich wäre bekloppt.'),\n",
       " ('121',\n",
       "  'deu',\n",
       "  'Wenn die Welt nicht so wäre wie sie jetzt ist, könnte ich jedem vertrauen.'),\n",
       " ('122', 'deu', 'Unglücklicherweise stimmt es.'),\n",
       " ('123',\n",
       "  'deu',\n",
       "  'Sie sind zu sehr damit beschäftigt, sich gegenseitig zu bekämpfen, als dass sie sich gemeinsamen Idealen widmen könnten.'),\n",
       " ('124', 'deu', 'Die meisten Leute denken, ich sei verrückt.'),\n",
       " ('125', 'deu', 'Nein, ich bin es nicht, du bist es!'),\n",
       " ('126', 'deu', 'Das war mein Satz!'),\n",
       " ('127', 'deu', 'Er tritt mich!'),\n",
       " ('128', 'deu', 'Bist du sicher?'),\n",
       " ('129', 'deu', 'Dann haben wir ein Problem...'),\n",
       " ('130', 'deu', 'Oh, da ist ein Schmetterling!'),\n",
       " ('131', 'deu', 'Beeil dich!'),\n",
       " ('132', 'deu', 'Es überrascht mich nicht.'),\n",
       " ('133', 'deu', 'Wenn ich so sein könnte...'),\n",
       " ('134', 'deu', 'Aus irgendeinem Grund fühle ich mich nachts lebendiger.'),\n",
       " ('135', 'deu', 'Das kommt auf den Zusammenhang an.'),\n",
       " ('136', 'deu', 'Willst du mich verdammt nochmal auf den Arm nehmen?!'),\n",
       " ('137', 'deu', 'Das ist das Dümmste, was ich je gesagt habe.'),\n",
       " ('138', 'deu', 'Ich will nicht erbärmlich sein, ich will cool sein!!'),\n",
       " ('139', 'deu', 'Wenn ich groß bin, will ich ein König sein.'),\n",
       " ('140',\n",
       "  'deu',\n",
       "  'Es ist wundervoll in Amerika zu sein, wenn man hier ist, um Geld zu verdienen.'),\n",
       " ('141', 'deu', 'Ich bin so dick.'),\n",
       " ('142', 'deu', 'Na und?'),\n",
       " ('143', 'deu', 'Ich werde ihn erschießen.'),\n",
       " ('144',\n",
       "  'deu',\n",
       "  'Ich bin kein echter Fisch, ich bin nur ein einfaches Plüschtier.'),\n",
       " ('145', 'deu', \"Ich sag's ja nur!\"),\n",
       " ('146',\n",
       "  'deu',\n",
       "  'Wahrscheinlich war es das, was ihre Entscheidung beeinflusst hat.'),\n",
       " ('147',\n",
       "  'deu',\n",
       "  'Ich habe mich immer gefragt, wie es wäre, Geschwister zu haben.'),\n",
       " ('148', 'deu', 'Das hätte ich gesagt.'),\n",
       " ('149', 'deu', 'Es würde ewig dauern, alles zu erklären.'),\n",
       " ('150', 'deu', 'Es liegt daran, dass du ein Mädchen bist.'),\n",
       " ('151', 'deu', 'Manchmal kann ich es nicht vermeiden, Gefühle zu zeigen.'),\n",
       " ('152',\n",
       "  'deu',\n",
       "  'Es ist ein Wort, für das ich gerne einen Ersatz finden würde.'),\n",
       " ('153', 'deu', 'Das wäre etwas, das ich programmieren sollte.'),\n",
       " ('154', 'deu', 'Ich beabsichtige nicht, selbstsüchtig zu sein.'),\n",
       " ('155',\n",
       "  'deu',\n",
       "  'Lass uns über das Schlimmste, das passieren könnte, nachdenken.'),\n",
       " ('156', 'deu', 'Wie viele enge Freunde hast du?'),\n",
       " ('157',\n",
       "  'deu',\n",
       "  'Ich bin vielleicht asozial, aber das heißt nicht, dass ich nicht mit Leuten rede.'),\n",
       " ('158', 'deu', 'Das ist immer so gewesen.'),\n",
       " ('159', 'deu', 'Ich denke, es ist am besten, nicht unhöflich zu sein.'),\n",
       " ('160', 'deu', 'Man kann immer Zeit finden.'),\n",
       " ('161',\n",
       "  'deu',\n",
       "  'Ich wäre unglücklich, aber ich würde keinen Selbstmord begehen.'),\n",
       " ('162',\n",
       "  'deu',\n",
       "  'Damals im Gymnasium bin ich jeden Morgen um 6 Uhr aufgestanden.'),\n",
       " ('163', 'deu', 'Als ich aufgewacht bin, war ich traurig.'),\n",
       " ('164', 'deu', 'Das ist am Ende einigermaßen erklärt.'),\n",
       " ('165', 'deu', 'Ich dachte, du würdest gerne neue Sachen lernen.'),\n",
       " ('166', 'deu', 'Die meisten Menschen schreiben über ihr Alltagsleben.'),\n",
       " ('167',\n",
       "  'deu',\n",
       "  'Wenn ich dir ein Marshmallow schicken könnte, Trang, würde ich es tun.'),\n",
       " ('168', 'deu', 'Um das zu tun, musst du Risiken eingehen.'),\n",
       " ('169',\n",
       "  'deu',\n",
       "  'Jeder Mensch, der allein ist, ist allein, weil er Angst vor den anderen hat.'),\n",
       " ('170', 'deu', 'Warum fragst du?'),\n",
       " ('171', 'deu', 'Ich bin kein Künstler. Ich hatte niemals das Zeug dazu.'),\n",
       " ('172',\n",
       "  'deu',\n",
       "  'Ich kann es ihr jetzt nicht sagen. Das ist nicht mehr so einfach.'),\n",
       " ('173',\n",
       "  'deu',\n",
       "  'Ich bin ein Mensch, der viele Fehler hat, aber diese Fehler können leicht korrigiert werden.'),\n",
       " ('174',\n",
       "  'deu',\n",
       "  'Immer, wenn ich etwas finde, das mir gefällt, ist es zu teuer.'),\n",
       " ('175', 'deu', 'Wie lange bist du geblieben?'),\n",
       " ('176', 'deu', 'Vielleicht wird es für ihn genauso sein.'),\n",
       " ('177', 'deu', 'Unschuld ist eine schöne Sache.'),\n",
       " ('178', 'deu', 'Die Menschen waren nie dazu gedacht, ewig zu leben.'),\n",
       " ('179',\n",
       "  'deu',\n",
       "  'Ich will meine Ideen nicht verlieren, selbst wenn einige von ihnen ein bisschen extrem sind.'),\n",
       " ('180', 'deu', 'Ich denke, ich habe dazu eine Theorie.'),\n",
       " ('181', 'deu', 'Das macht neugierig.'),\n",
       " ('182',\n",
       "  'deu',\n",
       "  'Meinst du gerade, dass du absichtlich deine Schönheit versteckst?'),\n",
       " ('183', 'deu', 'Ich habe kein Konto in diesen Foren.'),\n",
       " ('184',\n",
       "  'deu',\n",
       "  'Wenn jemand fragen sollte, was die Pointe der Geschichte sei, ich wüsste es wirklich nicht.'),\n",
       " ('185', 'deu', 'Ich wusste nicht, woher es kam.'),\n",
       " ('186',\n",
       "  'deu',\n",
       "  'Ich denke, dass mein Zusammenleben mit dir deine Lebensweise beeinflusst hat.'),\n",
       " ('187', 'deu', 'Dies ist nicht wichtig.'),\n",
       " ('188', 'deu', 'Ich möchte es nicht.'),\n",
       " ('189', 'deu', 'Sie fragt, wie das möglich ist.'),\n",
       " ('190', 'deu', 'Du läufst einfach vor den Problemen des Lebens davon.'),\n",
       " ('191',\n",
       "  'deu',\n",
       "  'Wenn du den Liedtext anschaust, bedeutet er nicht wirklich viel.'),\n",
       " ('192', 'deu', 'Es gibt da ein Problem, das du nicht siehst.'),\n",
       " ('193', 'deu', 'Du kannst das machen!'),\n",
       " ('194',\n",
       "  'deu',\n",
       "  'Meinem Physiklehrer ist es egal, wenn ich den Unterricht schwänze.'),\n",
       " ('195', 'deu', 'Ich wünschte, ich könnte nach Japan gehen.'),\n",
       " ('196', 'deu', 'Ich hasse es, wenn viele Leute da sind.'),\n",
       " ('197', 'deu', 'Ich muss ins Bett gehen.'),\n",
       " ('198',\n",
       "  'deu',\n",
       "  'Danach gehe ich, aber dann merke ich, dass ich meinen Rucksack vergessen habe.'),\n",
       " ('199', 'deu', 'Ich werde dich heute nichts mehr fragen.'),\n",
       " ('200', 'deu', 'Nächste Woche wird es vielleicht Frost geben.'),\n",
       " ('201', 'deu', 'Obwohl er sich entschuldigt hat, bin ich immer noch wütend.'),\n",
       " ('202', 'deu', 'Die Polizei wird euch dazu bringen, die Kugeln zu finden.'),\n",
       " ('203',\n",
       "  'deu',\n",
       "  'Danke, dass Sie mir letzten Endes erklärt haben, warum die Leute mich für einen Idioten halten.'),\n",
       " ('204', 'deu', 'Das war nicht meine Absicht.'),\n",
       " ('205', 'deu', 'Danke für Ihre Erklärung.'),\n",
       " ('206', 'deu', 'Theoretisch mache ich gerade Mathe.'),\n",
       " ('207', 'deu', 'Was passierte?'),\n",
       " ('208',\n",
       "  'deu',\n",
       "  'Wenn du mich nicht so gekannt hast, dann hast du mich einfach gar nicht gekannt.'),\n",
       " ('209',\n",
       "  'deu',\n",
       "  'Es hat mir fast Angst gemacht, dich einen ganzen Tag nicht online zu sehen.'),\n",
       " ('210', 'deu', 'Ich weiß nicht, was du meinst.'),\n",
       " ('211', 'deu', 'Mein Computer muss mir zu etwas nützen.'),\n",
       " ('212', 'deu', 'Du wolltest mit mir über Freiheit sprechen?'),\n",
       " ('213', 'deu', 'Oh, jetzt ist es wirklich verwirrend...'),\n",
       " ('214',\n",
       "  'deu',\n",
       "  'Wenn ich dich erschrecken wollte, würde ich dir erzählen, was ich vor ein paar Wochen geträumt habe.'),\n",
       " ('215', 'deu', 'Man kann nicht alles von den Schulen erwarten.'),\n",
       " ('216', 'deu', 'Es gibt viele Wörter, die ich nicht verstehe.'),\n",
       " ('217',\n",
       "  'deu',\n",
       "  'Ich mag es nicht, wenn Mathematiker, die viel mehr als ich wissen, sich nicht genau ausdrücken können.'),\n",
       " ('218', 'deu', 'Du bist nicht wirklich dumm.'),\n",
       " ('219', 'deu', 'Ich muss dir eine dumme Frage stellen.'),\n",
       " ('220',\n",
       "  'deu',\n",
       "  'Ich weiß nicht, wie ich es beweisen soll, so selbstverständlich wie es ist!'),\n",
       " ('221',\n",
       "  'deu',\n",
       "  'Ich hätte nicht gedacht, dass ich eines Tages bei Wikipedia \"Viagra\" nachschauen würde.'),\n",
       " ('222', 'deu', 'Kann man das anders ausdrücken?'),\n",
       " ('223', 'deu', \"Niemand wird's erfahren.\"),\n",
       " ('224',\n",
       "  'deu',\n",
       "  'Ich habe eine Lösung gefunden, aber ich habe sie so schnell gefunden, dass es nicht die richtige Lösung sein kann.'),\n",
       " ('225', 'deu', 'Das scheint mir interessant!'),\n",
       " ('226', 'deu', 'Nur, dass es hier nicht so einfach ist.'),\n",
       " ('227', 'deu', 'Ich mag gerne Kerzenlicht.'),\n",
       " ('228', 'deu', 'Was hast du geantwortet?'),\n",
       " ('229', 'deu', 'Nein, er ist nicht mein neuer Freund.'),\n",
       " ('230', 'deu', 'Es ist schade, dass ich nicht abnehmen muss.'),\n",
       " ('231', 'deu', 'Hast du nie Unterricht oder was?!'),\n",
       " ('232',\n",
       "  'deu',\n",
       "  'Ich werde also Sudoku spielen, anstatt dich weiter zu stören.'),\n",
       " ('233', 'deu', 'Wo ist das Problem?'),\n",
       " ('235', 'deu', 'Das ist keine große Überraschung, oder?'),\n",
       " ('237', 'deu', 'Ich mag dich nicht mehr.'),\n",
       " ('238', 'deu', 'Ich bin neugierig.'),\n",
       " ('239', 'deu', 'Herzlichen Glückwunsch.'),\n",
       " ('240', 'deu', 'Ich will nicht so lange warten.'),\n",
       " ('241', 'deu', 'Warum kommst du uns nicht besuchen?'),\n",
       " ('242', 'deu', 'Aber die Möglichkeit scheint unwahrscheinlich.'),\n",
       " ('243', 'rus', 'Один раз в жизни я делаю хорошее дело... И оно бесполезно.'),\n",
       " ('244', 'deu', 'Es war eine schlechte Idee, sich abzumelden.'),\n",
       " ('245', 'deu', 'Ich weiß nicht mehr, was ich tun soll.'),\n",
       " ('246',\n",
       "  'deu',\n",
       "  'Es ist unvermeidbar, dass ich eines Tages nach Frankreich gehe, ich weiß nur nicht, wann.'),\n",
       " ('247', 'deu', 'Ich hasse Chemie.'),\n",
       " ('248', 'deu', 'Ich wollte nicht, dass das passiert.'),\n",
       " ('249', 'deu', 'Du kannst vermutlich erahnen, was indessen passiert.'),\n",
       " ('250', 'deu', 'Bevor du dich versiehst, wirst du in der Zeitung sein.'),\n",
       " ('251', 'deu', 'Was für andere Optionen habe ich?'),\n",
       " ('252', 'deu', 'Ich habe nicht viel von einem Reisenden.'),\n",
       " ('253', 'deu', 'Ich habe nichts Besseres zu tun.'),\n",
       " ('254', 'deu', 'Ich kann es auch nicht erklären.'),\n",
       " ('256',\n",
       "  'deu',\n",
       "  'Aber im Ernst, die Episode 21 hat mich fast vor Lachen weinen lassen.'),\n",
       " ('257', 'deu', 'Es zeigt nur, dass du kein Roboter bist.'),\n",
       " ('258', 'deu', 'Wie könnte ich ein Roboter sein? Roboter träumen nicht.'),\n",
       " ('259',\n",
       "  'deu',\n",
       "  '\"Daran habe ich nie gedacht\", sagte der alte Mann. \"Was sollen wir tun?\"'),\n",
       " ('260', 'deu', 'Das ist nichts, was\\xa0jeder Beliebige\\xa0tun kann.'),\n",
       " ('261', 'deu', 'Ich weiß nicht, ob ich es noch habe.'),\n",
       " ('262', 'deu', 'Was denkst du, was ich gerade gemacht habe?'),\n",
       " ('263', 'deu', 'Unterschätze nicht meine Macht!'),\n",
       " ('264', 'deu', 'Meine Mutter spricht nicht sehr gut Englisch.'),\n",
       " ('265', 'deu', 'Ich spreche nicht gut genug Französisch!'),\n",
       " ('266', 'deu', 'Ich fragte mich, ob du heute kommen würdest.'),\n",
       " ('267', 'deu', 'Dort liegt das Problem.'),\n",
       " ('268', 'deu', 'Wie findest du Nahrung im Weltraum?'),\n",
       " ('269', 'deu', 'Ihr müsst nichts tun, außer euch zu vertrauen.'),\n",
       " ('270', 'deu', 'Alle wollen dich kennenlernen. Du bist berühmt!'),\n",
       " ('271', 'deu', 'Wieso tut dir etwas leid, das du nicht gemacht hast?'),\n",
       " ('272', 'deu', 'Ich verabscheue förmliches Schreiben zutiefst!'),\n",
       " ('273', 'deu', 'Ausländer machen mich neugierig.'),\n",
       " ('274', 'deu', 'Was auch immer ich tue, sie sagt, ich kann es besser.'),\n",
       " ('275', 'deu', 'Warum bist du um diese Uhrzeit noch wach?'),\n",
       " ('276', 'deu', 'Du wärst überrascht, was man in einer Woche lernen kann.'),\n",
       " ('277', 'deu', 'Ich habe niemanden, der mit mir reisen würde.'),\n",
       " ('278', 'deu', 'Du bist nicht schnell genug.'),\n",
       " ('279', 'deu', 'Das Leben ist hart, aber ich bin härter.'),\n",
       " ('280', 'deu', 'Ertragen kann unerträglich sein.'),\n",
       " ('281', 'deu', 'Hör auf! Sie fühlt sich dadurch unbehaglich!'),\n",
       " ('282', 'deu', 'Nur die Wahrheit ist schön.'),\n",
       " ('283', 'deu', 'Morgen wird er auf dem Mond landen.'),\n",
       " ('284', 'deu', 'Ich spreche kein Japanisch.'),\n",
       " ('285', 'deu', 'Das ist ein Wortspiel.'),\n",
       " ('286', 'deu', 'Niemand versteht mich.'),\n",
       " ('287', 'deu', 'Ich habe gelernt, ohne sie zu leben.'),\n",
       " ('288', 'deu', 'Das bringt nichts mehr, weiter nachzudenken.'),\n",
       " ('289', 'deu', 'Mir gehen in diesen Tagen zu viele Dinge durch den Kopf.'),\n",
       " ('290', 'deu', 'Ich wollte gerade meine E-Mails abrufen.'),\n",
       " ('291',\n",
       "  'deu',\n",
       "  'Musst du wirklich die Frage stellen, um die Antwort zu erfahren?'),\n",
       " ('292',\n",
       "  'deu',\n",
       "  'Du kannst nicht von mir erwarten, dass ich immer an alles denke!'),\n",
       " ('293',\n",
       "  'deu',\n",
       "  'Ich vermute, dass es hinter jeder Sache, die wir tun müssen, etwas gibt, das wir tun wollen...'),\n",
       " ('294', 'deu', 'Du hast wirklich nicht die richtigen Prioritäten!'),\n",
       " ('295',\n",
       "  'deu',\n",
       "  'Man darf nicht darauf warten, dass die anderen für einen denken!'),\n",
       " ('296', 'deu', 'Du hast nie Zeit für die wichtigen Dinge!'),\n",
       " ('297',\n",
       "  'deu',\n",
       "  'Es ist die Mühe nicht wert, so zu tun, als würdest du mich dazu bringen zu glauben, dass ich Dinge glaube, die du nicht glaubst.'),\n",
       " ('298',\n",
       "  'deu',\n",
       "  'Das würde zu lange dauern, dir zu erklären, warum das nicht funktionieren wird.'),\n",
       " ('299',\n",
       "  'deu',\n",
       "  'Ich bin so blöd... ich versuche, dir Dinge zu erklären, die ich selbst nicht verstehe.'),\n",
       " ('300', 'deu', 'Hör auf, mich als einen \"normalen\" Menschen anzusehen!'),\n",
       " ('301',\n",
       "  'deu',\n",
       "  'Du könntest zumindest versuchen, ein bisschen höflicher zu sein, auch wenn das nicht in deiner Natur liegt.'),\n",
       " ('302',\n",
       "  'deu',\n",
       "  'Es gibt immer Dinge, die ich nie lernen werde, ich habe nicht ewig Zeit.'),\n",
       " ('303', 'deu', 'Das ist nicht möglich!'),\n",
       " ('304',\n",
       "  'deu',\n",
       "  'Ich wünschte, ich könnte mir mehr aus Noten machen, aber scheinbar habe ich an einem gewissen Punkt in meinem Leben entschieden, dass es nicht mehr so wichtig sei.'),\n",
       " ('305', 'deu', '„Wer rastet, der rostet“ ist ein Sprichwort.'),\n",
       " ('306', 'deu', 'Willst du etwas zum Trinken?'),\n",
       " ('307', 'deu', '\"Wer ist es?\" \"Es ist deine Mutter.\"'),\n",
       " ('308',\n",
       "  'deu',\n",
       "  '„Wann wirst du zurückkommen?“\\xa0– „Das hängt ganz vom Wetter ab.“'),\n",
       " ('309', 'deu', '„Was ist los?“ fragte das kleine weiße Kaninchen.'),\n",
       " ('310',\n",
       "  'deu',\n",
       "  '„Was passiert in der Höhle? Ich bin neugierig.“\\xa0– „Ich habe keine Ahnung.“'),\n",
       " ('311', 'deu', '\"Was ist dein Wunsch?\", fragte das kleine weiße Kaninchen.'),\n",
       " ('312',\n",
       "  'deu',\n",
       "  'Wir müssen lernen, als Brüder zusammen zu leben, oder wir werden als Narren zusammen untergehen.'),\n",
       " ('313', 'deu', 'Öh, wie funktioniert das?'),\n",
       " ('314',\n",
       "  'deu',\n",
       "  '\"Um die Wahrheit zu sagen, ich habe Höhenangst.\" \"Du bist ein Angsthase!\"'),\n",
       " ('315', 'deu', '\"Vertraue mir\", sagte er.'),\n",
       " ('316', 'deu', '„Danach habe ich gesucht“, erklärte er.'),\n",
       " ('317', 'deu', '„Das sieht ziemlich interessant aus“, sagt Hiroshi.'),\n",
       " ('318',\n",
       "  'deu',\n",
       "  'Ihre Kommunikation ist vielleicht viel komplexer als wir dachten.'),\n",
       " ('319', 'deu', '\"Das Telefon klingelt.\" \"Ich geh\\' dran.\"'),\n",
       " ('320', 'deu', '\"Das ist sehr nett von Ihnen\", antwortete Willie.'),\n",
       " ('321', 'deu', '„Danke für die Hilfe.“\\xa0– „Keine Ursache.“'),\n",
       " ('322', 'deu', 'Irgendwann werde ich wie der Wind rennen.'),\n",
       " ('323', 'deu', '\"Sie mag Musik.\" \"Ich auch.\"'),\n",
       " ('325',\n",
       "  'deu',\n",
       "  'Lass es mich wissen, wenn es irgendetwas gibt, was ich tun kann.'),\n",
       " ('326',\n",
       "  'deu',\n",
       "  'Möglicherweise ist das Glück, das uns dort erwartet, überhaupt nicht die Art Glück, die wir uns wünschen würden.'),\n",
       " ('327', 'deu', 'Du entscheidest, ob wir dahin gehen oder nicht.'),\n",
       " ('328', 'deu', 'Das fängt nicht vor acht Uhr dreißig an.'),\n",
       " ('329',\n",
       "  'deu',\n",
       "  'Ich wünsche mir ein Boot, das mich weit weg von hier bringt.'),\n",
       " ('330', 'deu', '„Ich habe Lust, Karten zu spielen.“ – „Ich auch.“'),\n",
       " ('331',\n",
       "  'deu',\n",
       "  '\"Sind wir uns nicht schon einmal begegnet?\", fragte der Student.'),\n",
       " ('332', 'deu', 'Ein Japaner würde so etwas nie tun.'),\n",
       " ('334', 'deu', 'Der Bogenschütze tötete den Hirsch.'),\n",
       " ('335', 'deu', 'Der Kommunismus wird nie erreicht werden, solange ich lebe.'),\n",
       " ('336', 'deu', 'Der Roggen wurde Arme-Leute-Getreide genannt.'),\n",
       " ('337',\n",
       "  'deu',\n",
       "  'In den 1950ern sagte man den Finnen nach, eine der ungesündesten Ernährungsweisen der Welt zu haben.'),\n",
       " ('338', 'deu', 'Wenn du einen Fehler siehst, dann korrigiere ihn bitte.'),\n",
       " ('339', 'deu', 'Lege das Kartenspiel auf den Eichentisch.'),\n",
       " ('340', 'deu', 'Die Deutschen sind sehr listig.'),\n",
       " ('341', 'deu', 'Wenn man nicht isst, stirbt man.'),\n",
       " ('342', 'deu', 'Wie schreibt man \"pretty\"?'),\n",
       " ('343', 'deu', 'Wieso gehen wir nicht heim?'),\n",
       " ('344', 'deu', 'Es tut mir leid, ich kann nicht lange bleiben.'),\n",
       " ('345', 'deu', '10 Jahre sind eine lange Zeit zum Warten.'),\n",
       " ('346', 'deu', '„Wieso gehst du nicht?“\\xa0– „Weil ich nicht will.“'),\n",
       " ('347', 'deu', 'Eine Million Menschen haben im Krieg ihr Leben verloren.'),\n",
       " ('348',\n",
       "  'deu',\n",
       "  'Ich kam vor drei Jahren nach Tokyo und seither habe ich hier gelebt.'),\n",
       " ('349', 'deu', 'Ich habe mehr als einen Monat lang in Nagoya gelebt.'),\n",
       " ('350',\n",
       "  'deu',\n",
       "  'Es ist überhaupt nicht selten, länger als neunzig Jahre zu leben.'),\n",
       " ('352', 'deu', 'Zuerst werde ich ein Schema meiner neuen Website machen.'),\n",
       " ('354',\n",
       "  'deu',\n",
       "  'Demokratie ist die schlechteste Regierungsform, abgesehen von allen anderen, die ausprobiert wurden.'),\n",
       " ('355',\n",
       "  'deu',\n",
       "  'Wenn man beginnt, seinem Passfoto ähnlich zu sehen, sollte man in den Urlaub fahren.'),\n",
       " ('356', 'deu', \"Ich war's nicht, Kommissar!\"),\n",
       " ('357', 'deu', 'Oh, meine weiße Hose! Sie war neu.'),\n",
       " ('358', 'deu', 'Bei so vielen Leuten wurde er natürlich etwas nervös.'),\n",
       " ('359', 'deu', 'Beim Verlassen des Bahnhofs sah ich einen Mann.'),\n",
       " ('360', 'deu', 'Und niemand hat Ihnen geholfen?'),\n",
       " ('361', 'deu', 'Du bist ein Engel!'),\n",
       " ('362', 'deu', 'Die Madrilenen sind verrückt.'),\n",
       " ('363', 'deu', 'Nun gut, die Nacht ist sehr lang, oder?'),\n",
       " ('364', 'deu', 'Du hast Glück gehabt, dass er dich nicht gebissen hat.'),\n",
       " ('365', 'deu', 'Hast du mich vermisst?'),\n",
       " ('367', 'deu', 'Sind sie alle gleich?'),\n",
       " ('368', 'deu', 'Vielen Dank!'),\n",
       " ('369', 'deu', 'Wo sind bitte die Eier?'),\n",
       " ('370', 'deu', 'Ich nehme ihn.'),\n",
       " ('371', 'deu', 'Das ist eine Überraschung.'),\n",
       " ('372', 'deu', 'Das ist eine gute Idee!'),\n",
       " ('373', 'deu', 'Hin- und Rückfahrt? Nur Hinfahrt.'),\n",
       " ('374', 'deu', 'Es ist schade, wenn jemand stirbt.'),\n",
       " ('375', 'deu', 'Der Mund blieb ihnen offen stehen.'),\n",
       " ('376', 'deu', 'Donnerwetter! Das ist nicht schlecht!'),\n",
       " ('377', 'deu', 'Nach der Wäsche in Form bringen.'),\n",
       " ('378', 'deu', 'Vor dem Tragen waschen.'),\n",
       " ('379', 'deu', 'Nicht öffnen, bevor der Zug hält.'),\n",
       " ('381', 'deu', 'Wer im Glashaus sitzt, sollte nicht mit Steinen werfen.'),\n",
       " ('382', 'deu', 'Man sagt, Liebe mache blind.'),\n",
       " ('383', 'deu', 'Oh, tut mir leid.'),\n",
       " ('384',\n",
       "  'deu',\n",
       "  'Mathe ist wie Liebe - eine einfache Idee, aber es kann kompliziert werden.'),\n",
       " ('385',\n",
       "  'deu',\n",
       "  'Antworten sind nur dann nützlich, wenn sie neue Fragen aufwerfen.'),\n",
       " ('386',\n",
       "  'deu',\n",
       "  'An sich selbst zu zweifeln, ist das erste Zeichen von Intelligenz.'),\n",
       " ('387',\n",
       "  'deu',\n",
       "  'Arm ist nicht, wer zu wenig besitzt, sondern, wer zu viel haben möchte.'),\n",
       " ('388',\n",
       "  'deu',\n",
       "  'Da du nicht überrascht bist, denke ich, musst du es gewusst haben.'),\n",
       " ('389', 'deu', 'Wie lange braucht man bis zum Bahnhof?'),\n",
       " ('390',\n",
       "  'deu',\n",
       "  'Das wird eine gute Erinnerung an meine Reise durch die Vereinigten Staaten sein.'),\n",
       " ('391',\n",
       "  'deu',\n",
       "  'Entschuldigung, erlauben Sie mir, auf drei Fehler in dem obigen Artikel hinzuweisen.'),\n",
       " ('393',\n",
       "  'deu',\n",
       "  'Es ist schwierig, ein Gespräch mit jemandem zu führen, der nur \"Ja\" und \"Nein\" sagt.'),\n",
       " ('394', 'deu', 'Sprichst du Italienisch?'),\n",
       " ('395',\n",
       "  'deu',\n",
       "  '\"Ich kann bei diesem Lärm nicht denken\", sagte sie auf die Schreibmaschine starrend.'),\n",
       " ('396',\n",
       "  'deu',\n",
       "  'Man sagt, dass \"Hamlet\" das interessanteste Stück sei, das je geschrieben wurde.'),\n",
       " ('397',\n",
       "  'deu',\n",
       "  '\"Mama, darf ich einen Keks essen?\" \"Nein, darfst du nicht. Man sollte nicht zwischen den Mahlzeiten essen.\"'),\n",
       " ('398', 'deu', 'Könnte ich eine Frage stellen?'),\n",
       " ('399', 'deu', '\"Wie fühlst du dich?\", fragte er.'),\n",
       " ('400',\n",
       "  'deu',\n",
       "  'Es ist ziemlich schwierig, Französisch nach 2, 3 Jahren zu beherrschen.'),\n",
       " ('401', 'deu', 'Es ist mir unmöglich, es dir zu erklären.'),\n",
       " ('402',\n",
       "  'deu',\n",
       "  'Ich möchte nicht mein restliches Leben damit verbringen, es zu bereuen.'),\n",
       " ('403',\n",
       "  'deu',\n",
       "  'Es wäre lustig zu sehen, wie die Dinge sich im Lauf der Jahre ändern.'),\n",
       " ('404', 'deu', 'Das hätte ich nie gedacht.'),\n",
       " ('405',\n",
       "  'deu',\n",
       "  'Die Fantasie hat Auswirkungen auf alle Aspekte in unserem Leben.'),\n",
       " ('406', 'deu', 'Du wirst mich eines Tages vergessen.'),\n",
       " ('407', 'deu', 'Das ist ziemlich unerwartet.'),\n",
       " ('408', 'deu', 'Ich frage mich, wie lange es dauern wird.'),\n",
       " ('409', 'deu', 'Ich kann ohne Fernsehen nicht leben.'),\n",
       " ('410', 'deu', 'Ich hätte es ohne dich nicht machen können. Danke.'),\n",
       " ('411', 'deu', 'Ohne Anstrengung erreicht man nichts.'),\n",
       " ('412', 'deu', 'Viele Menschen wandern ziellos durchs Leben.'),\n",
       " ('413', 'deu', 'Ein Leben ohne Liebe hat überhaupt keinen Sinn.'),\n",
       " ('414',\n",
       "  'deu',\n",
       "  'Lasst es mich wissen, wenn ich irgendwelche Änderungen machen muss.'),\n",
       " ('415', 'deu', 'Ich denke, dass Prüfungen die Erziehung ruinieren.'),\n",
       " ('416', 'deu', 'Wir können wegen des Lärms nicht schlafen.'),\n",
       " ('417', 'deu', 'Hast du ein Kondom?'),\n",
       " ('418', 'deu', '„Eine Katze?“ fragte der alte Mann.'),\n",
       " ('419', 'deu', 'Tu, was auch immer er dir befiehlt.'),\n",
       " ('420', 'deu', 'Ich kann in 10 Minuten zur Schule gehen.'),\n",
       " ('421',\n",
       "  'deu',\n",
       "  'Ich habe über zwei Stunden gebraucht, um einige Seiten Englisch zu übersetzen.'),\n",
       " ('422', 'deu', 'Es ist schon 11 Uhr.'),\n",
       " ('423', 'deu', 'Könnte ich Fräulein Brown sprechen?'),\n",
       " ('424', 'deu', '\"Ja, Orangensaft bitte\", sagt Mike.'),\n",
       " ('425', 'deu', '\"Ah!\" ist ein Ausruf.'),\n",
       " ('427',\n",
       "  'deu',\n",
       "  'Die Verpflichtung zum Schulbesuch wird selten analysiert in der Vielzahl der Werke, die den mannigfaltigen Arten gewidmet sind, bei Kindern den Wunsch zu lernen zu entwickeln.'),\n",
       " ('428', 'deu', 'Mann bist du doof! Ich muss dir echt alles erklären!'),\n",
       " ('429', 'deu', 'Ich habe ein Hühnchen mit dir zu rupfen.'),\n",
       " ('430', 'deu', 'Ist es nötig, dass ich dir Geld gebe?'),\n",
       " ('431', 'deu', 'Paris ist die schönste Stadt der Welt.'),\n",
       " ('432',\n",
       "  'deu',\n",
       "  'Ich dachte immer, einen Herzanfall zu haben, sei die Art der Natur, dir zu sagen, dass du sterben musst.'),\n",
       " ('433',\n",
       "  'deu',\n",
       "  'He, ich habe vielleicht kein Geld, aber ich habe immer noch meinen Stolz.'),\n",
       " ('434', 'deu', 'Ich habe einen Traum.'),\n",
       " ('435',\n",
       "  'deu',\n",
       "  'Das ist meine Freundin Rachel, wir sind zusammen ins Gymnasium gegangen.'),\n",
       " ('436', 'deu', 'Die Lebenshaltungskosten sind drastisch gestiegen.'),\n",
       " ('437', 'deu', 'Alles Erfundene ist wahr.'),\n",
       " ('438',\n",
       "  'deu',\n",
       "  'Überrascht sein, sich wundern, heißt anfangen, zu verstehen.'),\n",
       " ('439', 'deu', 'Zweifellos ist das Universum unendlich.'),\n",
       " ('440', 'deu', 'Zur Vollkommenheit fehlte ihr nur ein Fehler.'),\n",
       " ('441', 'deu', 'Und doch, auch das Gegenteil ist immer wahr.'),\n",
       " ('442',\n",
       "  'deu',\n",
       "  'Wir sehen die Dinge nicht, wie sie sind, sondern wie wir sind.'),\n",
       " ('443', 'deu', 'Die Welt ist ein Irrenhaus.'),\n",
       " ('444',\n",
       "  'deu',\n",
       "  'Kein Schüler beschwert sich je, Schmerzen im Frontallappen der linken Gehirnhälfte zu haben.'),\n",
       " ('445',\n",
       "  'deu',\n",
       "  'Du hast mir die Augen dafür geöffnet, wie es ist, wenn alles gut geht.'),\n",
       " ('446', 'deu', 'Du hast mich gefunden, wo sonst niemand gesucht hat.'),\n",
       " ('447', 'deu', 'Du bist an meiner Seite, jetzt ist alles gut.'),\n",
       " ('448', 'deu', 'Wie, du weißt nicht?!'),\n",
       " ('449', 'deu', 'Du siehst dumm aus.'),\n",
       " ('450', 'deu', 'Ich denke, ich werde schlafen gehen.'),\n",
       " ('451', 'deu', 'Ich muss einkaufen gehen, ich komme in einer Stunde zurück.'),\n",
       " ('452', 'deu', 'Ich heiße Jack.'),\n",
       " ('453', 'deu', 'Es gefällt mir sehr gut.'),\n",
       " ('454', 'deu', 'Sehen wir uns morgen?'),\n",
       " ('455', 'deu', 'Wie heißt das auf Italienisch?'),\n",
       " ('456', 'deu', 'Ist es weit von hier?'),\n",
       " ('457', 'deu', 'Das sind nicht meine Sachen!'),\n",
       " ('458', 'deu', 'Danke, das ist alles.'),\n",
       " ('459', 'deu', 'Tanzt du mit mir?'),\n",
       " ('460', 'deu', 'Wie viel Uhr ist es?'),\n",
       " ('464', 'deu', 'Es ist nicht meine Schuld!'),\n",
       " ('465', 'deu', 'Ich möchte eine Nacht bleiben.'),\n",
       " ('466', 'deu', 'Könnten Sie für mich wählen? Das Telefon hängt zu hoch.'),\n",
       " ('467', 'deu', 'Gibt es hier in der Nähe eine Jugendherberge?'),\n",
       " ('468', 'deu', 'Wo sind die Duschen?'),\n",
       " ('469', 'deu', 'Öffnen Sie den Mund!'),\n",
       " ('470', 'deu', 'Ist es schlimm?'),\n",
       " ('471', 'deu', 'Ich habe meine Brieftasche verloren.'),\n",
       " ('472', 'deu', 'Ich bin einverstanden.'),\n",
       " ('473', 'deu', 'Liebe ist nie verschwendet.'),\n",
       " ('474',\n",
       "  'deu',\n",
       "  'Leben ist das, was dir zustößt, während du gerade damit beschäftigt bist, andere Pläne zu machen.'),\n",
       " ('475', 'deu', 'Nicht wollen ist das Gleiche wie haben.'),\n",
       " ('476', 'deu', 'Er ist sehr sexy.'),\n",
       " ('477', 'deu', 'Lass mich in Ruhe!'),\n",
       " ('478', 'deu', '„Gib mir bitte das Salz.“ „Hier, nimm.“'),\n",
       " ('479', 'deu', 'Es gibt zu viele Dinge zu tun!'),\n",
       " ('480', 'deu', 'Wie alt bist du?'),\n",
       " ('481', 'deu', \"Los, spiel' mit mir, mir ist so langweilig!\"),\n",
       " ('482', 'deu', 'Denk nicht mal dran, meine Schokolade zu essen!'),\n",
       " ('483',\n",
       "  'deu',\n",
       "  'Hör auf, mich um ein Getränk zu bitten! Geh, hol dir selbst eins.'),\n",
       " ('484', 'deu', 'Dank dir habe ich meinen Appetit verloren.'),\n",
       " ('485', 'deu', 'Ich habe wirklich das Bedürfnis, jemanden zu schlagen.'),\n",
       " ('486',\n",
       "  'deu',\n",
       "  'Das ist so lange her, dass ich mit meiner Familie ins Disneyland gegangen bin.'),\n",
       " ('487',\n",
       "  'deu',\n",
       "  'Meine Eltern streiten sich dauernd wegen Kleinigkeiten. Das regt mich so auf!'),\n",
       " ('488',\n",
       "  'deu',\n",
       "  \"Wenn du dich nicht mit Sonnencreme eincremen willst, ist das deine Sache. Aber beschwer' dich später nicht bei mir, wenn du Sonnenbrand hast.\"),\n",
       " ('489',\n",
       "  'deu',\n",
       "  'Meine Freunde sagen immer, ich sei zu ruhig, aber meine Familie sagt immer, ich sei zu nervig.'),\n",
       " ('490',\n",
       "  'deu',\n",
       "  'Ich hasse diese Spinnen; wegen denen flippe ich jedes Mal aus, wenn ich sauber mache.'),\n",
       " ('491',\n",
       "  'deu',\n",
       "  'Zu nervig... Ich kann nicht einmal einen Computer benutzen, ohne Kopfweh zu bekommen!'),\n",
       " ('492',\n",
       "  'deu',\n",
       "  'Es ist so heiß, dass man Eier auf den Motorhauben der Autos braten könnte.'),\n",
       " ('493', 'deu', 'Wer kennt dieses Problem nicht?!'),\n",
       " ('494', 'deu', 'Heute ist es sehr heiß.'),\n",
       " ('495', 'deu', 'Es ist niemand gekommen.'),\n",
       " ('496', 'deu', 'Ich habe noch nie einen roten Kühlschrank gesehen.'),\n",
       " ('497', 'deu', 'Er hat sein Wort gebrochen.'),\n",
       " ('498',\n",
       "  'deu',\n",
       "  'Lieber für das gehasst werden, was man ist, als geliebt werden für das, was man nicht ist.'),\n",
       " ('499', 'deu', 'Es ist einsam im Sattel, seit das Pferd gestorben ist.'),\n",
       " ('500',\n",
       "  'deu',\n",
       "  'Die Mathematik ist der Teil der Wissenschaft, den man weiter betreiben könnte, wenn man morgen aufwachen würde und entdecken würde, dass das Universum weg ist.'),\n",
       " ('501',\n",
       "  'deu',\n",
       "  'Meine Augen sind ein Ozean, in dem sich meine Träume spiegeln.'),\n",
       " ('502',\n",
       "  'deu',\n",
       "  'Ihr kennt den Satz, wir ernten, was wir säen. Ich habe den Wind gesät und hier ist mein Sturm.'),\n",
       " ('503', 'deu', 'Schau mich an, wenn ich mit dir rede!'),\n",
       " ('504', 'deu', 'Was wäre die Welt ohne Frauen?'),\n",
       " ('505',\n",
       "  'deu',\n",
       "  'Was wäre, wenn du eine Rede halten würdest, und niemand käme?'),\n",
       " ('506', 'deu', 'Ich weiß nicht, was ich sagen soll, um dich zu trösten.'),\n",
       " ('507', 'deu', 'Er ist nicht mein Typ.'),\n",
       " ('508', 'deu', 'Ich versuchte, die Zeit totzuschlagen.'),\n",
       " ('509', 'deu', 'Wie bist du auf diese verrückte Idee gekommen?'),\n",
       " ('511', 'deu', 'Wer will heiße Schokolade?'),\n",
       " ('512', 'deu', 'Sprechen Sie bitte langsamer!'),\n",
       " ('516', 'deu', 'Und was werden wir machen?'),\n",
       " ('517', 'deu', 'Ich habe Kopfweh.'),\n",
       " ('518', 'deu', 'Wo kann man telefonieren?'),\n",
       " ('519', 'deu', 'Ich muss zugeben, dass ich schnarche.'),\n",
       " ('520', 'deu', 'Heute Abend gehen wir in die Kirche.'),\n",
       " ('521', 'deu', \"Wie geht's dir? Hattest du eine gute Reise?\"),\n",
       " ('522', 'deu', 'Ich fühle mich nicht gut.'),\n",
       " ('523', 'deu', 'Rufen Sie die Polizei!'),\n",
       " ('524', 'deu', 'Das ist zu teuer!'),\n",
       " ('525', 'deu', 'Sie gibt nur vor zu schlafen, deswegen schnarcht sie nicht.'),\n",
       " ('526', 'deu', 'Meine Schuhe sind zu klein, ich brauche neue.'),\n",
       " ('527', 'deu', 'Hauen wir ab von hier, die Bullen kommen.'),\n",
       " ('528', 'deu', 'Fröhliche Weihnachten!'),\n",
       " ('529', 'deu', 'Das wäre zu cool, wenn ich zehn Sprachen sprechen könnte!'),\n",
       " ('530',\n",
       "  'deu',\n",
       "  '\"Wenn du müde bist, wieso gehst du nicht schlafen?\" \"Weil ich zu früh aufwachen werde, wenn ich jetzt schlafen gehe.\"'),\n",
       " ('531', 'deu', 'Du hättest mir zuhören sollen.'),\n",
       " ('532',\n",
       "  'deu',\n",
       "  'Das ist ein totales Schlamassel und es geht mir auf die Nerven.'),\n",
       " ('533',\n",
       "  'deu',\n",
       "  'Wenn der Körper berührt wird, schicken Rezeptoren in der Haut Nachrichten zum Gehirn und verursachen die Ausschüttung von chemischen Stoffen wie Endorphinen.'),\n",
       " ('534', 'deu', 'Was bringt das mit sich?'),\n",
       " ('535',\n",
       "  'deu',\n",
       "  'Man erwartet, dass 2006 hundertfünfzigtausend Paare in Shanghai heiraten.'),\n",
       " ('536',\n",
       "  'deu',\n",
       "  'Die Ausgewählten werden umfassende medizinische und psychologische Tests machen müssen.'),\n",
       " ('537',\n",
       "  'deu',\n",
       "  'Eine halbe Million Kinder im Niger leidet immer noch an Unterernährung.'),\n",
       " ('538',\n",
       "  'deu',\n",
       "  'Es wird fünf bis zehn Jahre dauern, bis die Technologie bereit ist.'),\n",
       " ('539', 'deu', 'Fahrräder sind Hilfsmittel für städtische Nachhaltigkeit.'),\n",
       " ('540',\n",
       "  'deu',\n",
       "  'Die französische Regierung hat ein Online-Spiel auf den Markt gebracht, das Steuerzahler auffordert, den Staatshaushalt auszugleichen.'),\n",
       " ('541', 'deu', 'Er wäre froh, das zu hören.'),\n",
       " ('542',\n",
       "  'deu',\n",
       "  'Was glauben Sie ist wahr, obwohl Sie es nicht beweisen können?'),\n",
       " ('543', 'deu', 'Computer machen die Leute dumm.'),\n",
       " ('544', 'deu', 'Fragt nicht, was sie denken. Fragt, was sie tun.'),\n",
       " ('545',\n",
       "  'deu',\n",
       "  'Wenn Sie versuchen, etwas zu beweisen, hilft es zu wissen, dass es wahr ist.'),\n",
       " ('546',\n",
       "  'deu',\n",
       "  'Was die Welt verändert, ist Kommunikation, nicht Information.'),\n",
       " ('547',\n",
       "  'deu',\n",
       "  'Die meisten wissenschaftlichen Durchbrüche sind nichts anderes als die Entdeckung von etwas Selbstverständlichem.'),\n",
       " ('548',\n",
       "  'deu',\n",
       "  'Wenn Sie etwas nicht verstehen, dann, weil Sie sich nicht des Kontextes bewusst sind.'),\n",
       " ('549',\n",
       "  'deu',\n",
       "  'Die Vergangenheit kann man nur kennen, nicht ändern. Die Zukunft kann man nur ändern, nicht kennen.'),\n",
       " ('550',\n",
       "  'deu',\n",
       "  'Die Schlüsselfrage ist nicht, was ich gewinnen kann, sondern, was ich verlieren kann.'),\n",
       " ('551',\n",
       "  'deu',\n",
       "  'Alles, was falsch verstanden werden kann, wird falsch verstanden werden.'),\n",
       " ('552',\n",
       "  'deu',\n",
       "  'Jedes Universum, das einfach genug ist, um verstanden zu werden, ist zu einfach, um einen Geist hervorzubringen, der es versteht.'),\n",
       " ('553', 'deu', 'Warum ist das Leben so voll mit Leiden?'),\n",
       " ('554', 'deu', 'Trotz der Wichtigkeit von Schlaf ist sein Zweck ein Rätsel.'),\n",
       " ('555',\n",
       "  'deu',\n",
       "  'Was bedeutet es, im 21. Jahrhundert einen gebildeten Verstand zu haben?'),\n",
       " ('556', 'deu', 'Leidenschaft schafft Leiden.'),\n",
       " ('557', 'deu', 'Der Zug aus Genf wird in den Bahnhof einfahren.'),\n",
       " ('558',\n",
       "  'deu',\n",
       "  'Ich würde ihm gerne ein Geschenk zu seinem Geburtstag machen.'),\n",
       " ('559', 'deu', 'Ich sterbe vor Hunger!'),\n",
       " ('560', 'deu', 'Hast du Freunde in Antigua?'),\n",
       " ('561', 'deu', 'Ein Kubikmeter entspricht 1000 Litern.'),\n",
       " ('562',\n",
       "  'deu',\n",
       "  'Ich habe so viel Arbeit, dass ich eine Stunde länger bleibe.'),\n",
       " ('563', 'deu', 'Ich bin verheiratet und habe zwei Kinder.'),\n",
       " ('564', 'deu', 'Er spielt sehr gut Klavier.'),\n",
       " ('566', 'deu', 'Ich möchte in Paris studieren.'),\n",
       " ('567', 'deu', 'Ihr wisst nicht, wer ich bin.'),\n",
       " ('568', 'deu', 'Warum isst du kein Gemüse?'),\n",
       " ('569', 'deu', 'Warum gehen Leute ins Kino?'),\n",
       " ('570', 'deu', 'Ich ziehe mich aus.'),\n",
       " ('571', 'deu', 'Das Auto fuhr gegen die Mauer.'),\n",
       " ('572', 'deu', 'Es gibt keine reellen Visionen.'),\n",
       " ('573',\n",
       "  'deu',\n",
       "  'Es bringt nichts, mir \"Hallo, wie geht\\'s?\" zu sagen, wenn du sonst nichts zu sagen hast.'),\n",
       " ('574',\n",
       "  'deu',\n",
       "  'In einem Wörterbuch wie diesem sollte es mindestens zwei Sätze mit \"Kühlschrank\" geben.'),\n",
       " ('575', 'deu', 'Der Kreationismus ist eine Pseudowissenschaft.'),\n",
       " ('576', 'deu', 'Der Wind hat sich beruhigt.'),\n",
       " ('578', 'deu', 'Ich will nicht um deine Hand anhalten!'),\n",
       " ('579', 'deu', 'Gib mir Zeit, dir alles zu geben, was ich habe!'),\n",
       " ('580',\n",
       "  'deu',\n",
       "  'Ein Demokrat ist ein freier Bürger, der sich dem Willen der Mehrheit beugt.'),\n",
       " ('583', 'deu', 'Rom ist nicht an einem Tage erbaut worden.'),\n",
       " ('584', 'deu', 'Keine Antwort ist auch eine.'),\n",
       " ('585',\n",
       "  'deu',\n",
       "  '„Bist du fertig?“\\xa0– „Im Gegenteil. Ich habe noch nicht einmal begonnen.“'),\n",
       " ('586', 'deu', '\"Guten Morgen\", sagte Tom mit einem Lächeln.'),\n",
       " ('587', 'deu', 'Warum sagt man \"Guten Tag!\", wenn der Tag nicht gut ist?'),\n",
       " ('588', 'deu', 'Wein ist in Flaschen gefüllte Poesie.'),\n",
       " ('589', 'deu', 'Das war der schönste Tag in meinem Leben.'),\n",
       " ('590', 'deu', 'Ich verstehe kein Deutsch.'),\n",
       " ('591', 'deu', 'Ich habe meine Entscheidung getroffen.'),\n",
       " ('592', 'deu', 'Ich gebe dir mein Wort.'),\n",
       " ('594', 'deu', 'Du bist die große Liebe meines Lebens.'),\n",
       " ('595', 'deu', 'Objektiv sein heißt, nicht zu verraten, zu wem man hält.'),\n",
       " ('596', 'deu', 'Wir haben einen Papst.'),\n",
       " ('597',\n",
       "  'deu',\n",
       "  'Ein Mathematiker ist ein Mensch, der einen ihm vorgetragenen Gedanken nicht nur sofort begreift, sondern auch erkennt, auf welchem Denkfehler er beruht.'),\n",
       " ('598', 'deu', 'Das Ganze ist mehr als die Summe seiner Teile.'),\n",
       " ('599', 'deu', 'Die Mathematik ist dem Verlangen nicht abträglich.'),\n",
       " ('600',\n",
       "  'deu',\n",
       "  'Eine mathematische Wahrheit ist weder einfach noch kompliziert, sie ist.'),\n",
       " ('601',\n",
       "  'deu',\n",
       "  'Mathematiker sind Dichter, nur müssen sie das, was ihre Fantasie schafft, auch beweisen.'),\n",
       " ('602', 'deu', 'Die Mathematik ist wie die Logik der Physik.'),\n",
       " ('603',\n",
       "  'deu',\n",
       "  'Die Mathematiker sind eine Art Franzosen: redet man zu ihnen, so übersetzen sie es in ihre Sprache, und dann ist es alsobald ganz etwas anders.'),\n",
       " ('604',\n",
       "  'deu',\n",
       "  'Ein Experte ist jemand, der die schlimmsten Fehler kennt, die in seinem Gebiet gemacht werden können und weiß, wie man sie vermeidet.'),\n",
       " ('605',\n",
       "  'deu',\n",
       "  'Mathe zu machen ist die einzige gesellschaftlich akzeptable Art, sich in der Öffentlichkeit selbstzubefriedigen.'),\n",
       " ('606',\n",
       "  'deu',\n",
       "  'Es gibt 10 Arten von Menschen in der Welt: die, die das Binärsystem verstehen, und die, die es nicht verstehen.'),\n",
       " ('607', 'deu', 'Ich denke nicht, also bin ich nicht.'),\n",
       " ('608',\n",
       "  'deu',\n",
       "  'Heutzutage wollen wir, dass unsere Kinder ihre eigenen Entscheidungen treffen, aber wir erwarten, dass uns diese Entscheidungen passen.'),\n",
       " ('609', 'deu', 'Mach dir keine Sorgen, sei fröhlich!'),\n",
       " ('610',\n",
       "  'deu',\n",
       "  'Im Alter von sechs Jahren hatte er gelernt, eine Schreibmaschine zu bedienen und er erklärte dem Lehrer, dass er nicht lernen müsste, mit der Hand zu schreiben.'),\n",
       " ('611', 'deu', 'Ich finde Fremdsprachen sehr interessant.'),\n",
       " ('612', 'deu', 'Ich lerne nicht gerne unregelmäßige Verben.'),\n",
       " ('613', 'deu', 'Nimm ein Buch und lies es!'),\n",
       " ('614', 'deu', 'Stell dich dem Leben lächelnd!'),\n",
       " ('615',\n",
       "  'deu',\n",
       "  'Die meisten Schulen wurden nicht konzipiert, um die Gesellschaft zu verändern, sondern um sie zu reproduzieren.'),\n",
       " ('616', 'deu', 'Du bringst mich zum Träumen.'),\n",
       " ('617', 'deu', 'Ich bin außer mir vor Freude.'),\n",
       " ('618', 'deu', 'Er ist schon ein Mann.'),\n",
       " ('619', 'deu', 'Die Ferien sind jetzt vorbei.'),\n",
       " ('620', 'deu', 'Ich habe Angst zu fallen.'),\n",
       " ('621', 'deu', 'Abendgarderobe ist erwünscht.'),\n",
       " ('622', 'deu', 'Das ist die reine Wahrheit.'),\n",
       " ('623', 'deu', 'Es ist kalt.'),\n",
       " ('625',\n",
       "  'deu',\n",
       "  'Wenn ich Leute frage, was sie in Bezug aufs Gymnasium am meisten bedauern, sagen fast alle das Gleiche: dass sie so viel Zeit verschwendet haben.'),\n",
       " ('626',\n",
       "  'deu',\n",
       "  'Wenn man nicht machen kann, was man will, macht man, was man kann.'),\n",
       " ('627',\n",
       "  'deu',\n",
       "  'Wenn man ihm den kleinen Finger gibt, so nimmt er die ganze Hand.'),\n",
       " ('628', 'deu', 'Du hast Recht.'),\n",
       " ('629', 'deu', 'Das hast du absichtlich getan!'),\n",
       " ('630', 'deu', 'Du hast ihm nichts gesagt?'),\n",
       " ('631', 'deu', 'Du hast mir den Kopf verdreht.'),\n",
       " ('632', 'deu', 'Du bist mein Typ.'),\n",
       " ('633', 'deu', 'Du bist unwiderstehlich.'),\n",
       " ('634', 'deu', 'Könntest du bitte später zurückrufen?'),\n",
       " ('635', 'deu', 'Mit wem spreche ich?'),\n",
       " ('636', 'deu', 'Ich akzeptiere, aber nur unter einer Bedingung.'),\n",
       " ('637', 'deu', \"Lächle jetzt, heul' später!\"),\n",
       " ('638', 'deu', 'Das Leben ist schön.'),\n",
       " ('639',\n",
       "  'deu',\n",
       "  'Verdirb mir nicht mein Vergnügen nach der ganzen Mühe, die ich mir gemacht habe.'),\n",
       " ('640',\n",
       "  'deu',\n",
       "  'Es gibt Tage, an denen ich den Eindruck habe, dass mein Gehirn mich im Stich lassen will.'),\n",
       " ('641',\n",
       "  'deu',\n",
       "  'Ich kann mir nicht gleichzeitig die Nägel schneiden und bügeln!'),\n",
       " ('642',\n",
       "  'deu',\n",
       "  'Ich halte es nicht mehr aus! Ich habe seit drei Tagen nicht mehr geschlafen!'),\n",
       " ('643', 'deu', 'Er will nicht, dass du ihm von deinem Sexualleben erzählst.'),\n",
       " ('644', 'deu', 'Hast du schon Bananenkuchen gegessen?'),\n",
       " ('645', 'deu', 'Warum heiratet man eine Frau, wenn man Männer liebt?'),\n",
       " ('646',\n",
       "  'deu',\n",
       "  'Wenn du keine Kinder kriegen kannst, kannst du immer noch welche adoptieren.'),\n",
       " ('648', 'deu', 'Was hat dich dazu gebracht, deine Meinung zu ändern?'),\n",
       " ('649', 'deu', \"Hey, schau' mal, ein Affe mit drei Köpfen!\"),\n",
       " ('650',\n",
       "  'deu',\n",
       "  'Es ist schade, dass man Wunder nicht kaufen kann, wie man Kartoffeln kauft.'),\n",
       " ('651', 'deu', 'Ich liebe Lasagne.'),\n",
       " ('652',\n",
       "  'deu',\n",
       "  'Wenn man weiß, dass etwas Unangenehmes geschehen wird, dass man zum Beispiel zum Zahnarzt oder nach Frankreich gehen wird, dann ist das nicht gut.'),\n",
       " ('653',\n",
       "  'deu',\n",
       "  'Tatsächlich ist ein halbes Auge sehr nützlich, denn mit einem halben Auge kann ein Tier die Hälfte von einem anderen Tier sehen, das es auffressen will, und ihm aus dem Weg gehen, und es wird selber das Tier fressen, das nur ein Drittel-Auge oder nur 49% eines Auges hat, weil dieses ihm nicht schnell genug aus dem Weg gehen wird, und das Tier, das aufgefressen wurde, wird keine Kinder bekommen, weil es tot ist.'),\n",
       " ('654',\n",
       "  'deu',\n",
       "  'Primzahlen sind wie das Leben, sie sind völlig logisch, aber es ist unmöglich, Regeln für sie zu finden, selbst wenn man seine ganze Zeit dem Nachdenken darüber widmet.'),\n",
       " ('655',\n",
       "  'deu',\n",
       "  'Wenn man eine Augenbraue hochzieht, kann das bedeuten \"Ich habe Lust, mit dir Sex zu haben\", aber auch \"Ich finde, dass das, was du gerade gesagt hast, vollkommen idiotisch ist.\"'),\n",
       " ('656', 'deu', 'Das Gehirn ist nur eine komplizierte Maschine.'),\n",
       " ('657',\n",
       "  'deu',\n",
       "  'Ein Stundenplan ist ein Ausweis für die Zeit, nur, wenn man keinen Stundenplan hat, ist die Zeit nicht da.'),\n",
       " ('658', 'deu', 'Dieses Pinguinbaby ist so niedlich!'),\n",
       " ('660', 'deu', 'Ich bin im Krankenhaus. Ich wurde vom Blitz getroffen.'),\n",
       " ('661', 'deu', 'Gib die Hoffnung nicht auf, noch ist nicht alles verloren.'),\n",
       " ('662',\n",
       "  'deu',\n",
       "  'Seien wir ehrlich, es ist unmöglich. Wir werden es nie schaffen.'),\n",
       " ('663', 'deu', 'Was ist ihre größte Inspirationsquelle?'),\n",
       " ('664',\n",
       "  'deu',\n",
       "  'Man heiratet nicht jemanden, mit dem man leben kann - man heiratet die Person, ohne die man nicht leben kann.'),\n",
       " ('665',\n",
       "  'deu',\n",
       "  'In der Theorie gibt es keinen Unterschied zwischen Theorie und Praxis. Aber in der Praxis gibt es einen.'),\n",
       " ('666',\n",
       "  'deu',\n",
       "  'Bleibt nicht im Bett, sofern ihr nicht im Bett Geld verdienen könnt.'),\n",
       " ('667',\n",
       "  'deu',\n",
       "  'Es gibt Leute auf der Welt, die so hungrig sind, dass Gott ihnen nicht erscheinen kann, außer in Form von Brot.'),\n",
       " ('668', 'deu', 'Alles, was zu dumm ist, um gesagt zu werden, wird gesungen.'),\n",
       " ('669',\n",
       "  'deu',\n",
       "  'Es erfordert Weisheit, um Weisheit zu verstehen: die Musik ist nichts, wenn das Publikum taub ist.'),\n",
       " ('670',\n",
       "  'deu',\n",
       "  'Ich habe gerade die Briefe nochmal gelesen, die du mir geschickt hast.'),\n",
       " ('671', 'deu', 'Ich will nicht in die Schule gehen.'),\n",
       " ('672', 'deu', 'Es ist aus zwischen uns, gib mir meinen Ring zurück!'),\n",
       " ('673', 'deu', 'Es regnet.'),\n",
       " ('674',\n",
       "  'deu',\n",
       "  'Ich hatte vor, heute an den Strand zu gehen, aber dann fing es an zu regnen.'),\n",
       " ('675', 'deu', 'Sie ist wirklich intelligent, oder?'),\n",
       " ('676',\n",
       "  'deu',\n",
       "  'Eine Meinung ist nur dann schockierend, wenn sie eine Überzeugung ist.'),\n",
       " ('677',\n",
       "  'deu',\n",
       "  'Menschen, die lieben, zweifeln an nichts oder zweifeln an allem.'),\n",
       " ('678', 'deu', 'Gerechtigkeit ist teuer.'),\n",
       " ('679',\n",
       "  'deu',\n",
       "  'Freiheit besteht darin, alles machen zu können, was keinem anderen schadet.'),\n",
       " ('680',\n",
       "  'deu',\n",
       "  'Der Langsamste beim Versprechen ist der Treueste beim Einhalten.'),\n",
       " ('681',\n",
       "  'deu',\n",
       "  'Ein Kind ist nicht ein Gefäß zum Vollfüllen, sondern ein Feuer zum Anzünden.'),\n",
       " ('682', 'deu', 'Jede Meinung ist eine Mischung aus Wahrheit und Irrtum.'),\n",
       " ('683',\n",
       "  'deu',\n",
       "  'Das Leben ist eine tödliche, sexuell übertragbare Krankheit.'),\n",
       " ('684',\n",
       "  'deu',\n",
       "  'Wenn zwei Menschen immer die gleiche Meinung haben, ist einer von ihnen überflüssig.'),\n",
       " ('685',\n",
       "  'deu',\n",
       "  'Unsere Meinung ist eine Idee, die wir haben; unsere Überzeugung eine Idee, die uns hat.'),\n",
       " ('686', 'deu', 'Morgen werde ich in der Bibliothek lernen.'),\n",
       " ('687', 'deu', 'Zu spät.'),\n",
       " ('688', 'deu', 'Gestern bin ich in den Zoo gegangen.'),\n",
       " ('689', 'deu', 'Wir haben die Schlacht gewonnen.'),\n",
       " ('690', 'deu', 'Hallo? Bist du noch da?'),\n",
       " ('691', 'deu', 'Ich mache jeden Tag das Mittagessen.'),\n",
       " ('692', 'deu', 'Heute Morgen habe ich ferngesehen.'),\n",
       " ('693', 'deu', 'Ich habe während des Essens ein Buch gelesen.'),\n",
       " ('694',\n",
       "  'deu',\n",
       "  'Ich habe während der Mittagspause ein wenig geschlafen, weil ich so müde war.'),\n",
       " ('695', 'deu', 'Ich habe letzte Woche begonnen, Chinesisch zu lernen.'),\n",
       " ('696',\n",
       "  'deu',\n",
       "  'Es ist einfacher, Leute im Internet anzubaggern als auf der Straße.'),\n",
       " ('697',\n",
       "  'deu',\n",
       "  'Ich wohne nahe am Meer, also kann ich oft an den Strand gehen.'),\n",
       " ('698', 'deu', 'Eines Tages werde ich eine Zuckerwattemaschine kaufen.'),\n",
       " ('699', 'deu', 'Es ist praktisch, einen Laptop zu haben.'),\n",
       " ('700', 'deu', 'Deine Brille ist auf den Boden gefallen.'),\n",
       " ('701', 'deu', 'Wie oft am Tag schaust du dich im Spiegel an?'),\n",
       " ('702', 'deu', 'Letztes Jahr sind wir nach London gegangen.'),\n",
       " ('703', 'deu', 'Sie will nicht darüber sprechen.'),\n",
       " ('704', 'deu', 'Ich habe meine Inspiration verloren.'),\n",
       " ('705', 'deu', 'Ich brauche mehr Zeit.'),\n",
       " ('706', 'deu', 'Wenn du nichts zu tun hast, schau an deine Zimmerdecke.'),\n",
       " ('707', 'deu', 'Das bedeutet nichts!'),\n",
       " ('708', 'deu', 'Sei bitte geduldig, das braucht Zeit.'),\n",
       " ('709', 'deu', 'Schließ beim Hinausgehen die Türe.'),\n",
       " ('710', 'deu', 'Das ist so eine traurige Geschichte.'),\n",
       " ('711', 'deu', 'Wenn es keine Lösung gibt, dann gibt es kein Problem.'),\n",
       " ('712', 'deu', 'Mein kleiner Bruder sieht fern.'),\n",
       " ('713',\n",
       "  'deu',\n",
       "  'Es ist anmaßend von Menschen, anzunehmen, dass unsere Aufgabe ist, zu tun, was nur Gott tun kann.'),\n",
       " ('714',\n",
       "  'deu',\n",
       "  'Ein kluger Leser sollte bereit sein, alles abzuwägen, was er liest, einschließlich der anonymen Quellen.'),\n",
       " ('715',\n",
       "  'deu',\n",
       "  'Katja leugnete, dass sie eine Anarchistin war, indem sie behauptete, dass sie nur wünschte, Veränderung in unserer Regierung zu machen, nicht, sie zu zerstören.'),\n",
       " ('716',\n",
       "  'deu',\n",
       "  'Blindheit ist verantwortlich für eine erschütternde Anzahl von Opfern schlechter Gesundheit, Leiden und Verlust von Würde und Verminderung der Lebensqualität von Menschen in der ganzen Welt.'),\n",
       " ('717',\n",
       "  'deu',\n",
       "  'Bildung und Bewegung von Hurrikanen sind unberechenbar, sogar mit unserer modernen Technologie.'),\n",
       " ('718',\n",
       "  'deu',\n",
       "  'Wenn man ein Telegramm sendet, ist Kürze unerlässlich, weil einem jedes Wort berechnet wird.'),\n",
       " ('719',\n",
       "  'deu',\n",
       "  'David hat ein leidenschaftliches Interesse an Ästhetik - den Eigenschaften, die ein Gemälde, eine Skulptur, eine musikalische Komposition oder ein Gedicht Auge, Ohr oder Geist gefallen lassen.'),\n",
       " ('720',\n",
       "  'deu',\n",
       "  'Trotz Trangs regelmäßigen Liebesbeteuerungen hat Spenser immer noch Angst, dass sie irgendwann aufhören wird, ihn zu lieben.'),\n",
       " ('721', 'deu', 'Hast du ihn in der Universität getroffen?'),\n",
       " ('722', 'deu', 'Aaah!! Mein Computer ist kaputt!'),\n",
       " ('723',\n",
       "  'deu',\n",
       "  'Die privaten Colleges und Universitäten der Vereinigten Staaten sind selbstständig.'),\n",
       " ('724',\n",
       "  'deu',\n",
       "  'Jedes Mal, wenn ich in ein neues Warcraft-Spiel eintrete, stehe ich einem neuen Team von Gegnern gegenüber.'),\n",
       " ('725',\n",
       "  'deu',\n",
       "  'Seit ich weiß, dass die Universität existiert, will ich hingehen.'),\n",
       " ('726', 'deu', 'Meine Wahlunlust kommt von meiner Abneigung gegen Politik.'),\n",
       " ('727',\n",
       "  'deu',\n",
       "  'Es ist der Aufstieg der Monarchen, der ihre Untertanen vom Aufstand abhält.'),\n",
       " ('728',\n",
       "  'deu',\n",
       "  'Sarah war scharfsinnig genug, um zu merken, dass ihre Freunde versuchten, ihr einen Streich zu spielen.'),\n",
       " ('729', 'deu', 'Das Orchester macht misstönende Geräusche beim Stimmen.'),\n",
       " ('730',\n",
       "  'deu',\n",
       "  'Die Unstimmigkeit zwischen den Geschichten der zwei Unfallbeteiligten war so groß, dass die Behörden Schwierigkeiten hatten, zu entscheiden, welche Seite die Wahrheit erzählte.'),\n",
       " ('731', 'deu', 'Ja, das passiert von Zeit zu Zeit.'),\n",
       " ('732',\n",
       "  'deu',\n",
       "  'Ich habe große Angst, von denen verschmäht zu werden, für die ich Liebe und Zuneigung empfinde.'),\n",
       " ('733',\n",
       "  'deu',\n",
       "  'Die meisten Leute haben große Unlust, früh aufzustehen, selbst wenn sie es müssen.'),\n",
       " ('734', 'deu', 'Die meisten Leute wollen nur ihre eigene Wahrheit hören.'),\n",
       " ('735',\n",
       "  'deu',\n",
       "  'Das Publikum klatschte den Schauspielern für ihre Leistung Beifall.'),\n",
       " ('736', 'deu', 'Es ist gut, Ideale zu haben, findest du nicht?'),\n",
       " ('737',\n",
       "  'deu',\n",
       "  'Der Schüler entschloss sich dazu, seine Hausarbeit zu kürzen, indem er alle unnötigen Details strich.'),\n",
       " ('738',\n",
       "  'deu',\n",
       "  'Die Menschen in der Welt setzen sich immer für mehr Freiheit und Gleichheit ein.'),\n",
       " ('739',\n",
       "  'deu',\n",
       "  'Politiker werden stets getadelt für skandalöses und unangebrachtes Verhalten.'),\n",
       " ('740',\n",
       "  'deu',\n",
       "  'Frau Eichler war für ihren Ruf bekannt, streng zu ihren Schülern zu sein.'),\n",
       " ('741',\n",
       "  'deu',\n",
       "  'Wenn Sie uns nicht zuhören, werden wir auf Zwang zurückgreifen müssen.'),\n",
       " ('742',\n",
       "  'deu',\n",
       "  'Wenn ich Migräne habe, vermindert Aspirin meine Beschwerden nicht.'),\n",
       " ('743',\n",
       "  'deu',\n",
       "  'Spensers sarkastische und scherzhafte Bemerkungen werden oft als Zeichen von Doppelwertigkeit missinterpretiert und zu ernst genommen.'),\n",
       " ('744',\n",
       "  'deu',\n",
       "  'Für ihn war Hunger ein theoretischer Begriff; er hatte immer genug zu essen.'),\n",
       " ('745',\n",
       "  'deu',\n",
       "  'Der verurteilte Drogendealer war gewillt, sich den Behörden zu fügen, um seine Todesstrafe zu einer lebenslänglichen Freiheitsstrafe zu vermindern.'),\n",
       " ('746',\n",
       "  'deu',\n",
       "  'Der Irakkrieg ist ein unberechenbares Thema der politischen Debatte; ein falsches Wort und ein Streit könnte sich entzünden.'),\n",
       " ('747',\n",
       "  'deu',\n",
       "  'Mein nächster Türnachbar ist ein Virtuose, dessen Geschick am Klavier ihm einen Namen unter den Musikexperten eingebracht hat.'),\n",
       " ('748',\n",
       "  'deu',\n",
       "  'Er hatte es satt, die ganze Zeit von Leuten verunglimpft zu werden, die neidisch auf sein Können waren.'),\n",
       " ('749',\n",
       "  'deu',\n",
       "  'Sven war so wortreich, dass seine Freunde sich darauf verlegten, ihn ein Plappermaul zu nennen.'),\n",
       " ('750',\n",
       "  'deu',\n",
       "  'Sogar Leute, die nicht an die katholische Kirche glauben, verehren den Papst als ein symbolisches Oberhaupt.'),\n",
       " ('751',\n",
       "  'deu',\n",
       "  'Unsicher, welchen Freier sie heiraten wollte, schwankte die Prinzessin und nannte einmal den einen, einmal den anderen.'),\n",
       " ('752',\n",
       "  'deu',\n",
       "  'Die neulichen Skandale, in die Messdiener und religiöse Oberhäupter verwickelt waren, haben den Glauben, den die Leute in die Kirche haben, unterminiert.'),\n",
       " ('753',\n",
       "  'deu',\n",
       "  'Als sich das Flugzeug Turbulenzen näherte, bat der Pilot die Passagiere an Bord des Flugzeugs, ihre Sitzgurte zu schließen.'),\n",
       " ('754',\n",
       "  'deu',\n",
       "  'Obwohl sein Aufenthalt in Europa kurzlebig war, fühlte Spenser, dass er vom Reisen mehr über Beziehungen mit anderen Menschen gelernt hatte, als er es im College getan hatte.'),\n",
       " ('755',\n",
       "  'deu',\n",
       "  'Jason war ein wortkarges Individuum, daher war es immer eine echte Überraschung, wenn er etwas sagte.'),\n",
       " ('756',\n",
       "  'deu',\n",
       "  'Der König war seiner Schmeichler, die ihn beständig anpriesen, müde, also schickte er sie weg.'),\n",
       " ('757',\n",
       "  'deu',\n",
       "  'Wenn Spenser nicht weiterhin Sätze hinzufügt und übersetzt, werden die anderen Mitwirkenden ihn sicher übertreffen.'),\n",
       " ('758',\n",
       "  'deu',\n",
       "  'In seinen Aufsätzen war immer zu viel Überflüssiges geschrieben.'),\n",
       " ('759',\n",
       "  'deu',\n",
       "  'Sein Aufsatz gab nur eine oberflächliche Analyse des Problems, daher war es eine richtige Überraschung für ihn, als er die beste Note in der Klasse bekam.'),\n",
       " ('760', 'deu', 'Es kommt darauf an, was du mit an Gott \"glauben\" meinst.'),\n",
       " ('761',\n",
       "  'deu',\n",
       "  'Professoren sollten alles im Detail erklären, nicht knapp sein und immer ihren Studenten auftragen, heimzugehen und ihre Bücher zu lesen.'),\n",
       " ('762',\n",
       "  'deu',\n",
       "  'Wenn ich keine Antwort gegeben hätte, hätte ich nicht gesprochen.'),\n",
       " ('763',\n",
       "  'deu',\n",
       "  'Die Ankläger bei Gericht müssen ihre Klagen erhärten, um einen Verdächtigen als schuldig zu beweisen.'),\n",
       " ('764',\n",
       "  'deu',\n",
       "  'Laut einer landesweiten Umfrage in den USA ist es ein geläufiger Glaube, dass Moslems mit Terrorismus verbunden sind.'),\n",
       " ('765',\n",
       "  'deu',\n",
       "  'Mein Zimmerkamerad ist verschwenderisch, was das Geldausgeben für Filme betrifft; er kauft sie am Tag, wo sie herauskommen, ohne Rücksicht auf den Preis.'),\n",
       " ('766',\n",
       "  'deu',\n",
       "  'Essen und Trinken wurden bei der Hochzeit in solch einem Überfluss serviert, dass Braut und Bräutigam begannen, sich zu fragen, ob sie nicht mehr Gäste einladen hätten sollen.'),\n",
       " ('767',\n",
       "  'deu',\n",
       "  'Die Verbreitung der Nutzung des Internets hat eine neue Generation von jungen Leuten hervorgebracht.'),\n",
       " ('768',\n",
       "  'deu',\n",
       "  'Meine Freunde sagen, dass ich ein überaus produktiver Schreiber bin, aber ich habe seit Monaten nichts geschrieben.'),\n",
       " ('769',\n",
       "  'deu',\n",
       "  'Blinde entwickeln manchmal eine ausgleichende Fähigkeit, die Nähe der Gegenstände um sie herum zu spüren.'),\n",
       " ('770',\n",
       "  'deu',\n",
       "  'Ein Geizhals hortet Geld nicht, weil er klug ist, sondern weil er habgierig ist.'),\n",
       " ('771',\n",
       "  'deu',\n",
       "  'Als beide Mädchen John sagten, dass sie Gefühle für ihn hatten, wusste der nicht, mit welchem Mädchen er zusammen sein sollte.'),\n",
       " ('772',\n",
       "  'deu',\n",
       "  'Sogar jetzt, viele Jahre nach dem Kalten Krieg, ist immer noch viel Verbitterung zwischen Russen und Deutschen, besonders in Gebieten, die einst von der Sowjetunion besetzt waren.'),\n",
       " ('773',\n",
       "  'deu',\n",
       "  'Johnson ist ein Einsiedler; er zieht es vor, sich vom Rest der Schüler in unserer Klasse abzusondern.'),\n",
       " ('774',\n",
       "  'deu',\n",
       "  'Die Bierflaschen, die ich zu der Party mitbrachte, waren überflüssig; die Familie des Gastgebers besaß eine Bierbrauerei.'),\n",
       " ('775',\n",
       "  'deu',\n",
       "  'Die Zeugen waren imstande, die falsche Aussage des Verdächtigen zu widerlegen.'),\n",
       " ('776',\n",
       "  'deu',\n",
       "  \"Jeanne d'Arc weigerte sich, ihre Überzeugung zu leugnen, dass die Stimme, die sie hörte, von niemand anderem als Gott war.\"),\n",
       " ('777',\n",
       "  'deu',\n",
       "  'Schockiert durch die Ereignisse des 11. September, verurteilten Politiker in der ganzen Welt die Terroristen für ihre verwerfliche Tat.'),\n",
       " ('778',\n",
       "  'deu',\n",
       "  'James hatte große Angst, im Unterricht Fehler zu machen und zurechtgewiesen zu werden.'),\n",
       " ('779',\n",
       "  'deu',\n",
       "  'Meine Eltern würden meinen Bruder verstoßen, wenn sie herausfänden, dass er schwul ist.'),\n",
       " ('780',\n",
       "  'deu',\n",
       "  'Um zu verhindern, dass seine Originalidee kopiert würde, verlegte sich Henry auf Schweigsamkeit.'),\n",
       " ('781', 'deu', 'Ich würde gerne meine vorhergehende Erklärung widerrufen.'),\n",
       " ('782',\n",
       "  'deu',\n",
       "  'Um sein Publikum für sich zu gewinnen, griff der Redner auf die Anwendung rhetorischer Techniken zurück, die er in seinen Kommunikationskursen gelernt hatte.'),\n",
       " ('783', 'deu', 'Tim ist ein großer Fan von satirischen Komödien.'),\n",
       " ('784',\n",
       "  'deu',\n",
       "  'Obwohl Alfred penibel beim Erfüllen seiner Aufgaben bei der Arbeit ist, ist er weniger gewissenhaft bei seinen Pflichten zu Hause.'),\n",
       " ('785',\n",
       "  'deu',\n",
       "  'Spensers Mutter überprüft oft jeden kleinen Fehler, den er macht.'),\n",
       " ('786',\n",
       "  'deu',\n",
       "  'Die Leute sind oft sehr skeptisch gegenüber Dingen, wenn kein glaubwürdiger Beweis gegeben ist.'),\n",
       " ('787',\n",
       "  'deu',\n",
       "  'Nach der unheilverkündenden Äußerung des Doktors war es klar, dass er düstere Neuigkeiten für den Patienten hatte.'),\n",
       " ('788',\n",
       "  'deu',\n",
       "  'Manchmal hat er Schwierigkeiten, seine Auffassungen gut auszudrücken.'),\n",
       " ('789',\n",
       "  'deu',\n",
       "  'Jimmy versuchte, seine Eltern dazu zu kriegen, ihn mit seinen Freunden quer durch das Land fahren zu lassen.'),\n",
       " ('790',\n",
       "  'deu',\n",
       "  'Popmusiker kommen durch die Schmeichelei ihrer treuen Fans zur vollen Entfaltung.'),\n",
       " ('791', 'deu', 'Wir müssen lernen, Widrigkeiten anmutig zu begegnen.'),\n",
       " ('792',\n",
       "  'deu',\n",
       "  'Bill Clinton sprach eine mehrdeutige Sprache, als er gebeten wurde, sein Verhältnis mit Monika Lewinsky zu beschreiben.'),\n",
       " ('793',\n",
       "  'deu',\n",
       "  'Er war eine gütiger alter Mann, der sich freiwillig anbot, den Rasen seiner Nachbarn kostenlos zu mähen.'),\n",
       " ('794',\n",
       "  'deu',\n",
       "  'Sein strenger Ton und seine laute Stimme täuschten über sein innerliches Zartgefühl und seine liebevolle Wesensart hinweg.'),\n",
       " ('795',\n",
       "  'deu',\n",
       "  'Welches Kriterium wendeten Sie an, als Sie diesen Aufsatz als den Sieger auswählten?'),\n",
       " ('796',\n",
       "  'deu',\n",
       "  'Trickbetrüger machen sich die Leichtgläubigkeit unerfahrener Geldgeber zu Nutze und betrügen sie um ihr Geld.'),\n",
       " ('797', 'deu', 'Ich kann nicht einen Schritt Salsa tanzen.'),\n",
       " ('798',\n",
       "  'deu',\n",
       "  'Selbst wenn deine Sätze tatsächlich sinnfrei waren, hast du zumindest das Glück, schöne Sätze bilden zu können.'),\n",
       " ('799', 'deu', 'Ich mag meine Arbeit sehr gerne.'),\n",
       " ('800',\n",
       "  'deu',\n",
       "  'Ray war bereit, Garys Geschichte zu bestätigen, aber die Polizei war noch immer nicht überzeugt, dass einer von beiden die Wahrheit erzählte.'),\n",
       " ('801',\n",
       "  'deu',\n",
       "  'Der Mörder wurde schuldig gesprochen und zu lebenslänglicher Haft verurteilt.'),\n",
       " ('802',\n",
       "  'deu',\n",
       "  'Die Einvernehmlichkeit deutet darauf hin, dass wir gegen die vorgeschlagene Idee sind.'),\n",
       " ('803',\n",
       "  'deu',\n",
       "  'Ein kleiner Waldbrand kann sich leicht ausbreiten und schnell ein großer Flächenbrand werden.'),\n",
       " ('804',\n",
       "  'deu',\n",
       "  'Obwohl er seine Haftstrafe im Gefängnis abgesessen hatte, verzieh die Öffentlichkeit dem Mörder sein Verbrechen nie ganz.'),\n",
       " ('805',\n",
       "  'deu',\n",
       "  'Ich finde, Wörter mit präzisen Bedeutungen kann man sich am einfachsten merken.'),\n",
       " ('806',\n",
       "  'deu',\n",
       "  'Er war immer noch verärgert über den Unfall, trotz den versöhnlichen Worten seiner Frau.'),\n",
       " ('807',\n",
       "  'deu',\n",
       "  'Eine grobe Untersuchung seiner Zähne gab zu erkennen, dass er eine Zahnfleischentzündung hatte.'),\n",
       " ('808',\n",
       "  'deu',\n",
       "  'Es war eine Überraschung zu sehen, dass sich die Studenten am Abend des Abschlussballs alle anständig verhielten.'),\n",
       " ('809',\n",
       "  'deu',\n",
       "  'Der Zeitungsartikel beschrieb den Angeklagten wie einen Schuldigen, obwohl er erwiesenermaßen unschuldig war.'),\n",
       " ('810',\n",
       "  'deu',\n",
       "  'Der Politiker drängte auf eine Reform, indem er die Bestechlichkeit der Regierungsverantwortlichen anprangerte.'),\n",
       " ('811',\n",
       "  'deu',\n",
       "  'Die Verderbtheit der Taten des Königs brachte die Leute dazu, zu glauben, dass er nicht mehr als eine Tyrann sei, den man stürzen müsse.'),\n",
       " ('812', 'deu', 'Ich habe von dir geträumt.'),\n",
       " ('813', 'deu', 'Ich brauche einen neuen Computer.'),\n",
       " ('814', 'deu', 'Ich werde nicht verlieren!'),\n",
       " ('815', 'deu', 'Ich bin zu spät in die Schule gekommen.'),\n",
       " ('816', 'deu', 'Der Unterricht fängt bald wieder an.'),\n",
       " ('817', 'deu', 'Ich glaube, ich werde niesen... Gib mir ein Taschentuch.'),\n",
       " ('818',\n",
       "  'deu',\n",
       "  'Einen Moment lang habe ich geglaubt, er wäre verrückt geworden.'),\n",
       " ('819', 'deu', 'Dieser Tag war nur Zeit- und Geldverschwendung.'),\n",
       " ('820',\n",
       "  'deu',\n",
       "  'Das hat mich überrascht, ich wusste nicht, was ich tun sollte.'),\n",
       " ('821', 'deu', 'Aber das hast du mir ja nie gesagt!'),\n",
       " ('822', 'deu', 'Ich habe das Layout meiner Website geändert.'),\n",
       " ('823', 'deu', 'Wenn wir klein sind, kommt uns alles so groß vor.'),\n",
       " ('824', 'deu', 'Er wird mich nicht schlagen.'),\n",
       " ('825', 'deu', 'Ich muss die Wäsche machen, solange die Sonne noch da ist.'),\n",
       " ('826', 'deu', 'Ich bin spazieren gegangen, um Luft zu schnappen.'),\n",
       " ('827', 'deu', 'Tut mir leid, ich denke nicht, dass ich können werde.'),\n",
       " ('828', 'deu', 'Du hattest eine Menge Zeit.'),\n",
       " ('829', 'deu', 'Hör auf, mich zu kritisieren!'),\n",
       " ('830', 'deu', 'Los! Sprich mit mir, Trang.'),\n",
       " ('831', 'deu', 'Ich bin fast fertig.'),\n",
       " ('832', 'deu', 'Nimm den anderen Stuhl!'),\n",
       " ('833', 'deu', 'Wie viele Sandwichs sind noch übrig?'),\n",
       " ('834', 'deu', 'Ich bin nicht mehr inspiriert.'),\n",
       " ('835', 'deu', 'Ich werde mich nicht auf sein Niveau herablassen.'),\n",
       " ('836', 'deu', 'Wir konnten den Sonnenuntergang vom Fenster aus sehen.'),\n",
       " ('837', 'deu', 'Das macht mich verrückt.'),\n",
       " ('838', 'deu', 'Hast du gesagt, ich könne nie gewinnen?'),\n",
       " ('839', 'deu', 'Draußen ist es ganz dunkel.'),\n",
       " ('840', 'deu', 'Was ist passiert? Überall in der Wohnung ist Wasser.'),\n",
       " ('841',\n",
       "  'deu',\n",
       "  'Während der Sommerferien habe ich um Mitternacht Abendessen gegessen.'),\n",
       " ('842', 'deu', 'Du kannst deinen Aufsatz jetzt beenden.'),\n",
       " ('843',\n",
       "  'deu',\n",
       "  'Du wirst die Dinge sagen und tun, die deine Eltern sagten und taten, selbst wenn du geschworen hast, das nie zu tun.'),\n",
       " ('844', 'deu', 'Ich bin am Leben, obwohl ich kein Lebenszeichen gebe.'),\n",
       " ('845', 'deu', 'Versuche nie, zu sterben.'),\n",
       " ('847',\n",
       "  'deu',\n",
       "  'Das Leben beginnt, wenn man realisiert, wer man wirklich ist.'),\n",
       " ('848',\n",
       "  'deu',\n",
       "  'Das Leben beginnt, wenn man entscheidet, was man von ihm erwartet.'),\n",
       " ('849', 'deu', 'Das Leben beginnt, wenn man Steuern zahlt.'),\n",
       " ('850', 'deu', 'Das, was\\xa0du nicht hast, ist besser als das, was du hast.'),\n",
       " ('851', 'deu', 'Das Leben beginnt, wenn du bereit bist, es zu leben.'),\n",
       " ('852', 'deu', 'Es ist nie zu spät zum Lernen.'),\n",
       " ('853', 'deu', 'Es ist erst 5 Uhr morgens und trotzdem ist es hell.'),\n",
       " ('854', 'deu', 'Er erzählte mir seine Lebensgeschichte.'),\n",
       " ('855', 'deu', 'Ich habe nie gesagt, ich sei zerbrechlich.'),\n",
       " ('856', 'deu', 'Ich frage mich, ob ich für diese Welt gemacht bin.'),\n",
       " ('857', 'deu', 'Von was redest du?'),\n",
       " ('858', 'deu', 'Ich will ein Bonbon.'),\n",
       " ('859', 'deu', 'Ich wusste, es würde heute lustig sein.'),\n",
       " ('860',\n",
       "  'deu',\n",
       "  'Leider würden viele Leute Dinge glauben, die man ihnen per E-Mail sagt, die sie persönlich erzählt nicht plausibel finden würden.'),\n",
       " ('861',\n",
       "  'deu',\n",
       "  'Das mag wie an den Haaren herbeigezogen erscheinen, aber es ist ein echtes Problem.'),\n",
       " ('862',\n",
       "  'deu',\n",
       "  'Die Polizei ist gut darin zu verstehen, dass jemand meine Kreditkarte gestohlen hat und viel Geld abgehoben hat. Es ist viel schwieriger, ihnen beizubringen, dass „jemand mein magisches Schwert gestohlen“ hat.'),\n",
       " ('863', 'deu', 'Wann essen wir? Ich habe Hunger!'),\n",
       " ('864', 'deu', 'Ich mag die Schule nicht.'),\n",
       " ('865', 'deu', 'Ich habe morgen Unterricht.'),\n",
       " ('866', 'deu', 'Ich kann es nicht glauben!'),\n",
       " ('867', 'deu', '„Danke!“\\xa0– „Keine Ursache!“'),\n",
       " ('868', 'deu', 'Wie spricht man \"pronounce\" aus ?'),\n",
       " ('869', 'deu', 'Der Winter ist meine Lieblingsjahreszeit.'),\n",
       " ('870', 'deu', 'Es ist schwierig, großartige Ideen zu haben.'),\n",
       " ('871', 'deu', 'Aus welchem Land kommst du?'),\n",
       " ('872',\n",
       "  'deu',\n",
       "  'Die Sachverhalte deuten an, dass die optimale Dauer einer Vorlesung 30 statt 60 Minuten wäre.'),\n",
       " ('873',\n",
       "  'deu',\n",
       "  'Ich neige dazu, die Bilder anzuschauen, bevor ich den Text lese.'),\n",
       " ('874', 'deu', 'Ich habe viel von dir gelernt.'),\n",
       " ('876', 'deu', 'Ich habe zwölf Stunden im Zug verbracht.'),\n",
       " ('877', 'deu', 'Sie ist an diesem Wochenende krank geworden.'),\n",
       " ('878', 'deu', 'Warte mal, jemand klopft an meiner Tür.'),\n",
       " ('879', 'deu', 'Er ist reich, er braucht kein Geld!'),\n",
       " ('880', 'deu', 'Er schläft wie ein Baby.'),\n",
       " ('881', 'deu', 'Sie machen zu viel Lärm, ich kann mich nicht konzentrieren.'),\n",
       " ('882', 'deu', 'Ich habe Lust auf eine Massage. Ich muss mich entspannen.'),\n",
       " ('883', 'deu', 'Du bist krank, du musst dich ausruhen.'),\n",
       " ('884', 'deu', 'Links ist ein Geheimweg.'),\n",
       " ('885',\n",
       "  'deu',\n",
       "  'Smith hat jahrelang die Auswirkungen von Schlaf und Schlafmangel auf das Gedächtnis und das Lernen untersucht.'),\n",
       " ('886', 'deu', 'Sie fordert das Unmögliche.'),\n",
       " ('887', 'deu', 'Er ist spurlos verschwunden.'),\n",
       " ('888', 'deu', 'Es kann keinen Fortschritt geben ohne Kommunikation.'),\n",
       " ('889',\n",
       "  'deu',\n",
       "  'Ich kann meine Handflächen auf den Boden setzen, ohne meine Knie zu beugen.'),\n",
       " ('890', 'deu', 'Jeder würde gerne glauben, dass Träume wahr werden können.'),\n",
       " ('891',\n",
       "  'deu',\n",
       "  'Die beste Art, seine Träume zu realisieren, ist, aufzuwachen.'),\n",
       " ('892', 'deu', 'Die Welt dreht sich nicht um dich.'),\n",
       " ('893', 'deu', 'Die Welt ist voller Dummköpfe.'),\n",
       " ('894', 'deu', 'Sagst du gerade, dass mein Leben in Gefahr ist?'),\n",
       " ('895', 'deu', 'Hast du eine Vorstellung davon, wie mein Leben aussieht?'),\n",
       " ('896', 'deu', 'An diesem Ort herrscht eine geheimnisvolle Stimmung.'),\n",
       " ('897',\n",
       "  'deu',\n",
       "  'Ich freue mich darauf, Ihre Gedanken zu diesem Thema zu hören.'),\n",
       " ('898',\n",
       "  'deu',\n",
       "  'Und was macht es, wenn ich schwul bin? Ist das ein Verbrechen?'),\n",
       " ('899', 'deu', 'Mein Leben ist leer ohne ihn.'),\n",
       " ('900', 'deu', 'Ich will nicht durch meine Prüfungen fallen.'),\n",
       " ('901', 'deu', 'Meine Mutter hat zwei Flaschen Orangensaft gekauft.'),\n",
       " ('902', 'deu', 'Sie trug einen schwarzen Hut.'),\n",
       " ('903', 'deu', 'Wir haben Pfannkuchen zum Frühstück gemacht.'),\n",
       " ('904', 'deu', 'Was hast du heute zum Mittagessen gegessen?'),\n",
       " ('905',\n",
       "  'deu',\n",
       "  'Ich habe den ganzen Nachmittag damit verbracht, mit Freunden zu schwätzen.'),\n",
       " ('906', 'deu', 'Ich will unabhängiger sein.'),\n",
       " ('907', 'deu', 'Wirst du dort den ganzen Tag stehen bleiben?'),\n",
       " ('908', 'deu', 'Ein Kaninchen hat lange Ohren und einen kurzen Schwanz.'),\n",
       " ('909', 'deu', 'Mein Herz war voller Freude.'),\n",
       " ('910', 'deu', 'Er will schlechte Erinnerungen ausradieren.'),\n",
       " ('911', 'deu', 'Sie dürfen Ihr Auto hier nicht parken.'),\n",
       " ('912',\n",
       "  'deu',\n",
       "  'Wir müssen ihn dringend ins Krankenhaus bringen, er ist schwer verletzt!'),\n",
       " ('913', 'deu', 'Ich werde dein Geheimnis hüten.'),\n",
       " ('914', 'deu', 'Ich will dein Gejammer nicht mehr hören.'),\n",
       " ('915',\n",
       "  'deu',\n",
       "  'Sag ihnen, dass sie mich anrufen sollen, bevor sie losgehen.'),\n",
       " ('916', 'deu', 'So einen ungerechten Vorschlag hättest du ablehnen sollen.'),\n",
       " ('917', 'deu', 'Ich habe nicht die Kraft, es weiter zu versuchen.'),\n",
       " ('918',\n",
       "  'deu',\n",
       "  'Mathematik ist nicht einfach das Auswendiglernen von Formeln.'),\n",
       " ('919',\n",
       "  'deu',\n",
       "  'Ich hatte nicht vor, diesen Eindruck bei dir zu hinterlassen.'),\n",
       " ('920', 'deu', 'Ja! Ich habe zweimal hintereinander gewonnen!'),\n",
       " ('921', 'deu', 'Ich habe es satt, Fastfood zu essen.'),\n",
       " ('922',\n",
       "  'deu',\n",
       "  'Die Zimmer dieses Hotels sind wirklich sehr schlecht schallgedämpft. Ich kann meinen Nachbarn seinen Kaugummi kauen hören!'),\n",
       " ('923', 'deu', 'Ich habe es satt, es satt zu haben.'),\n",
       " ('924', 'deu', 'Ich kann es gar nicht erwarten, in den Urlaub zu fahren.'),\n",
       " ('925', 'deu', 'Das Wesen der Mathematik liegt in ihrer Freiheit.'),\n",
       " ('926',\n",
       "  'deu',\n",
       "  'Kannst du dir vorstellen, wie unser Leben ohne Elektrizität aussehen würde?'),\n",
       " ('927',\n",
       "  'deu',\n",
       "  'Eins, zwei, drei, vier, fünf, sechs, sieben, acht, neun, zehn.'),\n",
       " ('928', 'deu', 'Wo ist die Toilette?'),\n",
       " ('929', 'deu', 'Das Wesen der Freiheit liegt in der Mathematik.'),\n",
       " ('930',\n",
       "  'deu',\n",
       "  'Seine Geschichte war zu lächerlich, um von irgendjemandem geglaubt zu werden.'),\n",
       " ('931', 'deu', 'Wie viele Stunden Schlaf brauchst du?'),\n",
       " ('932', 'deu', 'Jeder Mensch ist eine Welt.'),\n",
       " ('933',\n",
       "  'deu',\n",
       "  'Die Temperatur des menschlichen Körpers bewegt sich um 37 °C.'),\n",
       " ('934',\n",
       "  'deu',\n",
       "  'Wenn es möglich ist, öffne das Fenster nicht, ich habe keine allzu große Lust, Luftzüge in meinem Rücken zu spüren.'),\n",
       " ('935',\n",
       "  'deu',\n",
       "  'Ich habe die französische Staatsbürgerschaft, aber ich bin von vietnamesischer Abstammung.'),\n",
       " ('936',\n",
       "  'deu',\n",
       "  'Dieser humanitäre Verein sucht Ehrenamtliche, um im Monat Dezember Mahlzeiten an Obdachlose auszuteilen.'),\n",
       " ('937',\n",
       "  'deu',\n",
       "  'Es ist sehr frustierend, zu versuchen, seine Brille wiederzufinden, wenn man ohne Brille nichts sieht.'),\n",
       " ('938',\n",
       "  'deu',\n",
       "  'Denkst du, dass die Menschen eines Tages den Mond besiedeln werden?'),\n",
       " ('939',\n",
       "  'deu',\n",
       "  'Welche berühmten Lieder hättet ihr gerne komponiert, und warum?'),\n",
       " ('940',\n",
       "  'deu',\n",
       "  'Ich werde mir eine neue Kamera kaufen, dieses Mal eine digitale.'),\n",
       " ('941', 'deu', 'Ich bin verrückt nach dir.'),\n",
       " ('942', 'deu', 'Ich weiß nicht, was schlimmer ist.'),\n",
       " ('943',\n",
       "  'deu',\n",
       "  'Das Leben im Gefängnis ist schlimmer als das Leben eines Tieres.'),\n",
       " ('944', 'deu', 'Ich bin stolz, an diesem Projekt teilzuhaben.'),\n",
       " ('945',\n",
       "  'deu',\n",
       "  'Ist es notwendig, das menschliche Wissen durch die Erforschung des Weltraumes auszuweiten?'),\n",
       " ('946', 'deu', 'Die Schönheit liegt im Auge des Betrachters.'),\n",
       " ('947', 'deu', 'Wer kauft diese Art von Kunst?'),\n",
       " ('948',\n",
       "  'deu',\n",
       "  'Die NASA lässt verlauten, dass sie schon genügend Informationen besitzt, um zu bestätigen, dass ein Besuch des Menschen auf dem roten Planeten möglich ist.'),\n",
       " ('949', 'deu', 'Echte Frauen haben Kurven.'),\n",
       " ('950', 'deu', 'Wieso können wir uns nicht selber kitzeln?'),\n",
       " ('951', 'deu', 'Die Antwort führt uns in einen Teufelskreis.'),\n",
       " ('952', 'deu', 'Ich bin zu faul, meine Hausaufgaben zu machen.'),\n",
       " ('953', 'deu', 'Was... du kannst immer noch nicht Auto fahren?'),\n",
       " ('954', 'deu', 'Und mit mir sind wir schon einer mehr.'),\n",
       " ('955', 'deu', 'Hast du schon einen Bart?'),\n",
       " ('956', 'deu', 'Ich fühle, dass ich frei bin.'),\n",
       " ('957', 'deu', 'Ich verspüre ein Brennen im Magen.'),\n",
       " ('958', 'deu', 'Die Freiheit ist nicht kostenlos.'),\n",
       " ('959', 'deu', 'Wie weckt man die Begierde einer Frau?'),\n",
       " ('960', 'deu', 'Das Verlangen taucht zwischen Bedürfnis und Nachfrage auf.'),\n",
       " ('961',\n",
       "  'deu',\n",
       "  'Während wir den Nachtisch aßen, wuchs der Wunsch, in dieses Land zu reisen.'),\n",
       " ('962', 'deu', 'Ich habe eine Verknüpfung auf dem Desktop hergestellt.'),\n",
       " ('963', 'deu', 'Ich will einen MP3-Player!'),\n",
       " ('964', 'deu', 'Wo bist du?'),\n",
       " ('965', 'deu', 'Mein Bruder ist sehr wichtig. Zumindest denkt er das.'),\n",
       " ('966', 'deu', 'Beim Pizzaessen ärgerte er seine Schwester.'),\n",
       " ('967', 'deu', 'Was?! Du hast meinen Schokoladenbären gegessen?!'),\n",
       " ('968',\n",
       "  'deu',\n",
       "  'Nein, ich kann Sie nicht reinlassen, es ist eine Person zu viel.'),\n",
       " ('969', 'deu', 'Er wird euch ins Gras beißen lassen.'),\n",
       " ('970', 'deu', 'Wohin gehst du?'),\n",
       " ('971', 'deu', 'Er macht so ein Gesicht.'),\n",
       " ('972', 'deu', 'Er schaut wie sieben Tage Regenwetter.'),\n",
       " ('973',\n",
       "  'deu',\n",
       "  'Scheiße, wer ist der Vollidiot, der es wagt, mich mitten in der Nacht anzurufen?!'),\n",
       " ('974',\n",
       "  'deu',\n",
       "  'Er hat gerade eine interessante Serie von Artikeln veröffentlicht.'),\n",
       " ('975', 'deu', 'Du gehst mir auf den Wecker!'),\n",
       " ('976', 'deu', 'Unmöglich!'),\n",
       " ('977', 'deu', 'Das ist eine Sackgasse.'),\n",
       " ('978', 'deu', 'Ich vertraue Übersetzungen nicht unbedingt.'),\n",
       " ('979', 'deu', 'Seine Leidenschaft zu teilen bedeutet, sie voll zu leben.'),\n",
       " ('980',\n",
       "  'deu',\n",
       "  'Sie bewegt sich wie eine Königin und zeigt, dass sie den Rhythmus im Blut hat.'),\n",
       " ('981',\n",
       "  'deu',\n",
       "  'Vorgestern hast du alle beeindruckt, aber ich kannte dich schon.'),\n",
       " ('982',\n",
       "  'deu',\n",
       "  'Wenn ich dir mein Haus zeigen würde, mein Viertel von damals, würdest du verstehen, woher ich komme?'),\n",
       " ('983',\n",
       "  'deu',\n",
       "  'Schau wie alle hinter meinem Rücken über mich herziehen, weil ich eine Frau geheiratet habe, die dreißig Jahre jünger als ich ist.'),\n",
       " ('984', 'deu', 'Das Leben ist nicht lang, es ist breit!'),\n",
       " ('985', 'deu', 'Als ich in deinem Alter war, war Pluto ein Planet.'),\n",
       " ('986', 'deu', 'Sie ist am Rand eines Nervenzusammenbruchs.'),\n",
       " ('987', 'deu', 'Elefanten sind die größten derzeitig lebenden Landtiere.'),\n",
       " ('988',\n",
       "  'deu',\n",
       "  'Wahrscheinlich hat es die Zeit nicht erlaubt, ein schönes Foto in lebhaften Farben zu machen.'),\n",
       " ('989',\n",
       "  'deu',\n",
       "  'In ihrem Pantherfellsessel sitzend, las die junge Frau mit der roten Unterwäsche laut ein Buch mit dem Titel \"Die schwarze Prinzessin\".'),\n",
       " ('990',\n",
       "  'deu',\n",
       "  'Ich werde dir zeigen, dass man aus seiner Asche wiederauferstehen kann.'),\n",
       " ('991',\n",
       "  'deu',\n",
       "  'Wenn du mir das Tanzen beibringst, werde ich dir meine versteckten Narben zeigen.'),\n",
       " ('992',\n",
       "  'deu',\n",
       "  'Die Aufzüge eines Wolkenkratzers sind lebenswichtige Systeme.'),\n",
       " ('993',\n",
       "  'deu',\n",
       "  'Ein Strom kam aus Eden, um den Garten zu bewässern und von dort aus teilte er sich, um vier Seitenarme zu bilden.'),\n",
       " ('994',\n",
       "  'deu',\n",
       "  'Lassen Sie die geschälten und in Stücke geschnittenen Kartoffeln 20 Minuten im kochenden Wasser garen.'),\n",
       " ('995',\n",
       "  'deu',\n",
       "  'Obst und Gemüse sind unentbehrlich für eine ausgewogene Ernährung.'),\n",
       " ('996',\n",
       "  'deu',\n",
       "  'Käse ist ein festes Nahrungsmittel, das aus der Milch von Kühen, Ziegen, Schafen oder anderen Säugetieren hergestellt wird.'),\n",
       " ('997',\n",
       "  'deu',\n",
       "  'Ich mag Cavalieri, Tonelli und Fubini immer noch nicht, und morgen habe ich schon meine mündliche Analysisprüfung.'),\n",
       " ('998', 'deu', 'Ich dusche gewöhnlich abends.'),\n",
       " ('999', 'deu', 'Er verbrachte den Abend damit, ein Buch zu lesen.'),\n",
       " ('1000',\n",
       "  'deu',\n",
       "  'Du hast den ganzen Morgen über dieses Problem nachgedacht. Mach eine Pause, geh mittagessen.'),\n",
       " ('1001', 'deu', 'Wenn ich es nicht jetzt tue, dann werde ich es nie tun.'),\n",
       " ('1002', 'deu', 'Gute Nacht. Träum was Schönes.'),\n",
       " ('1003',\n",
       "  'deu',\n",
       "  'Dieses Lied ist so bewegend, dass es mir die Tränen in die Augen treibt.'),\n",
       " ('1004',\n",
       "  'deu',\n",
       "  'Es gibt viele Dinge über meine Persönlichkeit, die du nicht weißt.'),\n",
       " ('1005', 'deu', 'Vielleicht hast du Recht, ich war egoistisch.'),\n",
       " ('1006', 'deu', 'Jeder verdient eine zweite Chance.'),\n",
       " ('1007',\n",
       "  'deu',\n",
       "  'Ich habe gerade gesehen, dass der Botschafter Saudi-Arabiens in Washington zurückgetreten ist.'),\n",
       " ('1008',\n",
       "  'deu',\n",
       "  'Wenn man hingegen um Geld bittet, muss man gewisse Bedingungen annehmen.'),\n",
       " ('1009', 'deu', 'Was ist der Vorteil dieser Technologie?'),\n",
       " ('1010',\n",
       "  'deu',\n",
       "  'Wenn Sie nicht über dieses Programm verfügen, können Sie es jetzt herunterladen.'),\n",
       " ('1011', 'deu', 'Der Mensch denkt, Gott lenkt.'),\n",
       " ('1012', 'deu', 'Die Schlagzeile fiel mir heute Morgen auf.'),\n",
       " ('1013',\n",
       "  'deu',\n",
       "  'Wenn du von den anderen sprichst, tust du es mit verschränkten Armen.'),\n",
       " ('1014',\n",
       "  'deu',\n",
       "  'Fülle das folgende Formular aus, um zu erfahren, wer du in deinem vorigen Leben gewesen sein könntest.'),\n",
       " ('1015',\n",
       "  'deu',\n",
       "  'Gonzales schenkt allen seinen Angestellten in Europa ein Fahrrad.'),\n",
       " ('1016', 'deu', 'Es gibt 1000 Filme, die man sehen muss, bevor man stirbt.'),\n",
       " ('1017',\n",
       "  'deu',\n",
       "  'Die Kreativität ist ein wichtiger Aspekt für die Entwicklung des Menschen.'),\n",
       " ('1018',\n",
       "  'deu',\n",
       "  'Die Textilindustrie wird sich in den nächsten Jahren an einen Markt des freien Wettbewerbs anpassen.'),\n",
       " ('1019',\n",
       "  'deu',\n",
       "  'Haben Sie Schwierigkeiten zu verstehen, was Ihnen Frauen oder kleine Kinder sagen?'),\n",
       " ('1020',\n",
       "  'deu',\n",
       "  'Man muss nicht für jede Person ein anderes Gericht vorbereiten.'),\n",
       " ('1021', 'deu', 'Man hat mir gesagt, ich sei pragmatisch, und ich bin es.'),\n",
       " ('1022',\n",
       "  'deu',\n",
       "  'Ich ziehe es vor, eine Lösung für Probleme zu suchen und sie nicht nur anzuprangern.'),\n",
       " ('1023', 'deu', 'Ich habe keine Ideen mehr.'),\n",
       " ('1024',\n",
       "  'deu',\n",
       "  'Die sieben Fragen, die sich ein Ingenieur stellen muss, sind: wer, was, wann, wo, warum, wie und wie viel.'),\n",
       " ('1025', 'deu', 'Fragst du dich immer noch, was der Sinn des Lebens ist?'),\n",
       " ('1026', 'deu', 'Wann kann man sagen, dass ein Mensch Alkoholprobleme hat?'),\n",
       " ('1027', 'deu', 'Denk daran, dass wir alle im selben Boot sitzen!'),\n",
       " ('1028',\n",
       "  'deu',\n",
       "  'Alles, was man über das Leben wissen muss, habe ich von einem Schneemann gelernt.'),\n",
       " ('1029',\n",
       "  'deu',\n",
       "  'Überprüfe, dass dein Benutzername und dein Passwort richtig geschrieben sind.'),\n",
       " ('1030',\n",
       "  'deu',\n",
       "  'Auf alle Fälle muss man in dem Referendum am 18. Februar mit \"ja\" abstimmen.'),\n",
       " ('1031', 'deu', 'Abschiede sind immer traurig.'),\n",
       " ('1032', 'deu', 'Vergiss uns nicht!'),\n",
       " ('1033', 'deu', 'Die Zeit ist sehr schnell vergangen.'),\n",
       " ...]"
      ]
     },
     "execution_count": 15,
     "metadata": {},
     "output_type": "execute_result"
    }
   ],
   "source": [
    "dataset_large"
   ]
  },
  {
   "cell_type": "code",
   "execution_count": 16,
   "metadata": {},
   "outputs": [],
   "source": [
    "langs = ['fra', 'cmn', 'jpn', 'eng', 'swe', 'dan']"
   ]
  },
  {
   "cell_type": "markdown",
   "metadata": {},
   "source": [
    "The maximal number of documents per language"
   ]
  },
  {
   "cell_type": "code",
   "execution_count": 17,
   "metadata": {},
   "outputs": [],
   "source": [
    "MAX_DOCS = 50000"
   ]
  },
  {
   "cell_type": "markdown",
   "metadata": {},
   "source": [
    "Write a loop that:\n",
    "1. Extracts a list of all the documents in a certain language from the dataset\n",
    "2. Shuffles this list with `random.shuffle()`\n",
    "3. Adds `MAX_DOCS` to `dataset`. You just need to use a slice"
   ]
  },
  {
   "cell_type": "code",
   "execution_count": 18,
   "metadata": {},
   "outputs": [],
   "source": [
    "# Write your code here\n",
    "dataset = []\n",
    "for lang in langs:\n",
    "    lang_list = []\n",
    "    for tuple in dataset_large:\n",
    "        if(tuple[1] == lang):\n",
    "            lang_list.append(tuple)\n",
    "    random.shuffle(lang_list)\n",
    "    slice = lang_list[:MAX_DOCS]\n",
    "    dataset += slice\n",
    "\n"
   ]
  },
  {
   "cell_type": "code",
   "execution_count": 19,
   "metadata": {},
   "outputs": [],
   "source": [
    "random.shuffle(dataset)"
   ]
  },
  {
   "cell_type": "code",
   "execution_count": 20,
   "metadata": {},
   "outputs": [
    {
     "data": {
      "text/plain": [
       "300000"
      ]
     },
     "execution_count": 20,
     "metadata": {},
     "output_type": "execute_result"
    }
   ],
   "source": [
    "len(dataset)"
   ]
  },
  {
   "cell_type": "code",
   "execution_count": 21,
   "metadata": {},
   "outputs": [
    {
     "data": {
      "text/plain": [
       "[('4449570', 'swe', 'Jag måste iväg.'),\n",
       " ('6375724', 'eng', 'Sami knows exactly how Layla feels.'),\n",
       " ('11829871', 'eng', 'Ivan’s story is very old.'),\n",
       " ('10749465', 'swe', 'Har du sett hennes nya video?'),\n",
       " ('1881948', 'dan', 'Han siger stadigvæk at han ikke gjorde noget forkert.')]"
      ]
     },
     "execution_count": 21,
     "metadata": {},
     "output_type": "execute_result"
    }
   ],
   "source": [
    "dataset[:5]"
   ]
  },
  {
   "cell_type": "markdown",
   "metadata": {},
   "source": [
    "## Utilities\n",
    "\n",
    "Before you can use the dataset to train a model, you need to convert it into numbers. You will carry this with out the following steps and you will write a corresponding function.\n",
    "1. You will extract the $n$-grams up to trigrams (`all_ngrams()`);\n",
    "2. Trigrams can create many symbols that most student's machines cannot process. You will reduce their numbers using hash codes (`hash_ngrams()`);\n",
    "3. You will compute the relative frequencies of the $n$-grams, replaced here by the hash codes (`calc_ref_freq()`).\n",
    "4. The results will be stored in three dictionaries, for characters, bigrams, and trigrams. You will merge these dictionaries into one (`shift_keys()`).\n",
    "\n",
    "You will then apply the functions to vectorize the dataset."
   ]
  },
  {
   "cell_type": "markdown",
   "metadata": {},
   "source": [
    "### Extracting $n$-grams\n",
    "The goal of this section is that you extract the $n$-grams from a text. By default, you will lowercase the text. The result will have the form: `[chars, bigrams, trigrams]`"
   ]
  },
  {
   "cell_type": "markdown",
   "metadata": {},
   "source": [
    "Write a function to extract the $n$-grams of a sentence: `ngrams(sentence, n=1, lc=True)`, `n` is a parameters. You can use list slices for this."
   ]
  },
  {
   "cell_type": "code",
   "execution_count": 22,
   "metadata": {},
   "outputs": [],
   "source": [
    "# Write your code here\n",
    "def ngrams(sentence, n=1, lc=True):\n",
    "    ngram_l = []\n",
    "    sentence = sentence.lower()\n",
    "    sentence = list(sentence)\n",
    "    for i in range(len(sentence) - n + 1):\n",
    "        ngram = \"\".join(sentence[i:i + n])  # Join 'n' consecutive words\n",
    "        ngram_l.append(ngram)\n",
    "    return ngram_l"
   ]
  },
  {
   "cell_type": "code",
   "execution_count": 23,
   "metadata": {},
   "outputs": [
    {
     "data": {
      "text/plain": [
       "['t', 'r', 'y', ' ', 's', 'o', 'm', 'e', 't', 'h', 'i', 'n', 'g', '.']"
      ]
     },
     "execution_count": 23,
     "metadata": {},
     "output_type": "execute_result"
    }
   ],
   "source": [
    "sent_list = list('try something.')\n",
    "sent_list"
   ]
  },
  {
   "cell_type": "code",
   "execution_count": 24,
   "metadata": {},
   "outputs": [
    {
     "data": {
      "text/plain": [
       "['t', 'r', 'y', ' ', 's', 'o', 'm', 'e', 't', 'h', 'i', 'n', 'g', '.']"
      ]
     },
     "execution_count": 24,
     "metadata": {},
     "output_type": "execute_result"
    }
   ],
   "source": [
    "ngrams('try something.')"
   ]
  },
  {
   "cell_type": "code",
   "execution_count": 25,
   "metadata": {},
   "outputs": [
    {
     "data": {
      "text/plain": [
       "['tr', 'ry', 'y ', ' s', 'so', 'om', 'me', 'et', 'th', 'hi', 'in', 'ng', 'g.']"
      ]
     },
     "execution_count": 25,
     "metadata": {},
     "output_type": "execute_result"
    }
   ],
   "source": [
    "ngrams('try something.', n=2)"
   ]
  },
  {
   "cell_type": "markdown",
   "metadata": {},
   "source": [
    "We now use this function to extract all the $n$-grams"
   ]
  },
  {
   "cell_type": "code",
   "execution_count": 26,
   "metadata": {},
   "outputs": [],
   "source": [
    "def all_ngrams(sentence, max_ngram=3, lc=True):\n",
    "    all_ngram_list = []\n",
    "    for i in range(1, max_ngram + 1):\n",
    "        all_ngram_list += [ngrams(sentence, n=i, lc=lc)]\n",
    "    return all_ngram_list"
   ]
  },
  {
   "cell_type": "code",
   "execution_count": 27,
   "metadata": {},
   "outputs": [
    {
     "data": {
      "text/plain": [
       "[['t', 'r', 'y', ' ', 's', 'o', 'm', 'e', 't', 'h', 'i', 'n', 'g', '.'],\n",
       " ['tr',\n",
       "  'ry',\n",
       "  'y ',\n",
       "  ' s',\n",
       "  'so',\n",
       "  'om',\n",
       "  'me',\n",
       "  'et',\n",
       "  'th',\n",
       "  'hi',\n",
       "  'in',\n",
       "  'ng',\n",
       "  'g.'],\n",
       " ['try',\n",
       "  'ry ',\n",
       "  'y s',\n",
       "  ' so',\n",
       "  'som',\n",
       "  'ome',\n",
       "  'met',\n",
       "  'eth',\n",
       "  'thi',\n",
       "  'hin',\n",
       "  'ing',\n",
       "  'ng.']]"
      ]
     },
     "execution_count": 27,
     "metadata": {},
     "output_type": "execute_result"
    }
   ],
   "source": [
    "all_ngrams('try something.')"
   ]
  },
  {
   "cell_type": "markdown",
   "metadata": {},
   "source": [
    "### Hashing"
   ]
  },
  {
   "cell_type": "markdown",
   "metadata": {},
   "source": [
    "We consider languages with many characters that will make the number of bigrams and trigrams impossible to process. We will use the _hashing trick_ to reduce them, where we will gather $n$-grams into subsets using hash codes.\n",
    "\n",
    "Each item will have this format:\n",
    "`[char_hcodes, bigram_hcodes, trigram_hcodes]`."
   ]
  },
  {
   "cell_type": "markdown",
   "metadata": {},
   "source": [
    "#### Description"
   ]
  },
  {
   "cell_type": "markdown",
   "metadata": {},
   "source": [
    "Python has a built-in hashing function that returns a unique numerical signature for a given string"
   ]
  },
  {
   "cell_type": "code",
   "execution_count": 28,
   "metadata": {},
   "outputs": [
    {
     "data": {
      "text/plain": [
       "(-4493858377643431283, -3998871481154679965, 5014805136085273465)"
      ]
     },
     "execution_count": 28,
     "metadata": {},
     "output_type": "execute_result"
    }
   ],
   "source": [
    "hash('a'), hash('ab'), hash('abc')"
   ]
  },
  {
   "cell_type": "markdown",
   "metadata": {},
   "source": [
    "If we take the remainder (modulo) of a division by 5, we reduce the possible codes to: 0, 1, 2, 3, or 4"
   ]
  },
  {
   "cell_type": "code",
   "execution_count": 29,
   "metadata": {},
   "outputs": [
    {
     "data": {
      "text/plain": [
       "[2, 0, 0]"
      ]
     },
     "execution_count": 29,
     "metadata": {},
     "output_type": "execute_result"
    }
   ],
   "source": [
    "list(map(lambda x: x % 5, (hash('a'), hash('ab'), hash('abc'))))"
   ]
  },
  {
   "cell_type": "markdown",
   "metadata": {},
   "source": [
    "#### Implementation"
   ]
  },
  {
   "cell_type": "markdown",
   "metadata": {},
   "source": [
    "We set maximal numbers for our $n$-grams using these divisors"
   ]
  },
  {
   "cell_type": "code",
   "execution_count": 30,
   "metadata": {},
   "outputs": [],
   "source": [
    "MAX_CHARS = 521\n",
    "MAX_BIGRAMS = 1031\n",
    "MAX_TRIGRAMS = 1031"
   ]
  },
  {
   "cell_type": "markdown",
   "metadata": {},
   "source": [
    "Here strings have integer codes within the range [0, `MAX_CHARS`["
   ]
  },
  {
   "cell_type": "code",
   "execution_count": 31,
   "metadata": {},
   "outputs": [
    {
     "data": {
      "text/plain": [
       "[431, 257, 66]"
      ]
     },
     "execution_count": 31,
     "metadata": {},
     "output_type": "execute_result"
    }
   ],
   "source": [
    "list(map(lambda x: x % MAX_CHARS, (hash('a'), hash('ab'), hash('abc'))))"
   ]
  },
  {
   "cell_type": "markdown",
   "metadata": {},
   "source": [
    "Hash codes may vary across machines and Marcus Klang wrote this function to have reproducible codes"
   ]
  },
  {
   "cell_type": "code",
   "execution_count": 32,
   "metadata": {},
   "outputs": [],
   "source": [
    "def reproducible_hash(string):\n",
    "    \"\"\"\n",
    "    reproducible hash on any string\n",
    "    \n",
    "    Arguments:\n",
    "       string: python string object\n",
    "    \n",
    "    Returns:\n",
    "       signed int64\n",
    "    \"\"\"\n",
    "    \n",
    "    # We are using MD5 for speed not security.\n",
    "    h = hashlib.md5(string.encode(\"utf-8\"), usedforsecurity=False)\n",
    "    return int.from_bytes(h.digest()[0:8], 'big', signed=True)"
   ]
  },
  {
   "cell_type": "code",
   "execution_count": 33,
   "metadata": {},
   "outputs": [
    {
     "data": {
      "text/plain": [
       "919145239626757800"
      ]
     },
     "execution_count": 33,
     "metadata": {},
     "output_type": "execute_result"
    }
   ],
   "source": [
    "reproducible_hash('a')"
   ]
  },
  {
   "cell_type": "code",
   "execution_count": 34,
   "metadata": {},
   "outputs": [
    {
     "data": {
      "text/plain": [
       "234"
      ]
     },
     "execution_count": 34,
     "metadata": {},
     "output_type": "execute_result"
    }
   ],
   "source": [
    "reproducible_hash('a') % MAX_CHARS"
   ]
  },
  {
   "cell_type": "markdown",
   "metadata": {},
   "source": [
    "### Converting $n$-grams to hash codes\n",
    "You will now convert the $n$-grams to hash codes\n"
   ]
  },
  {
   "cell_type": "code",
   "execution_count": 35,
   "metadata": {},
   "outputs": [],
   "source": [
    "MAXES = [MAX_CHARS, MAX_BIGRAMS, MAX_TRIGRAMS]"
   ]
  },
  {
   "cell_type": "markdown",
   "metadata": {},
   "source": [
    "Create a `hash_ngrams` function that creates a list of hash codes from a list of $n$-grams. As arguments, you will have the list of $n$-grams `[chars, bigrams, trigrams]` as well as the list of dividers (`MAXES`).\n",
    "\n",
    "The output format will be a list of three lists:\n",
    "\n",
    "`[char_hcodes, bigram_hcodes, trigram_hcodes]`."
   ]
  },
  {
   "cell_type": "code",
   "execution_count": 36,
   "metadata": {},
   "outputs": [],
   "source": [
    "# Write your code\n",
    "def hash_ngrams(ngrams, modulos):\n",
    "    hash_codes = []\n",
    "    for i in range(len(ngrams)):\n",
    "        hashes = []\n",
    "        for ngram in ngrams[i]:\n",
    "            hashes.append(reproducible_hash(ngram) % modulos[i])\n",
    "        hash_codes.append(hashes)\n",
    "        \n",
    "    return hash_codes"
   ]
  },
  {
   "cell_type": "code",
   "execution_count": 37,
   "metadata": {},
   "outputs": [
    {
     "data": {
      "text/plain": [
       "[['t', 'r', 'y', ' ', 's', 'o', 'm', 'e', 't', 'h', 'i', 'n', 'g', '.'],\n",
       " ['tr',\n",
       "  'ry',\n",
       "  'y ',\n",
       "  ' s',\n",
       "  'so',\n",
       "  'om',\n",
       "  'me',\n",
       "  'et',\n",
       "  'th',\n",
       "  'hi',\n",
       "  'in',\n",
       "  'ng',\n",
       "  'g.'],\n",
       " ['try',\n",
       "  'ry ',\n",
       "  'y s',\n",
       "  ' so',\n",
       "  'som',\n",
       "  'ome',\n",
       "  'met',\n",
       "  'eth',\n",
       "  'thi',\n",
       "  'hin',\n",
       "  'ing',\n",
       "  'ng.']]"
      ]
     },
     "execution_count": 37,
     "metadata": {},
     "output_type": "execute_result"
    }
   ],
   "source": [
    "all_ngrams('try something.')"
   ]
  },
  {
   "cell_type": "code",
   "execution_count": 38,
   "metadata": {},
   "outputs": [
    {
     "data": {
      "text/plain": [
       "[[432, 437, 309, 86, 331, 97, 100, 32, 432, 332, 233, 310, 31, 442],\n",
       " [6, 765, 224, 203, 557, 176, 590, 711, 527, 757, 919, 57, 685],\n",
       " [848, 617, 468, 456, 873, 996, 287, 10, 817, 674, 960, 399]]"
      ]
     },
     "execution_count": 38,
     "metadata": {},
     "output_type": "execute_result"
    }
   ],
   "source": [
    "hash_ngrams(all_ngrams('try something.'), MAXES)"
   ]
  },
  {
   "cell_type": "markdown",
   "metadata": {},
   "source": [
    "### Functions to Count Hash Codes"
   ]
  },
  {
   "cell_type": "markdown",
   "metadata": {},
   "source": [
    "Write a function `calc_rel_freq(codes)` to count the codes. As in CLD3, you will return the relative frequencies.\n",
    "\n",
    "This is just an application of `Counter` to a list of codes and then a division by the length.\n",
    "\n",
    "The input is a list of codes and the output is a `Counter` object of relative frequencies."
   ]
  },
  {
   "cell_type": "code",
   "execution_count": 39,
   "metadata": {},
   "outputs": [],
   "source": [
    "# Write your code\n",
    "def calc_rel_freq(codes):\n",
    "    length = len(codes)\n",
    "    cnt = Counter(codes)\n",
    "    for key in cnt:\n",
    "        cnt[key] /= length\n",
    "\n",
    "    return cnt"
   ]
  },
  {
   "cell_type": "code",
   "execution_count": 40,
   "metadata": {},
   "outputs": [
    {
     "data": {
      "text/plain": [
       "[[432, 437, 309, 86, 331, 97, 100, 32, 432, 332, 233, 310, 31, 442],\n",
       " [6, 765, 224, 203, 557, 176, 590, 711, 527, 757, 919, 57, 685],\n",
       " [848, 617, 468, 456, 873, 996, 287, 10, 817, 674, 960, 399]]"
      ]
     },
     "execution_count": 40,
     "metadata": {},
     "output_type": "execute_result"
    }
   ],
   "source": [
    "hash_ngrams(all_ngrams('try something.'), MAXES)"
   ]
  },
  {
   "cell_type": "code",
   "execution_count": 41,
   "metadata": {},
   "outputs": [
    {
     "data": {
      "text/plain": [
       "[Counter({432: 0.14285714285714285,\n",
       "          437: 0.07142857142857142,\n",
       "          309: 0.07142857142857142,\n",
       "          86: 0.07142857142857142,\n",
       "          331: 0.07142857142857142,\n",
       "          97: 0.07142857142857142,\n",
       "          100: 0.07142857142857142,\n",
       "          32: 0.07142857142857142,\n",
       "          332: 0.07142857142857142,\n",
       "          233: 0.07142857142857142,\n",
       "          310: 0.07142857142857142,\n",
       "          31: 0.07142857142857142,\n",
       "          442: 0.07142857142857142}),\n",
       " Counter({6: 0.07692307692307693,\n",
       "          765: 0.07692307692307693,\n",
       "          224: 0.07692307692307693,\n",
       "          203: 0.07692307692307693,\n",
       "          557: 0.07692307692307693,\n",
       "          176: 0.07692307692307693,\n",
       "          590: 0.07692307692307693,\n",
       "          711: 0.07692307692307693,\n",
       "          527: 0.07692307692307693,\n",
       "          757: 0.07692307692307693,\n",
       "          919: 0.07692307692307693,\n",
       "          57: 0.07692307692307693,\n",
       "          685: 0.07692307692307693}),\n",
       " Counter({848: 0.08333333333333333,\n",
       "          617: 0.08333333333333333,\n",
       "          468: 0.08333333333333333,\n",
       "          456: 0.08333333333333333,\n",
       "          873: 0.08333333333333333,\n",
       "          996: 0.08333333333333333,\n",
       "          287: 0.08333333333333333,\n",
       "          10: 0.08333333333333333,\n",
       "          817: 0.08333333333333333,\n",
       "          674: 0.08333333333333333,\n",
       "          960: 0.08333333333333333,\n",
       "          399: 0.08333333333333333})]"
      ]
     },
     "execution_count": 41,
     "metadata": {},
     "output_type": "execute_result"
    }
   ],
   "source": [
    "counter_list = list(map(calc_rel_freq, hash_ngrams(all_ngrams('try something.'), MAXES)))\n",
    "counter_list"
   ]
  },
  {
   "cell_type": "markdown",
   "metadata": {},
   "source": [
    "### Merge the Dictionaries"
   ]
  },
  {
   "cell_type": "markdown",
   "metadata": {},
   "source": [
    "In the results above, we have three counter objects with numerical keys (the hash codes). You will build one dictionary of them.\n",
    "\n",
    "There is a key overlap and we must take care that a same hash code for the unigrams is not the same as in the bigrams. We will then shift the keys.\n",
    "\n",
    "The keys range from:\n",
    "1. Unigrams from 0 to 521, [0, MAX_CHARS[\n",
    "2. Bigrams from 0 to 1031, [0, MAX_BIGRAMS[\n",
    "3. Trigrams from 1 to 1031, [0, MAX_TRIGRAMS["
   ]
  },
  {
   "cell_type": "markdown",
   "metadata": {},
   "source": [
    "You will leave the unigrams keys as they are. You will shift the bigram keys by MAX_CHARS, and the trigram keys by MAX_CHARS + MAX_BIGRAMS. You can reuse the code below"
   ]
  },
  {
   "cell_type": "code",
   "execution_count": 42,
   "metadata": {},
   "outputs": [],
   "source": [
    "MAX_SHIFT = []\n",
    "for i in range(len(MAXES)):\n",
    "    MAX_SHIFT += [sum(MAXES[:i])]"
   ]
  },
  {
   "cell_type": "code",
   "execution_count": 43,
   "metadata": {},
   "outputs": [
    {
     "data": {
      "text/plain": [
       "[0, 521, 1552]"
      ]
     },
     "execution_count": 43,
     "metadata": {},
     "output_type": "execute_result"
    }
   ],
   "source": [
    "MAX_SHIFT"
   ]
  },
  {
   "cell_type": "markdown",
   "metadata": {},
   "source": [
    "Write a `shift_keys(dicts, MAX_SHIFT)` function that takes a list of dictionaries as input and the list of shifts and that a new unique dictionary, where the numerical keys have been shifted by the numbers in `MAX_SHIFT`"
   ]
  },
  {
   "cell_type": "code",
   "execution_count": 44,
   "metadata": {},
   "outputs": [
    {
     "data": {
      "text/plain": [
       "0.14285714285714285"
      ]
     },
     "execution_count": 44,
     "metadata": {},
     "output_type": "execute_result"
    }
   ],
   "source": [
    "counter_list[0][432]"
   ]
  },
  {
   "cell_type": "code",
   "execution_count": 45,
   "metadata": {},
   "outputs": [],
   "source": [
    "# Write your code here\n",
    "def shift_keys(dicts, MAX_SHIFT):\n",
    "    new_dict = {}\n",
    "    for dict, max_shift in zip(dicts, MAX_SHIFT):\n",
    "        for key in dict:\n",
    "            new_dict[key + max_shift] = dict[key]\n",
    "    return new_dict"
   ]
  },
  {
   "cell_type": "code",
   "execution_count": 46,
   "metadata": {},
   "outputs": [
    {
     "data": {
      "text/plain": [
       "[Counter({432: 0.14285714285714285,\n",
       "          437: 0.07142857142857142,\n",
       "          309: 0.07142857142857142,\n",
       "          86: 0.07142857142857142,\n",
       "          331: 0.07142857142857142,\n",
       "          97: 0.07142857142857142,\n",
       "          100: 0.07142857142857142,\n",
       "          32: 0.07142857142857142,\n",
       "          332: 0.07142857142857142,\n",
       "          233: 0.07142857142857142,\n",
       "          310: 0.07142857142857142,\n",
       "          31: 0.07142857142857142,\n",
       "          442: 0.07142857142857142}),\n",
       " Counter({6: 0.07692307692307693,\n",
       "          765: 0.07692307692307693,\n",
       "          224: 0.07692307692307693,\n",
       "          203: 0.07692307692307693,\n",
       "          557: 0.07692307692307693,\n",
       "          176: 0.07692307692307693,\n",
       "          590: 0.07692307692307693,\n",
       "          711: 0.07692307692307693,\n",
       "          527: 0.07692307692307693,\n",
       "          757: 0.07692307692307693,\n",
       "          919: 0.07692307692307693,\n",
       "          57: 0.07692307692307693,\n",
       "          685: 0.07692307692307693}),\n",
       " Counter({848: 0.08333333333333333,\n",
       "          617: 0.08333333333333333,\n",
       "          468: 0.08333333333333333,\n",
       "          456: 0.08333333333333333,\n",
       "          873: 0.08333333333333333,\n",
       "          996: 0.08333333333333333,\n",
       "          287: 0.08333333333333333,\n",
       "          10: 0.08333333333333333,\n",
       "          817: 0.08333333333333333,\n",
       "          674: 0.08333333333333333,\n",
       "          960: 0.08333333333333333,\n",
       "          399: 0.08333333333333333})]"
      ]
     },
     "execution_count": 46,
     "metadata": {},
     "output_type": "execute_result"
    }
   ],
   "source": [
    "list(map(calc_rel_freq, hash_ngrams(all_ngrams('try something.'), MAXES)))"
   ]
  },
  {
   "cell_type": "code",
   "execution_count": 47,
   "metadata": {},
   "outputs": [
    {
     "data": {
      "text/plain": [
       "{432: 0.14285714285714285,\n",
       " 437: 0.07142857142857142,\n",
       " 309: 0.07142857142857142,\n",
       " 86: 0.07142857142857142,\n",
       " 331: 0.07142857142857142,\n",
       " 97: 0.07142857142857142,\n",
       " 100: 0.07142857142857142,\n",
       " 32: 0.07142857142857142,\n",
       " 332: 0.07142857142857142,\n",
       " 233: 0.07142857142857142,\n",
       " 310: 0.07142857142857142,\n",
       " 31: 0.07142857142857142,\n",
       " 442: 0.07142857142857142,\n",
       " 527: 0.07692307692307693,\n",
       " 1286: 0.07692307692307693,\n",
       " 745: 0.07692307692307693,\n",
       " 724: 0.07692307692307693,\n",
       " 1078: 0.07692307692307693,\n",
       " 697: 0.07692307692307693,\n",
       " 1111: 0.07692307692307693,\n",
       " 1232: 0.07692307692307693,\n",
       " 1048: 0.07692307692307693,\n",
       " 1278: 0.07692307692307693,\n",
       " 1440: 0.07692307692307693,\n",
       " 578: 0.07692307692307693,\n",
       " 1206: 0.07692307692307693,\n",
       " 2400: 0.08333333333333333,\n",
       " 2169: 0.08333333333333333,\n",
       " 2020: 0.08333333333333333,\n",
       " 2008: 0.08333333333333333,\n",
       " 2425: 0.08333333333333333,\n",
       " 2548: 0.08333333333333333,\n",
       " 1839: 0.08333333333333333,\n",
       " 1562: 0.08333333333333333,\n",
       " 2369: 0.08333333333333333,\n",
       " 2226: 0.08333333333333333,\n",
       " 2512: 0.08333333333333333,\n",
       " 1951: 0.08333333333333333}"
      ]
     },
     "execution_count": 47,
     "metadata": {},
     "output_type": "execute_result"
    }
   ],
   "source": [
    "shift_keys(map(calc_rel_freq, hash_ngrams(all_ngrams('try something.'), MAXES)), MAX_SHIFT)"
   ]
  },
  {
   "cell_type": "markdown",
   "metadata": {},
   "source": [
    "Finally, we assemble all these utilities in a function"
   ]
  },
  {
   "cell_type": "code",
   "execution_count": 48,
   "metadata": {},
   "outputs": [],
   "source": [
    "def build_freq_dict(sentence, MAXES=MAXES, MAX_SHIFT=MAX_SHIFT):\n",
    "    hngrams = hash_ngrams(all_ngrams(sentence), MAXES)\n",
    "    fhcodes = map(calc_rel_freq, hngrams)\n",
    "    return shift_keys(fhcodes, MAX_SHIFT)"
   ]
  },
  {
   "cell_type": "code",
   "execution_count": 49,
   "metadata": {},
   "outputs": [
    {
     "data": {
      "text/plain": [
       "{432: 0.14285714285714285,\n",
       " 437: 0.07142857142857142,\n",
       " 309: 0.07142857142857142,\n",
       " 86: 0.07142857142857142,\n",
       " 331: 0.07142857142857142,\n",
       " 97: 0.07142857142857142,\n",
       " 100: 0.07142857142857142,\n",
       " 32: 0.07142857142857142,\n",
       " 332: 0.07142857142857142,\n",
       " 233: 0.07142857142857142,\n",
       " 310: 0.07142857142857142,\n",
       " 31: 0.07142857142857142,\n",
       " 442: 0.07142857142857142,\n",
       " 527: 0.07692307692307693,\n",
       " 1286: 0.07692307692307693,\n",
       " 745: 0.07692307692307693,\n",
       " 724: 0.07692307692307693,\n",
       " 1078: 0.07692307692307693,\n",
       " 697: 0.07692307692307693,\n",
       " 1111: 0.07692307692307693,\n",
       " 1232: 0.07692307692307693,\n",
       " 1048: 0.07692307692307693,\n",
       " 1278: 0.07692307692307693,\n",
       " 1440: 0.07692307692307693,\n",
       " 578: 0.07692307692307693,\n",
       " 1206: 0.07692307692307693,\n",
       " 2400: 0.08333333333333333,\n",
       " 2169: 0.08333333333333333,\n",
       " 2020: 0.08333333333333333,\n",
       " 2008: 0.08333333333333333,\n",
       " 2425: 0.08333333333333333,\n",
       " 2548: 0.08333333333333333,\n",
       " 1839: 0.08333333333333333,\n",
       " 1562: 0.08333333333333333,\n",
       " 2369: 0.08333333333333333,\n",
       " 2226: 0.08333333333333333,\n",
       " 2512: 0.08333333333333333,\n",
       " 1951: 0.08333333333333333}"
      ]
     },
     "execution_count": 49,
     "metadata": {},
     "output_type": "execute_result"
    }
   ],
   "source": [
    "build_freq_dict('try something.')"
   ]
  },
  {
   "cell_type": "markdown",
   "metadata": {},
   "source": [
    "## Converting the Dataset\n",
    "We can now enrich the dataset with a numerical representation of the sentence. We use the utility functions and we call this new version: `dataset_num`"
   ]
  },
  {
   "cell_type": "code",
   "execution_count": 50,
   "metadata": {},
   "outputs": [
    {
     "data": {
      "text/plain": [
       "[('4449570', 'swe', 'Jag måste iväg.'),\n",
       " ('6375724', 'eng', 'Sami knows exactly how Layla feels.')]"
      ]
     },
     "execution_count": 50,
     "metadata": {},
     "output_type": "execute_result"
    }
   ],
   "source": [
    "dataset[:2]"
   ]
  },
  {
   "cell_type": "code",
   "execution_count": 51,
   "metadata": {},
   "outputs": [
    {
     "name": "stderr",
     "output_type": "stream",
     "text": [
      "  3%|▎         | 9125/300000 [00:06<02:47, 1733.95it/s]"
     ]
    },
    {
     "name": "stderr",
     "output_type": "stream",
     "text": [
      "100%|██████████| 300000/300000 [02:27<00:00, 2034.29it/s]\n"
     ]
    }
   ],
   "source": [
    "dataset_num = []\n",
    "for datapoint in tqdm(dataset):\n",
    "    dataset_num += [list(datapoint) + [build_freq_dict(datapoint[2])]]"
   ]
  },
  {
   "cell_type": "code",
   "execution_count": 52,
   "metadata": {},
   "outputs": [
    {
     "data": {
      "text/plain": [
       "[['4449570',\n",
       "  'swe',\n",
       "  'Jag måste iväg.',\n",
       "  {192: 0.06666666666666667,\n",
       "   234: 0.06666666666666667,\n",
       "   31: 0.13333333333333333,\n",
       "   86: 0.13333333333333333,\n",
       "   100: 0.06666666666666667,\n",
       "   413: 0.06666666666666667,\n",
       "   331: 0.06666666666666667,\n",
       "   432: 0.06666666666666667,\n",
       "   32: 0.06666666666666667,\n",
       "   233: 0.06666666666666667,\n",
       "   121: 0.06666666666666667,\n",
       "   444: 0.06666666666666667,\n",
       "   442: 0.06666666666666667,\n",
       "   1537: 0.07142857142857142,\n",
       "   1403: 0.07142857142857142,\n",
       "   1304: 0.07142857142857142,\n",
       "   1466: 0.07142857142857142,\n",
       "   739: 0.07142857142857142,\n",
       "   687: 0.07142857142857142,\n",
       "   533: 0.07142857142857142,\n",
       "   1012: 0.07142857142857142,\n",
       "   995: 0.07142857142857142,\n",
       "   894: 0.07142857142857142,\n",
       "   686: 0.07142857142857142,\n",
       "   1443: 0.07142857142857142,\n",
       "   1106: 0.07142857142857142,\n",
       "   1206: 0.07142857142857142,\n",
       "   1944: 0.07692307692307693,\n",
       "   2340: 0.07692307692307693,\n",
       "   1907: 0.07692307692307693,\n",
       "   1882: 0.07692307692307693,\n",
       "   2290: 0.07692307692307693,\n",
       "   2306: 0.07692307692307693,\n",
       "   2077: 0.07692307692307693,\n",
       "   1779: 0.07692307692307693,\n",
       "   2357: 0.07692307692307693,\n",
       "   1922: 0.07692307692307693,\n",
       "   2302: 0.07692307692307693,\n",
       "   2199: 0.07692307692307693,\n",
       "   1654: 0.07692307692307693}],\n",
       " ['6375724',\n",
       "  'eng',\n",
       "  'Sami knows exactly how Layla feels.',\n",
       "  {331: 0.08571428571428572,\n",
       "   234: 0.11428571428571428,\n",
       "   100: 0.02857142857142857,\n",
       "   233: 0.02857142857142857,\n",
       "   86: 0.14285714285714285,\n",
       "   514: 0.02857142857142857,\n",
       "   310: 0.02857142857142857,\n",
       "   97: 0.05714285714285714,\n",
       "   301: 0.05714285714285714,\n",
       "   32: 0.08571428571428572,\n",
       "   13: 0.02857142857142857,\n",
       "   196: 0.02857142857142857,\n",
       "   432: 0.02857142857142857,\n",
       "   15: 0.11428571428571428,\n",
       "   309: 0.05714285714285714,\n",
       "   332: 0.02857142857142857,\n",
       "   327: 0.02857142857142857,\n",
       "   442: 0.02857142857142857,\n",
       "   1078: 0.029411764705882353,\n",
       "   1455: 0.029411764705882353,\n",
       "   1294: 0.029411764705882353,\n",
       "   949: 0.029411764705882353,\n",
       "   1232: 0.029411764705882353,\n",
       "   783: 0.029411764705882353,\n",
       "   628: 0.029411764705882353,\n",
       "   721: 0.058823529411764705,\n",
       "   1494: 0.029411764705882353,\n",
       "   1238: 0.029411764705882353,\n",
       "   912: 0.029411764705882353,\n",
       "   735: 0.029411764705882353,\n",
       "   998: 0.029411764705882353,\n",
       "   1390: 0.029411764705882353,\n",
       "   857: 0.029411764705882353,\n",
       "   567: 0.029411764705882353,\n",
       "   725: 0.029411764705882353,\n",
       "   745: 0.029411764705882353,\n",
       "   1027: 0.029411764705882353,\n",
       "   989: 0.029411764705882353,\n",
       "   1224: 0.029411764705882353,\n",
       "   900: 0.029411764705882353,\n",
       "   1171: 0.058823529411764705,\n",
       "   1490: 0.029411764705882353,\n",
       "   1498: 0.029411764705882353,\n",
       "   1115: 0.029411764705882353,\n",
       "   1547: 0.029411764705882353,\n",
       "   908: 0.029411764705882353,\n",
       "   564: 0.029411764705882353,\n",
       "   1128: 0.029411764705882353,\n",
       "   700: 0.029411764705882353,\n",
       "   1102: 0.029411764705882353,\n",
       "   1908: 0.030303030303030304,\n",
       "   2379: 0.030303030303030304,\n",
       "   2296: 0.030303030303030304,\n",
       "   2391: 0.030303030303030304,\n",
       "   2516: 0.030303030303030304,\n",
       "   2243: 0.030303030303030304,\n",
       "   1840: 0.030303030303030304,\n",
       "   2148: 0.030303030303030304,\n",
       "   2171: 0.030303030303030304,\n",
       "   2570: 0.030303030303030304,\n",
       "   1902: 0.030303030303030304,\n",
       "   1603: 0.030303030303030304,\n",
       "   1682: 0.030303030303030304,\n",
       "   2102: 0.030303030303030304,\n",
       "   2012: 0.030303030303030304,\n",
       "   1716: 0.030303030303030304,\n",
       "   1758: 0.030303030303030304,\n",
       "   1589: 0.030303030303030304,\n",
       "   1858: 0.030303030303030304,\n",
       "   1915: 0.030303030303030304,\n",
       "   1924: 0.030303030303030304,\n",
       "   1565: 0.030303030303030304,\n",
       "   1670: 0.030303030303030304,\n",
       "   1654: 0.030303030303030304,\n",
       "   1914: 0.030303030303030304,\n",
       "   1661: 0.030303030303030304,\n",
       "   2486: 0.030303030303030304,\n",
       "   1734: 0.030303030303030304,\n",
       "   1688: 0.030303030303030304,\n",
       "   2279: 0.030303030303030304,\n",
       "   1591: 0.030303030303030304,\n",
       "   1940: 0.030303030303030304,\n",
       "   2528: 0.030303030303030304}]]"
      ]
     },
     "execution_count": 52,
     "metadata": {},
     "output_type": "execute_result"
    }
   ],
   "source": [
    "dataset_num[:2]"
   ]
  },
  {
   "cell_type": "markdown",
   "metadata": {},
   "source": [
    "## Programming: Building ${X}$"
   ]
  },
  {
   "cell_type": "markdown",
   "metadata": {},
   "source": [
    "You will now build the ${X}$ matrix."
   ]
  },
  {
   "cell_type": "markdown",
   "metadata": {},
   "source": [
    "### Vectorizing the features"
   ]
  },
  {
   "cell_type": "markdown",
   "metadata": {},
   "source": [
    "The CLD3 architecture uses embeddings. In this lab, we will simplify it and we will use a feature vector instead consisting of the character frequencies. For example, you will represent the text:\n",
    "\n",
    "`\"Let's try something.\"`\n",
    "\n",
    "with:\n",
    "\n",
    "`{'l': 0.05, 'e': 0.1, 't': 0.15, \"'\": 0.05, 's': 0.1, ' ': 0.1, \n",
    " 'r': 0.05, 'y': 0.05, 'o': 0.05, 'm': 0.05, 'h': 0.05, 'i': 0.05, \n",
    " 'n': 0.05, 'g': 0.05, '.': 0.05}`\n",
    "\n",
    "Note that we used characters and not codes to make it more legible.\n",
    "\n",
    "To create the ${X}$ matrix, we need to transform the dictionaries of `dataset_num` into numerical vectors. The `DictVectorizer` class from the scikit-learn library, see here [https://scikit-learn.org/stable/modules/generated/sklearn.feature_extraction.DictVectorizer.html], has two methods, `fit()` and `transform()`, and a combination of both `fit_transform()` to convert dictionaries into such vectors."
   ]
  },
  {
   "cell_type": "markdown",
   "metadata": {},
   "source": [
    "You will now write the code to:\n",
    "\n",
    "1. Extract the hash code frequency dictionaries from `dataset_num` corresponding to its 3rd index;\n",
    "2. Convert the list of dictionaries into an ${X}$ matrix using `DictVectorizer`."
   ]
  },
  {
   "cell_type": "markdown",
   "metadata": {},
   "source": [
    "#### Extracting the character frequencies"
   ]
  },
  {
   "cell_type": "markdown",
   "metadata": {},
   "source": [
    "Produce a new list of datapoints with the $n$-grams. Each item in this list will be a dictionary. You will call it `X_cat`"
   ]
  },
  {
   "cell_type": "code",
   "execution_count": 53,
   "metadata": {},
   "outputs": [],
   "source": [
    "# Write your code here\n",
    "X_cat = [x[3] for x in dataset_num]"
   ]
  },
  {
   "cell_type": "code",
   "execution_count": 54,
   "metadata": {},
   "outputs": [
    {
     "data": {
      "text/plain": [
       "{192: 0.06666666666666667,\n",
       " 234: 0.06666666666666667,\n",
       " 31: 0.13333333333333333,\n",
       " 86: 0.13333333333333333,\n",
       " 100: 0.06666666666666667,\n",
       " 413: 0.06666666666666667,\n",
       " 331: 0.06666666666666667,\n",
       " 432: 0.06666666666666667,\n",
       " 32: 0.06666666666666667,\n",
       " 233: 0.06666666666666667,\n",
       " 121: 0.06666666666666667,\n",
       " 444: 0.06666666666666667,\n",
       " 442: 0.06666666666666667,\n",
       " 1537: 0.07142857142857142,\n",
       " 1403: 0.07142857142857142,\n",
       " 1304: 0.07142857142857142,\n",
       " 1466: 0.07142857142857142,\n",
       " 739: 0.07142857142857142,\n",
       " 687: 0.07142857142857142,\n",
       " 533: 0.07142857142857142,\n",
       " 1012: 0.07142857142857142,\n",
       " 995: 0.07142857142857142,\n",
       " 894: 0.07142857142857142,\n",
       " 686: 0.07142857142857142,\n",
       " 1443: 0.07142857142857142,\n",
       " 1106: 0.07142857142857142,\n",
       " 1206: 0.07142857142857142,\n",
       " 1944: 0.07692307692307693,\n",
       " 2340: 0.07692307692307693,\n",
       " 1907: 0.07692307692307693,\n",
       " 1882: 0.07692307692307693,\n",
       " 2290: 0.07692307692307693,\n",
       " 2306: 0.07692307692307693,\n",
       " 2077: 0.07692307692307693,\n",
       " 1779: 0.07692307692307693,\n",
       " 2357: 0.07692307692307693,\n",
       " 1922: 0.07692307692307693,\n",
       " 2302: 0.07692307692307693,\n",
       " 2199: 0.07692307692307693,\n",
       " 1654: 0.07692307692307693}"
      ]
     },
     "execution_count": 54,
     "metadata": {},
     "output_type": "execute_result"
    }
   ],
   "source": [
    "X_cat[0]"
   ]
  },
  {
   "cell_type": "markdown",
   "metadata": {},
   "source": [
    "#### Vectorize `X_cat`"
   ]
  },
  {
   "cell_type": "markdown",
   "metadata": {},
   "source": [
    "Convert you `X_cat` matrix into a numerical representation using `DictVectorizer`: https://scikit-learn.org/stable/modules/generated/sklearn.feature_extraction.DictVectorizer.html. You will set the `sparse` argument to False. Call the result `X`."
   ]
  },
  {
   "cell_type": "code",
   "execution_count": 55,
   "metadata": {},
   "outputs": [],
   "source": [
    "# Write your code here\n",
    "v = DictVectorizer(sparse=False)\n",
    "X = v.fit_transform(X_cat)"
   ]
  },
  {
   "cell_type": "code",
   "execution_count": 56,
   "metadata": {},
   "outputs": [
    {
     "data": {
      "text/plain": [
       "(300000, 2583)"
      ]
     },
     "execution_count": 56,
     "metadata": {},
     "output_type": "execute_result"
    }
   ],
   "source": [
    "X.shape"
   ]
  },
  {
   "cell_type": "code",
   "execution_count": 57,
   "metadata": {},
   "outputs": [
    {
     "data": {
      "text/plain": [
       "array([[0., 0., 0., ..., 0., 0., 0.],\n",
       "       [0., 0., 0., ..., 0., 0., 0.],\n",
       "       [0., 0., 0., ..., 0., 0., 0.],\n",
       "       [0., 0., 0., ..., 0., 0., 0.],\n",
       "       [0., 0., 0., ..., 0., 0., 0.]])"
      ]
     },
     "execution_count": 57,
     "metadata": {},
     "output_type": "execute_result"
    }
   ],
   "source": [
    "X[:5]"
   ]
  },
  {
   "cell_type": "markdown",
   "metadata": {},
   "source": [
    "## Programming: Building $\\mathbf{y}$"
   ]
  },
  {
   "cell_type": "markdown",
   "metadata": {},
   "source": [
    "You will now convert the list of language symbols into a $\\mathbf{y}$ vector"
   ]
  },
  {
   "cell_type": "markdown",
   "metadata": {},
   "source": [
    "Extract the language symbols from `dataset_small_feat` and call the resulting list `y_cat`"
   ]
  },
  {
   "cell_type": "code",
   "execution_count": 58,
   "metadata": {},
   "outputs": [],
   "source": [
    "# Write your code here\n",
    "y_cat = [x[1] for x in dataset_num]"
   ]
  },
  {
   "cell_type": "code",
   "execution_count": 59,
   "metadata": {},
   "outputs": [
    {
     "data": {
      "text/plain": [
       "['swe', 'eng', 'eng', 'swe', 'dan']"
      ]
     },
     "execution_count": 59,
     "metadata": {},
     "output_type": "execute_result"
    }
   ],
   "source": [
    "y_cat[:5]"
   ]
  },
  {
   "cell_type": "markdown",
   "metadata": {},
   "source": [
    "Extract the set of language symbols and name it `y_symbols`. Then build two indices mapping the symbols to integers and the integers to symbols. Both indices will be dictionaries that you will call: `lang2idx`and `idx2lang`. Such a conversion is not necessary with sklearn. We do it because many other many machine-learning toolkits (keras or pytorch) require a numerical $\\mathbf{y}$ vector and to learn how to carry out this conversion."
   ]
  },
  {
   "cell_type": "code",
   "execution_count": 60,
   "metadata": {},
   "outputs": [],
   "source": [
    "# Write your code here\n",
    "y_symbols = set(y_cat)\n",
    "idx2lang = {}\n",
    "lang2idx = {}\n",
    "\n",
    "for idx, lang in enumerate(y_symbols):\n",
    "    idx2lang[idx] = lang\n",
    "    lang2idx[lang] = idx"
   ]
  },
  {
   "cell_type": "code",
   "execution_count": 61,
   "metadata": {},
   "outputs": [
    {
     "data": {
      "text/plain": [
       "{0: 'swe', 1: 'fra', 2: 'cmn', 3: 'jpn', 4: 'eng', 5: 'dan'}"
      ]
     },
     "execution_count": 61,
     "metadata": {},
     "output_type": "execute_result"
    }
   ],
   "source": [
    "idx2lang"
   ]
  },
  {
   "cell_type": "code",
   "execution_count": 62,
   "metadata": {},
   "outputs": [
    {
     "data": {
      "text/plain": [
       "{'swe': 0, 'fra': 1, 'cmn': 2, 'jpn': 3, 'eng': 4, 'dan': 5}"
      ]
     },
     "execution_count": 62,
     "metadata": {},
     "output_type": "execute_result"
    }
   ],
   "source": [
    "lang2idx"
   ]
  },
  {
   "cell_type": "markdown",
   "metadata": {},
   "source": [
    "Convert your `y_cat` vector into a numerical vector. Call this vector `y`."
   ]
  },
  {
   "cell_type": "code",
   "execution_count": 63,
   "metadata": {},
   "outputs": [],
   "source": [
    "# Write your code here\n",
    "y = [lang2idx[lang] for lang in y_cat]"
   ]
  },
  {
   "cell_type": "code",
   "execution_count": 64,
   "metadata": {},
   "outputs": [
    {
     "data": {
      "text/plain": [
       "[0, 4, 4, 0, 5]"
      ]
     },
     "execution_count": 64,
     "metadata": {},
     "output_type": "execute_result"
    }
   ],
   "source": [
    "y[:5]"
   ]
  },
  {
   "cell_type": "markdown",
   "metadata": {},
   "source": [
    "## Programming: Building the Model"
   ]
  },
  {
   "cell_type": "markdown",
   "metadata": {},
   "source": [
    "Create a neural network using sklearn with a hidden layer of 50 nodes and a relu activation layer: https://scikit-learn.org/stable/modules/neural_networks_supervised.html. Set the maximal number of iterations to 5, in the beginning, and verbose to True. Use the default values for the rest. You will call your classifier `clf`"
   ]
  },
  {
   "cell_type": "code",
   "execution_count": 65,
   "metadata": {},
   "outputs": [],
   "source": [
    "# Write your code here\n",
    "\n",
    "clf = MLPClassifier(hidden_layer_sizes=(50,), max_iter=5, verbose=True)"
   ]
  },
  {
   "cell_type": "code",
   "execution_count": 66,
   "metadata": {},
   "outputs": [
    {
     "data": {
      "text/plain": [
       "MLPClassifier(hidden_layer_sizes=(50,), max_iter=5, verbose=True)"
      ]
     },
     "execution_count": 66,
     "metadata": {},
     "output_type": "execute_result"
    }
   ],
   "source": [
    "clf"
   ]
  },
  {
   "cell_type": "markdown",
   "metadata": {},
   "source": [
    "### Training and Validation Sets"
   ]
  },
  {
   "cell_type": "markdown",
   "metadata": {},
   "source": [
    "You will now split the dataset into a training and validation sets"
   ]
  },
  {
   "cell_type": "markdown",
   "metadata": {},
   "source": [
    "#### We split the dataset\n",
    "We use a training set of 80% and a validation set of 20%"
   ]
  },
  {
   "cell_type": "code",
   "execution_count": 67,
   "metadata": {},
   "outputs": [],
   "source": [
    "training_examples = int(X.shape[0] * 0.8)\n",
    "\n",
    "X_train = X[:training_examples, :]\n",
    "y_train = y[:training_examples]\n",
    "\n",
    "X_val = X[training_examples:, :]\n",
    "y_val = y[training_examples:]"
   ]
  },
  {
   "cell_type": "markdown",
   "metadata": {
    "tags": []
   },
   "source": [
    "### Fitting the model"
   ]
  },
  {
   "cell_type": "markdown",
   "metadata": {},
   "source": [
    "Fit the model on the training set"
   ]
  },
  {
   "cell_type": "code",
   "execution_count": 67,
   "metadata": {},
   "outputs": [
    {
     "name": "stdout",
     "output_type": "stream",
     "text": [
      "Iteration 1, loss = 0.29044198\n",
      "Iteration 2, loss = 0.04080385\n",
      "Iteration 3, loss = 0.02907817\n",
      "Iteration 4, loss = 0.02418388\n",
      "Iteration 5, loss = 0.02131159\n"
     ]
    },
    {
     "name": "stderr",
     "output_type": "stream",
     "text": [
      "c:\\Users\\01012\\anaconda3\\lib\\site-packages\\sklearn\\neural_network\\_multilayer_perceptron.py:614: ConvergenceWarning: Stochastic Optimizer: Maximum iterations (5) reached and the optimization hasn't converged yet.\n",
      "  warnings.warn(\n"
     ]
    }
   ],
   "source": [
    "# Write your code here\n",
    "model =  clf.fit(X_train, y_train)\n",
    "%store model"
   ]
  },
  {
   "cell_type": "code",
   "execution_count": null,
   "metadata": {},
   "outputs": [],
   "source": [
    "%store -r model"
   ]
  },
  {
   "cell_type": "markdown",
   "metadata": {},
   "source": [
    "## Predicting"
   ]
  },
  {
   "cell_type": "markdown",
   "metadata": {},
   "source": [
    "Predict the `X_val` languages. You will call the result `y_val_pred`"
   ]
  },
  {
   "cell_type": "code",
   "execution_count": 68,
   "metadata": {},
   "outputs": [],
   "source": [
    "# Write your code here\n",
    "y_val_pred = clf.predict(X_val)"
   ]
  },
  {
   "cell_type": "code",
   "execution_count": 69,
   "metadata": {},
   "outputs": [
    {
     "data": {
      "text/plain": [
       "array([4, 2, 2, 2, 1, 1, 1, 1, 3, 3, 1, 0, 2, 0, 5, 0, 3, 3, 1, 0])"
      ]
     },
     "execution_count": 69,
     "metadata": {},
     "output_type": "execute_result"
    }
   ],
   "source": [
    "y_val_pred[:20]"
   ]
  },
  {
   "cell_type": "code",
   "execution_count": 70,
   "metadata": {},
   "outputs": [
    {
     "data": {
      "text/plain": [
       "[4, 2, 2, 2, 1, 1, 1, 1, 3, 3, 1, 0, 2, 0, 5, 0, 3, 3, 1, 0]"
      ]
     },
     "execution_count": 70,
     "metadata": {},
     "output_type": "execute_result"
    }
   ],
   "source": [
    "y_val[:20]"
   ]
  },
  {
   "cell_type": "markdown",
   "metadata": {},
   "source": [
    "#### Evaluating"
   ]
  },
  {
   "cell_type": "markdown",
   "metadata": {},
   "source": [
    "Use the `accuracy_score()` function to evaluate your model on the validation set"
   ]
  },
  {
   "cell_type": "code",
   "execution_count": 71,
   "metadata": {},
   "outputs": [
    {
     "data": {
      "text/plain": [
       "0.99185"
      ]
     },
     "execution_count": 71,
     "metadata": {},
     "output_type": "execute_result"
    }
   ],
   "source": [
    "# evaluate the model\n",
    "accuracy_score(y_val, y_val_pred)"
   ]
  },
  {
   "cell_type": "code",
   "execution_count": 72,
   "metadata": {},
   "outputs": [
    {
     "name": "stdout",
     "output_type": "stream",
     "text": [
      "              precision    recall  f1-score   support\n",
      "\n",
      "         dan       0.98      0.98      0.98      9946\n",
      "         jpn       1.00      1.00      1.00      9866\n",
      "         fra       1.00      1.00      1.00     10117\n",
      "         cmn       1.00      1.00      1.00      9997\n",
      "         swe       0.98      0.98      0.98     10032\n",
      "         eng       0.99      1.00      1.00     10042\n",
      "\n",
      "    accuracy                           0.99     60000\n",
      "   macro avg       0.99      0.99      0.99     60000\n",
      "weighted avg       0.99      0.99      0.99     60000\n",
      "\n",
      "Micro F1: 0.99185\n",
      "Macro F1 0.9918428522634879\n"
     ]
    }
   ],
   "source": [
    "print(classification_report(y_val, y_val_pred, target_names=y_symbols))\n",
    "print('Micro F1:', f1_score(y_val, y_val_pred, average='micro'))\n",
    "print('Macro F1', f1_score(y_val, y_val_pred, average='macro'))"
   ]
  },
  {
   "cell_type": "markdown",
   "metadata": {},
   "source": [
    "### Confusion Matrix"
   ]
  },
  {
   "cell_type": "code",
   "execution_count": 73,
   "metadata": {},
   "outputs": [
    {
     "data": {
      "text/plain": [
       "array([[ 9736,     0,    14,     1,   169,    26],\n",
       "       [    0,  9851,     0,    14,     0,     1],\n",
       "       [    1,     0, 10099,     0,     6,    11],\n",
       "       [    2,    11,     0,  9981,     1,     2],\n",
       "       [  176,     0,     4,     0,  9837,    15],\n",
       "       [   12,     0,    15,     1,     7, 10007]], dtype=int64)"
      ]
     },
     "execution_count": 73,
     "metadata": {},
     "output_type": "execute_result"
    }
   ],
   "source": [
    "confusion_matrix(y_val, y_val_pred)"
   ]
  },
  {
   "cell_type": "markdown",
   "metadata": {},
   "source": [
    "You may try to increase the number of iterations to improve the score. You may also try change the parameters of the multilayer percetron."
   ]
  },
  {
   "cell_type": "markdown",
   "metadata": {},
   "source": [
    "## Predict the language of a text"
   ]
  },
  {
   "cell_type": "markdown",
   "metadata": {},
   "source": [
    "Now you will predict the languages of the strings below."
   ]
  },
  {
   "cell_type": "code",
   "execution_count": 78,
   "metadata": {},
   "outputs": [],
   "source": [
    "docs = [\"Salut les gars !\", \"Hejsan grabbar!\", \"Hello guys!\", \"Hejsan tjejer!\"]"
   ]
  },
  {
   "cell_type": "code",
   "execution_count": 79,
   "metadata": {},
   "outputs": [],
   "source": [
    "X_docs = [build_freq_dict(x) for x in docs]\n"
   ]
  },
  {
   "cell_type": "markdown",
   "metadata": {},
   "source": [
    "Create features vectors from this list. Call this matrix `X_test`"
   ]
  },
  {
   "cell_type": "code",
   "execution_count": 80,
   "metadata": {},
   "outputs": [],
   "source": [
    "# Write your code here\n",
    "X_test = [v.transform(x_doc) for x_doc in X_docs]"
   ]
  },
  {
   "cell_type": "code",
   "execution_count": 81,
   "metadata": {},
   "outputs": [
    {
     "data": {
      "text/plain": [
       "[array([[0., 0., 0., ..., 0., 0., 0.]]),\n",
       " array([[0., 0., 0., ..., 0., 0., 0.]]),\n",
       " array([[0., 0., 0., ..., 0., 0., 0.]]),\n",
       " array([[0., 0., 0., ..., 0., 0., 0.]])]"
      ]
     },
     "execution_count": 81,
     "metadata": {},
     "output_type": "execute_result"
    }
   ],
   "source": [
    "X_test"
   ]
  },
  {
   "cell_type": "markdown",
   "metadata": {},
   "source": [
    "And run the prediction that you will store in a variable called `pred_languages`"
   ]
  },
  {
   "cell_type": "code",
   "execution_count": 78,
   "metadata": {},
   "outputs": [],
   "source": [
    "# Write your code here\n",
    "pred_languages = [clf.predict(x) for x in X_test]"
   ]
  },
  {
   "cell_type": "code",
   "execution_count": 85,
   "metadata": {},
   "outputs": [
    {
     "data": {
      "text/plain": [
       "['fra', 'swe', 'eng', 'dan']"
      ]
     },
     "execution_count": 85,
     "metadata": {},
     "output_type": "execute_result"
    }
   ],
   "source": [
    "pred_languages\n",
    "[idx2lang[2], idx2lang[4], idx2lang[5], idx2lang[0]]"
   ]
  },
  {
   "cell_type": "markdown",
   "metadata": {},
   "source": [
    "## Building the Model with PyTorch\n",
    "You will now recreate a PyTorch model with the same architecture as in sklearn."
   ]
  },
  {
   "cell_type": "markdown",
   "metadata": {},
   "source": [
    "### The Model\n",
    "Create a model identical to the one you created with sklearn. Use the same activation function for the hidden layer and no activation in the last layer."
   ]
  },
  {
   "cell_type": "code",
   "execution_count": 68,
   "metadata": {},
   "outputs": [
    {
     "data": {
      "text/plain": [
       "6"
      ]
     },
     "execution_count": 68,
     "metadata": {},
     "output_type": "execute_result"
    }
   ],
   "source": [
    "len(langs)"
   ]
  },
  {
   "cell_type": "code",
   "execution_count": 72,
   "metadata": {},
   "outputs": [],
   "source": [
    "# Write your code here\n",
    "class Model(nn.Module):\n",
    "    def __init__(self, input_dim):\n",
    "        super().__init__()\n",
    "        self.fc1 = nn.Linear(input_dim, 50)\n",
    "        self.fc2 = nn.Linear(50, 6)\n",
    "        \n",
    "    def forward(self, x):\n",
    "        x = torch.relu(self.fc1(x))\n",
    "        x = self.fc2(x)\n",
    "        return x"
   ]
  },
  {
   "cell_type": "code",
   "execution_count": 75,
   "metadata": {},
   "outputs": [
    {
     "data": {
      "text/plain": [
       "Model(\n",
       "  (fc1): Linear(in_features=2583, out_features=50, bias=True)\n",
       "  (fc2): Linear(in_features=50, out_features=6, bias=True)\n",
       ")"
      ]
     },
     "execution_count": 75,
     "metadata": {},
     "output_type": "execute_result"
    }
   ],
   "source": [
    "input_dim = X.shape[1]\n",
    "model = Model(input_dim)\n",
    "model\n"
   ]
  },
  {
   "cell_type": "markdown",
   "metadata": {},
   "source": [
    "Write the loss `loss_fn` and optimizer `optimizer`. As optimizer, use the same as in sklearn. See here: https://scikit-learn.org/stable/modules/generated/sklearn.neural_network.MLPClassifier.html"
   ]
  },
  {
   "cell_type": "code",
   "execution_count": 76,
   "metadata": {},
   "outputs": [],
   "source": [
    "# Write your code here. (The solution is given)\n",
    "loss_fn = nn.CrossEntropyLoss()    # cross entropy loss\n",
    "optimizer = torch.optim.Adam(model.parameters(), lr=0.001)"
   ]
  },
  {
   "cell_type": "markdown",
   "metadata": {},
   "source": [
    "### The data loader"
   ]
  },
  {
   "cell_type": "markdown",
   "metadata": {},
   "source": [
    "We convert the data to tensors"
   ]
  },
  {
   "cell_type": "code",
   "execution_count": 82,
   "metadata": {},
   "outputs": [
    {
     "name": "stderr",
     "output_type": "stream",
     "text": [
      "C:\\Users\\01012\\AppData\\Local\\Temp/ipykernel_8180/4289191614.py:7: UserWarning: Creating a tensor from a list of numpy.ndarrays is extremely slow. Please consider converting the list to a single numpy.ndarray with numpy.array() before converting to a tensor. (Triggered internally at C:\\cb\\pytorch_1000000000000\\work\\torch\\csrc\\utils\\tensor_new.cpp:248.)\n",
      "  X_test = torch.Tensor(X_test)\n"
     ]
    }
   ],
   "source": [
    "X_train = torch.Tensor(X_train)\n",
    "y_train = torch.LongTensor(y_train)\n",
    "\n",
    "X_val = torch.Tensor(X_val)\n",
    "y_val = torch.LongTensor(y_val)\n",
    "\n",
    "X_test = torch.Tensor(X_test)"
   ]
  },
  {
   "cell_type": "code",
   "execution_count": 83,
   "metadata": {},
   "outputs": [],
   "source": [
    "from torch.utils.data import TensorDataset, DataLoader\n",
    "\n",
    "dataset = TensorDataset(X_train, y_train)\n",
    "dataloader = DataLoader(dataset, batch_size=32, shuffle=True)"
   ]
  },
  {
   "cell_type": "code",
   "execution_count": 84,
   "metadata": {},
   "outputs": [
    {
     "data": {
      "text/plain": [
       "Model(\n",
       "  (fc1): Linear(in_features=2583, out_features=50, bias=True)\n",
       "  (fc2): Linear(in_features=50, out_features=6, bias=True)\n",
       ")"
      ]
     },
     "execution_count": 84,
     "metadata": {},
     "output_type": "execute_result"
    }
   ],
   "source": [
    "model.train()"
   ]
  },
  {
   "cell_type": "markdown",
   "metadata": {},
   "source": [
    "Fit your network on your training set. Write a code similar to that seen during the lecture and use five epochs to start with."
   ]
  },
  {
   "cell_type": "code",
   "execution_count": null,
   "metadata": {},
   "outputs": [],
   "source": [
    "# Write your code here\n",
    "for epoch in range(5):\n",
    "    loss_train = 0\n",
    "    for X_batch, y_batch in dataloader:\n",
    "        Y_batch_pred = model(X_batch)\n",
    "        loss = loss_fn(Y_batch_pred, y_batch)\n",
    "        optimizer.zero_grad()\n",
    "        loss.backward()\n",
    "        optimizer.step()\n",
    "        loss_train += loss\n",
    "    print(loss_train)"
   ]
  },
  {
   "cell_type": "markdown",
   "metadata": {},
   "source": [
    "Predict the validation set `X_val` in the form of logits. Call the result: `Y_val_pred_logits`"
   ]
  },
  {
   "cell_type": "code",
   "execution_count": null,
   "metadata": {},
   "outputs": [
    {
     "data": {
      "text/plain": [
       "Model(\n",
       "  (fc1): Linear(in_features=2583, out_features=50, bias=True)\n",
       "  (fc2): Linear(in_features=50, out_features=6, bias=True)\n",
       ")"
      ]
     },
     "execution_count": 82,
     "metadata": {},
     "output_type": "execute_result"
    }
   ],
   "source": [
    "model.eval()"
   ]
  },
  {
   "cell_type": "code",
   "execution_count": null,
   "metadata": {},
   "outputs": [],
   "source": [
    "# Write your code here\n",
    "Y_val_pred_logits = model(X_val)"
   ]
  },
  {
   "cell_type": "code",
   "execution_count": null,
   "metadata": {},
   "outputs": [
    {
     "data": {
      "text/plain": [
       "tensor([[ -5.9929,   6.8918,  -3.0228,  -9.0067,  -4.4374,  -9.8311],\n",
       "        [ -5.7582, -10.4759, -12.6710,  -3.3666,  18.9000, -12.0623],\n",
       "        [ -6.9647,  -9.3725, -22.0371,  22.4224,  -8.4151, -14.8630],\n",
       "        [ -8.7401, -11.8870,  -8.4524,  -2.2943,  16.8711,  -7.5894],\n",
       "        [ -3.7173,  -5.8539,  -5.3409,  -9.7889,  -6.0550,  11.3400]],\n",
       "       grad_fn=<SliceBackward0>)"
      ]
     },
     "execution_count": 84,
     "metadata": {},
     "output_type": "execute_result"
    }
   ],
   "source": [
    "Y_val_pred_logits[:5]"
   ]
  },
  {
   "cell_type": "markdown",
   "metadata": {},
   "source": [
    "Predict the validation set `X_val` in the form of probabilities. Use `torch.softmax()` for that and call the result: `Y_val_pred_proba`"
   ]
  },
  {
   "cell_type": "code",
   "execution_count": null,
   "metadata": {},
   "outputs": [],
   "source": [
    "# Write your code here\n",
    "Y_val_pred_proba = torch.softmax(Y_val_pred_logits, 1)"
   ]
  },
  {
   "cell_type": "code",
   "execution_count": null,
   "metadata": {},
   "outputs": [
    {
     "data": {
      "text/plain": [
       "tensor([[2.5364e-06, 9.9994e-01, 4.9445e-05, 1.2455e-07, 1.2017e-05, 5.4616e-08],\n",
       "        [1.9547e-11, 1.7467e-13, 1.9448e-14, 2.1365e-10, 1.0000e+00, 3.5748e-14],\n",
       "        [1.7271e-13, 1.5547e-14, 4.9143e-20, 1.0000e+00, 4.0500e-14, 6.4144e-17],\n",
       "        [7.5369e-12, 3.2398e-13, 1.0050e-11, 4.7487e-09, 1.0000e+00, 2.3820e-11]],\n",
       "       grad_fn=<SliceBackward0>)"
      ]
     },
     "execution_count": 86,
     "metadata": {},
     "output_type": "execute_result"
    }
   ],
   "source": [
    "Y_val_pred_proba[:4]"
   ]
  },
  {
   "cell_type": "markdown",
   "metadata": {},
   "source": [
    "Extract the categories from the probabilities in `Y_val_pred_proba`. Use the `torch.argmax()` function. Call the result `y_val_pred`. Check that the prediction corresponds to the real values."
   ]
  },
  {
   "cell_type": "code",
   "execution_count": null,
   "metadata": {},
   "outputs": [],
   "source": [
    "# Write your code here\n",
    "y_val_pred = torch.argmax(Y_val_pred_proba, 1)"
   ]
  },
  {
   "cell_type": "code",
   "execution_count": null,
   "metadata": {},
   "outputs": [
    {
     "data": {
      "text/plain": [
       "tensor([1, 4, 3, 4, 5, 1, 2, 0, 2, 3, 4, 1, 0, 5, 0, 0, 5, 5, 0, 0])"
      ]
     },
     "execution_count": 88,
     "metadata": {},
     "output_type": "execute_result"
    }
   ],
   "source": [
    "y_val_pred[:20]"
   ]
  },
  {
   "cell_type": "code",
   "execution_count": null,
   "metadata": {},
   "outputs": [
    {
     "data": {
      "text/plain": [
       "tensor([1, 4, 3, 4, 5, 1, 2, 0, 2, 3, 4, 1, 0, 5, 0, 0, 5, 5, 0, 0])"
      ]
     },
     "execution_count": 89,
     "metadata": {},
     "output_type": "execute_result"
    }
   ],
   "source": [
    "y_val[:20]"
   ]
  },
  {
   "cell_type": "markdown",
   "metadata": {},
   "source": [
    "Print the evaluation"
   ]
  },
  {
   "cell_type": "code",
   "execution_count": null,
   "metadata": {},
   "outputs": [
    {
     "name": "stdout",
     "output_type": "stream",
     "text": [
      "              precision    recall  f1-score   support\n",
      "\n",
      "         dan       0.98      0.98      0.98     10081\n",
      "         swe       0.98      0.98      0.98     10001\n",
      "         eng       0.99      1.00      1.00      9989\n",
      "         jpn       1.00      1.00      1.00      9868\n",
      "         cmn       1.00      1.00      1.00     10027\n",
      "         fra       1.00      1.00      1.00     10034\n",
      "\n",
      "    accuracy                           0.99     60000\n",
      "   macro avg       0.99      0.99      0.99     60000\n",
      "weighted avg       0.99      0.99      0.99     60000\n",
      "\n",
      "Micro F1: 0.9922333333333333\n",
      "Macro F1 0.9922547719497999\n"
     ]
    }
   ],
   "source": [
    "print(classification_report(y_val, y_val_pred, target_names=y_symbols))\n",
    "print('Micro F1:', f1_score(y_val, y_val_pred, average='micro'))\n",
    "print('Macro F1', f1_score(y_val, y_val_pred, average='macro'))"
   ]
  },
  {
   "cell_type": "markdown",
   "metadata": {},
   "source": [
    "Print the confusion matrix"
   ]
  },
  {
   "cell_type": "code",
   "execution_count": null,
   "metadata": {},
   "outputs": [
    {
     "data": {
      "text/plain": [
       "array([[ 9914,   146,    20,     0,     0,     1],\n",
       "       [  167,  9815,    15,     0,     1,     3],\n",
       "       [   15,     6,  9962,     0,     0,     6],\n",
       "       [    0,     0,     0,  9839,    29,     0],\n",
       "       [    3,     2,     1,    14, 10005,     2],\n",
       "       [    6,     5,    24,     0,     0,  9999]])"
      ]
     },
     "execution_count": 91,
     "metadata": {},
     "output_type": "execute_result"
    }
   ],
   "source": [
    "confusion_matrix(y_val, y_val_pred)"
   ]
  },
  {
   "cell_type": "markdown",
   "metadata": {},
   "source": [
    "Predict your languages with PyTorch. Reuse `X_test` and call the result `Y_test_pred_proba`."
   ]
  },
  {
   "cell_type": "code",
   "execution_count": null,
   "metadata": {},
   "outputs": [],
   "source": [
    "# Write your code here\n",
    "Y_test_pred = model(X_test)\n",
    "Y_test_pred_logits = torch.softmax(Y_test_pred, 1)\n",
    "Y_test_pred_proba = torch.argmax(Y_test_pred_logits, 1)"
   ]
  },
  {
   "cell_type": "code",
   "execution_count": null,
   "metadata": {},
   "outputs": [
    {
     "data": {
      "text/plain": [
       "tensor([[1.8276e-07, 6.6974e-07, 1.4123e-07, 1.6559e-09, 2.8414e-08, 1.0000e+00],\n",
       "        [4.1081e-04, 9.9952e-01, 2.4307e-05, 9.6759e-07, 4.6090e-05, 1.8566e-06],\n",
       "        [3.9380e-02, 4.1912e-05, 9.4139e-01, 7.8594e-06, 8.5014e-04, 1.8331e-02],\n",
       "        [9.9818e-01, 1.8032e-03, 7.3723e-08, 9.3494e-07, 1.2838e-05, 9.8474e-07]],\n",
       "       grad_fn=<SoftmaxBackward0>)"
      ]
     },
     "execution_count": 93,
     "metadata": {},
     "output_type": "execute_result"
    }
   ],
   "source": [
    "Y_test_pred_proba"
   ]
  },
  {
   "cell_type": "code",
   "execution_count": null,
   "metadata": {},
   "outputs": [],
   "source": [
    "y_test_lang = Y_test_pred_proba.tolist()\n",
    "y_test_lang"
   ]
  },
  {
   "cell_type": "markdown",
   "metadata": {},
   "source": [
    "From the probabilities, extract the predicted languages and map them to strings. Call the results `pred_languages_pytorch`."
   ]
  },
  {
   "cell_type": "code",
   "execution_count": null,
   "metadata": {},
   "outputs": [],
   "source": [
    "# Write your code here\n",
    "pred_languages_pytorch = [idx2lang[x] for x in y_test_lang]"
   ]
  },
  {
   "cell_type": "code",
   "execution_count": null,
   "metadata": {},
   "outputs": [
    {
     "data": {
      "text/plain": [
       "['fra', 'swe', 'eng', 'dan']"
      ]
     },
     "execution_count": 95,
     "metadata": {},
     "output_type": "execute_result"
    }
   ],
   "source": [
    "pred_languages_pytorch"
   ]
  },
  {
   "cell_type": "markdown",
   "metadata": {},
   "source": [
    "## Turning in your assignment"
   ]
  },
  {
   "cell_type": "markdown",
   "metadata": {},
   "source": [
    "Now your are done with the program. To complete this assignment, you will:\n",
    "1. Write a short individual report on your program. Do not forget to:\n",
    "   * Summarize CLD3 and outline its architecture\n",
    "   * Identify the features used by CLD3\n",
    "   * Describe your architecture and tell how it is different from CLD3\n",
    "   * Include the feature matrix you computed manually\n",
    "   * Outline the differences between sklearn and PyTorch\n",
    "\n",
    "Submit your report as well as your notebook (for archiving purposes) to Canvas: https://canvas.education.lu.se/. To write your report, you can either\n",
    "1. Write directly your text in Canvas, or\n",
    "2. Use Latex and Overleaf (www.overleaf.com). This will probably help you structure your text. You will then upload a PDF file in Canvas.\n",
    "\n",
    "The submission deadline is October 6, 2023."
   ]
  },
  {
   "cell_type": "markdown",
   "metadata": {},
   "source": [
    "## Postscript from Pierre Nugues"
   ]
  },
  {
   "cell_type": "markdown",
   "metadata": {},
   "source": [
    "I created this assignment from an examination I wrote in 2019 for the course on applied machine learning. I simplified it from the `README.md` on GitHub, https://github.com/google/cld3. I found the C++ code difficult to understand and I reimplemented a Keras/Tensorflow version of it from this `README`. Should you be interested, you can find it here: https://github.com/pnugues/language-detector."
   ]
  },
  {
   "cell_type": "code",
   "execution_count": null,
   "metadata": {},
   "outputs": [],
   "source": []
  }
 ],
 "metadata": {
  "kernelspec": {
   "display_name": "Python 3.9.12 ('base')",
   "language": "python",
   "name": "python3"
  },
  "language_info": {
   "codemirror_mode": {
    "name": "ipython",
    "version": 3
   },
   "file_extension": ".py",
   "mimetype": "text/x-python",
   "name": "python",
   "nbconvert_exporter": "python",
   "pygments_lexer": "ipython3",
   "version": "3.9.7"
  },
  "vscode": {
   "interpreter": {
    "hash": "b97b11a820675205aae8f1d7f2a3f22bbd3a2c30189f44042310baf5b4cd1987"
   }
  }
 },
 "nbformat": 4,
 "nbformat_minor": 4
}
